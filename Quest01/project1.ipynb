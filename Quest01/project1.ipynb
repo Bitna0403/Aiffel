{
 "cells": [
  {
   "cell_type": "code",
   "execution_count": 1,
   "id": "1439f4db",
   "metadata": {},
   "outputs": [],
   "source": [
    "import pandas as pd\n",
    "import seaborn as sns\n",
    "import matplotlib.pyplot as plt\n",
    "import numpy as np\n",
    "from sklearn.datasets import load_diabetes\n",
    "from sklearn.model_selection import train_test_split"
   ]
  },
  {
   "cell_type": "code",
   "execution_count": 2,
   "id": "55320ed2",
   "metadata": {},
   "outputs": [],
   "source": [
    "diabetes = load_diabetes()"
   ]
  },
  {
   "cell_type": "code",
   "execution_count": 3,
   "id": "855c4524",
   "metadata": {
    "scrolled": true
   },
   "outputs": [
    {
     "name": "stdout",
     "output_type": "stream",
     "text": [
      "df_X shape: (442, 10)\n",
      "df_y shape: (442,)\n"
     ]
    }
   ],
   "source": [
    "df_X = pd.DataFrame(data=diabetes.data, columns=diabetes.feature_names)\n",
    "df_y = pd.Series(data=diabetes.target, name='target')\n",
    "print(\"df_X shape:\", df_X.shape)\n",
    "print(\"df_y shape:\", df_y.shape)"
   ]
  },
  {
   "cell_type": "code",
   "execution_count": 4,
   "id": "b3e795c8",
   "metadata": {},
   "outputs": [
    {
     "name": "stdout",
     "output_type": "stream",
     "text": [
      "X_array shape: (442, 10)\n",
      "y_array shape: (442, 10)\n"
     ]
    }
   ],
   "source": [
    "X_array = df_X.values\n",
    "y_array = df_y.values\n",
    "print(\"X_array shape:\", X_array.shape)\n",
    "print(\"y_array shape:\", X_array.shape)"
   ]
  },
  {
   "cell_type": "code",
   "execution_count": 5,
   "id": "af401e29",
   "metadata": {},
   "outputs": [
    {
     "name": "stdout",
     "output_type": "stream",
     "text": [
      "X_train shape: (353, 10)\n",
      "X_test shape: (89, 10)\n",
      "y_train shape: (353,)\n",
      "y_test shape: (89,)\n"
     ]
    }
   ],
   "source": [
    "X_train, X_test, y_train, y_test = train_test_split(X_array, y_array, test_size=0.2, random_state=42)\n",
    "print(\"X_train shape:\", X_train.shape)\n",
    "print(\"X_test shape:\", X_test.shape)\n",
    "print(\"y_train shape:\", y_train.shape)\n",
    "print(\"y_test shape:\", y_test.shape)"
   ]
  },
  {
   "cell_type": "code",
   "execution_count": 6,
   "id": "ae20350d",
   "metadata": {},
   "outputs": [],
   "source": [
    "W = np.random.rand(10)\n",
    "b = np.random.rand()"
   ]
  },
  {
   "cell_type": "code",
   "execution_count": 7,
   "id": "8926899f",
   "metadata": {},
   "outputs": [],
   "source": [
    "def model(X, W, b):\n",
    "    predictions = 0\n",
    "    for i in range(10):\n",
    "        predictions += X[:, i] * W[i]\n",
    "    predictions += b\n",
    "    return predictions"
   ]
  },
  {
   "cell_type": "code",
   "execution_count": 8,
   "id": "fd8b2a42",
   "metadata": {},
   "outputs": [],
   "source": [
    "def MSE(a, b):\n",
    "    mse = ((a - b) ** 2).mean()\n",
    "    return mse"
   ]
  },
  {
   "cell_type": "code",
   "execution_count": 9,
   "id": "48d3b658",
   "metadata": {},
   "outputs": [],
   "source": [
    "def loss(X, W, b, y):\n",
    "    predictions = model(X, W, b)\n",
    "    L = MSE(predictions, y)\n",
    "    return L"
   ]
  },
  {
   "cell_type": "code",
   "execution_count": 10,
   "id": "4bad41f3",
   "metadata": {},
   "outputs": [],
   "source": [
    "def gradient(X, W, b, y):\n",
    "    # N은 데이터 포인트의 개수\n",
    "    N = len(y)\n",
    "\n",
    "    # y_pred 준비\n",
    "    y_pred = model(X, W, b)\n",
    "\n",
    "    # 공식에 맞게 gradient 계산\n",
    "    dW = 1/N * 2 * X.T.dot(y_pred - y)\n",
    "\n",
    "    # b의 gradient 계산\n",
    "    db = 2 * (y_pred - y).mean()\n",
    "    return dW, db"
   ]
  },
  {
   "cell_type": "code",
   "execution_count": 11,
   "id": "e185231a",
   "metadata": {},
   "outputs": [
    {
     "name": "stdout",
     "output_type": "stream",
     "text": [
      "Iteration 100 : Loss 5561.7732\n",
      "Iteration 200 : Loss 5159.4721\n",
      "Iteration 300 : Loss 4834.1218\n",
      "Iteration 400 : Loss 4569.4498\n",
      "Iteration 500 : Loss 4352.7487\n",
      "Iteration 600 : Loss 4174.0861\n",
      "Iteration 700 : Loss 4025.6900\n",
      "Iteration 800 : Loss 3901.4707\n",
      "Iteration 900 : Loss 3796.6497\n",
      "Iteration 1000 : Loss 3707.4703\n",
      "Iteration 1100 : Loss 3630.9734\n",
      "Iteration 1200 : Loss 3564.8219\n",
      "Iteration 1300 : Loss 3507.1653\n",
      "Iteration 1400 : Loss 3456.5336\n",
      "Iteration 1500 : Loss 3411.7545\n",
      "Iteration 1600 : Loss 3371.8894\n",
      "Iteration 1700 : Loss 3336.1835\n",
      "Iteration 1800 : Loss 3304.0261\n",
      "Iteration 1900 : Loss 3274.9207\n",
      "Iteration 2000 : Loss 3248.4611\n",
      "Iteration 2100 : Loss 3224.3124\n",
      "Iteration 2200 : Loss 3202.1967\n",
      "Iteration 2300 : Loss 3181.8819\n",
      "Iteration 2400 : Loss 3163.1720\n",
      "Iteration 2500 : Loss 3145.9008\n",
      "Iteration 2600 : Loss 3129.9260\n",
      "Iteration 2700 : Loss 3115.1247\n",
      "Iteration 2800 : Loss 3101.3902\n",
      "Iteration 2900 : Loss 3088.6289\n",
      "Iteration 3000 : Loss 3076.7584\n",
      "Iteration 3100 : Loss 3065.7054\n",
      "Iteration 3200 : Loss 3055.4046\n",
      "Iteration 3300 : Loss 3045.7975\n",
      "Iteration 3400 : Loss 3036.8310\n",
      "Iteration 3500 : Loss 3028.4573\n",
      "Iteration 3600 : Loss 3020.6329\n",
      "Iteration 3700 : Loss 3013.3179\n",
      "Iteration 3800 : Loss 3006.4760\n",
      "Iteration 3900 : Loss 3000.0738\n",
      "Iteration 4000 : Loss 2994.0807\n",
      "Iteration 4100 : Loss 2988.4683\n",
      "Iteration 4200 : Loss 2983.2107\n",
      "Iteration 4300 : Loss 2978.2836\n",
      "Iteration 4400 : Loss 2973.6647\n",
      "Iteration 4500 : Loss 2969.3334\n",
      "Iteration 4600 : Loss 2965.2705\n",
      "Iteration 4700 : Loss 2961.4582\n",
      "Iteration 4800 : Loss 2957.8800\n",
      "Iteration 4900 : Loss 2954.5204\n"
     ]
    }
   ],
   "source": [
    "LEARNING_RATE = 0.07\n",
    "losses = []\n",
    "\n",
    "for i in range(1, 5000):\n",
    "    dW, db = gradient(X_train, W, b, y_train)\n",
    "    W -= LEARNING_RATE * dW\n",
    "    b -= LEARNING_RATE * db\n",
    "    L = loss(X_train, W, b, y_train)\n",
    "    losses.append(L)\n",
    "    if i % 100 == 0:\n",
    "        print('Iteration %d : Loss %0.4f' % (i, L))"
   ]
  },
  {
   "cell_type": "code",
   "execution_count": 12,
   "id": "d181e742",
   "metadata": {},
   "outputs": [
    {
     "data": {
      "image/png": "[encoded data removed]",
      "text/plain": [
       "<Figure size 432x288 with 1 Axes>"
      ]
     },
     "metadata": {
      "needs_background": "light"
     },
     "output_type": "display_data"
    }
   ],
   "source": [
    "plt.plot(losses)\n",
    "plt.show()"
   ]
  },
  {
   "cell_type": "code",
   "execution_count": 13,
   "id": "324fbd94",
   "metadata": {},
   "outputs": [
    {
     "name": "stdout",
     "output_type": "stream",
     "text": [
      "2865.8745859157802\n",
      "53.53386391729799\n"
     ]
    }
   ],
   "source": [
    "prediction = model(X_test, W, b)\n",
    "mse = loss(X_test, W, b, y_test)\n",
    "print(mse) #MSE 값\n",
    "print(np.sqrt(mse)) #RMSE 값"
   ]
  },
  {
   "cell_type": "code",
   "execution_count": 14,
   "id": "ed12a0aa",
   "metadata": {},
   "outputs": [
    {
     "data": {
      "image/png": "[encoded data removed]",
      "text/plain": [
       "<Figure size 432x288 with 1 Axes>"
      ]
     },
     "metadata": {
      "needs_background": "light"
     },
     "output_type": "display_data"
    }
   ],
   "source": [
    "plt.title('Result of prediction')\n",
    "plt.scatter(X_test[:, 0], y_test)\n",
    "plt.scatter(X_test[:, 0], prediction)\n",
    "plt.show()"
   ]
  },
  {
   "cell_type": "markdown",
   "id": "2bee3d42",
   "metadata": {},
   "source": [
    "회고\n",
    "\n",
    "서론\n",
    "데이터셋의 주제는 sklearn의 diabetes(당뇨병) 데이터로 당뇨를 예측하는 것입니다.\n",
    "\n",
    "개발 과정\n",
    "예측 모델을 만든 후 손실함수와 기울기 함수로 모델을 학습하여 loss값을 3000이하로 만들고  통해 모델 성능 결과를 확인하고 그래프로 시각화하여 확인해봅니다.\n",
    "\n",
    "결과 및 토론\n",
    "LEARNING_RATE = 0.07로 설정하고 5000번을 돌렸을 때 loss값이 2901까지 떨어졌습니다. learning rate가 낮고 학습 횟수가 낮을수록 loss값이 떨어지는 폭이 작아 3000에 도달하기 힘들어서 값을 높혀가며 변화시켰을 때 이러한 결과를 확인할 수 있었습니다.\n",
    "\n",
    "배운 점 및 회고\n",
    "라이브러리를 사용하지 않고 수학 수식을 코드화하여 학습을 진행해보았고 더욱 더 자세하게 선형회귀에 대해 이해해볼 수 있는 좋은 기회가 되었습니다. 하지만 시각화시킨 그래프의 결과가 좋은 것 같지 않아서 아쉬움이 많이 남았습니다. 이에 대한 공부가 더 필요할 것 같습니다."
   ]
  }
 ],
 "metadata": {
  "kernelspec": {
   "display_name": "Python 3 (ipykernel)",
   "language": "python",
   "name": "python3"
  },
  "language_info": {
   "codemirror_mode": {
    "name": "ipython",
    "version": 3
   },
   "file_extension": ".py",
   "mimetype": "text/x-python",
   "name": "python",
   "nbconvert_exporter": "python",
   "pygments_lexer": "ipython3",
   "version": "3.9.7"
  }
 },
 "nbformat": 4,
 "nbformat_minor": 5
}
