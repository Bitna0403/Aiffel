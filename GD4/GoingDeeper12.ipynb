{
 "cells": [
  {
   "cell_type": "markdown",
   "id": "9daca1f0",
   "metadata": {},
   "source": [
    "# 12-1. 프로젝트: 한영 번역기 만들기"
   ]
  },
  {
   "cell_type": "markdown",
   "id": "b176d209",
   "metadata": {},
   "source": [
    "루브릭\n",
    "아래의 기준을 바탕으로 프로젝트를 평가합니다.\n",
    "평가문항\t상세기준\n",
    "1. 번역기 모델 학습에 필요한 텍스트 데이터 전처리가 한국어 포함하여 잘 이루어졌다.\t구두점, 대소문자, 띄어쓰기, 한글 형태소분석 등 번역기 모델에 요구되는 전처리가 정상적으로 진행되었다.\n",
    "2. Attentional Seq2seq 모델이 정상적으로 구동된다.\tseq2seq 모델 훈련 과정에서 training loss가 안정적으로 떨어지면서 학습이 진행됨이 확인되었다.\n",
    "3. 테스트 결과 의미가 통하는 수준의 번역문이 생성되었다.\t테스트용 디코더 모델이 정상적으로 만들어져서, 정답과 어느 정도 유사한 영어 번역이 진행됨을 확인하였다."
   ]
  },
  {
   "cell_type": "code",
   "execution_count": 1,
   "id": "e7982816",
   "metadata": {},
   "outputs": [
    {
     "name": "stdout",
     "output_type": "stream",
     "text": [
      "1.3.3\n",
      "2.6.0\n",
      "3.4.3\n"
     ]
    }
   ],
   "source": [
    "import pandas\n",
    "import tensorflow\n",
    "import matplotlib\n",
    "import os\n",
    "import re\n",
    "import tarfile\n",
    "import pandas as pd\n",
    "import matplotlib.pyplot as plt\n",
    "import numpy as np\n",
    "import tensorflow as tf\n",
    "\n",
    "print(pandas.__version__)\n",
    "print(tensorflow.__version__)\n",
    "print(matplotlib.__version__)"
   ]
  },
  {
   "cell_type": "markdown",
   "id": "492ba729",
   "metadata": {},
   "source": [
    "## Step 1. 데이터 다운로드\n",
    "korean-english-park.train.tar.gz 를 다운로드 받아 한영 병렬 데이터를 확보합니다."
   ]
  },
  {
   "cell_type": "code",
   "execution_count": 2,
   "id": "bc69ac2f",
   "metadata": {},
   "outputs": [
    {
     "name": "stdout",
     "output_type": "stream",
     "text": [
      "/aiffel/aiffel\n"
     ]
    }
   ],
   "source": [
    "file_path = os.getenv('HOME')+'/aiffel'\n",
    "print(file_path)"
   ]
  },
  {
   "cell_type": "code",
   "execution_count": 3,
   "id": "a6d79b26",
   "metadata": {},
   "outputs": [],
   "source": [
    "archive = tarfile.open(\"korean-english-park.train.tar.gz\")\n",
    "archive.extractall(\"dataset\")\n",
    "archive.close()"
   ]
  },
  {
   "cell_type": "code",
   "execution_count": 4,
   "id": "715d2eb5",
   "metadata": {},
   "outputs": [],
   "source": [
    "kor_file = os.path.join(file_path, \"dataset/korean-english-park.train.ko\")\n",
    "eng_file = os.path.join(file_path, \"dataset/korean-english-park.train.en\")"
   ]
  },
  {
   "cell_type": "code",
   "execution_count": 5,
   "id": "fff2c31d",
   "metadata": {},
   "outputs": [],
   "source": [
    "with open(kor_file, \"r\") as f:\n",
    "    kor_raw = f.read().splitlines()\n",
    "    \n",
    "with open(eng_file, \"r\") as f:\n",
    "    eng_raw = f.read().splitlines()\n",
    "    \n",
    "dataset = pd.DataFrame(zip(kor_raw, eng_raw), columns=[\"kor\", \"eng\"])"
   ]
  },
  {
   "cell_type": "code",
   "execution_count": 6,
   "id": "001094e9",
   "metadata": {},
   "outputs": [
    {
     "data": {
      "text/html": [
       "<div>\n",
       "<style scoped>\n",
       "    .dataframe tbody tr th:only-of-type {\n",
       "        vertical-align: middle;\n",
       "    }\n",
       "\n",
       "    .dataframe tbody tr th {\n",
       "        vertical-align: top;\n",
       "    }\n",
       "\n",
       "    .dataframe thead th {\n",
       "        text-align: right;\n",
       "    }\n",
       "</style>\n",
       "<table border=\"1\" class=\"dataframe\">\n",
       "  <thead>\n",
       "    <tr style=\"text-align: right;\">\n",
       "      <th></th>\n",
       "      <th>kor</th>\n",
       "      <th>eng</th>\n",
       "    </tr>\n",
       "  </thead>\n",
       "  <tbody>\n",
       "    <tr>\n",
       "      <th>2129</th>\n",
       "      <td>체첸에 가면 흔적 없이 사라져 버릴 수도 있다\"고 말했다.</td>\n",
       "      <td>``There in Chechnya, I could simply disappear.’</td>\n",
       "    </tr>\n",
       "    <tr>\n",
       "      <th>47244</th>\n",
       "      <td>한편 영국 국방부는 헬만 남부지역에서 일어난 로켓 공격으로 2명의 영국 병사가 사망...</td>\n",
       "      <td>Separately, the British Ministry of Defence an...</td>\n",
       "    </tr>\n",
       "    <tr>\n",
       "      <th>78484</th>\n",
       "      <td>샌프란시스코에서는, 저스틴 허먼 플라자에서 열리기로 되어 있던 해변가의 폐막식이 안...</td>\n",
       "      <td>In San Francisco, a planned waterfront closing...</td>\n",
       "    </tr>\n",
       "    <tr>\n",
       "      <th>68200</th>\n",
       "      <td>더 내려야 하는 이유</td>\n",
       "      <td>Draft likely to be reduced</td>\n",
       "    </tr>\n",
       "    <tr>\n",
       "      <th>5398</th>\n",
       "      <td>성 조지 성당에서의 개인 추도 예배와 매장으로 일반 국민 애도의 날은 끝이 났다.</td>\n",
       "      <td>The private committal service and interment at...</td>\n",
       "    </tr>\n",
       "  </tbody>\n",
       "</table>\n",
       "</div>"
      ],
      "text/plain": [
       "                                                     kor  \\\n",
       "2129                    체첸에 가면 흔적 없이 사라져 버릴 수도 있다\"고 말했다.   \n",
       "47244  한편 영국 국방부는 헬만 남부지역에서 일어난 로켓 공격으로 2명의 영국 병사가 사망...   \n",
       "78484  샌프란시스코에서는, 저스틴 허먼 플라자에서 열리기로 되어 있던 해변가의 폐막식이 안...   \n",
       "68200                                        더 내려야 하는 이유   \n",
       "5398       성 조지 성당에서의 개인 추도 예배와 매장으로 일반 국민 애도의 날은 끝이 났다.   \n",
       "\n",
       "                                                     eng  \n",
       "2129     ``There in Chechnya, I could simply disappear.’  \n",
       "47244  Separately, the British Ministry of Defence an...  \n",
       "78484  In San Francisco, a planned waterfront closing...  \n",
       "68200                         Draft likely to be reduced  \n",
       "5398   The private committal service and interment at...  "
      ]
     },
     "execution_count": 6,
     "metadata": {},
     "output_type": "execute_result"
    }
   ],
   "source": [
    "dataset.sample(5)"
   ]
  },
  {
   "cell_type": "markdown",
   "id": "54eca817",
   "metadata": {},
   "source": [
    "전체 길이, 총 샘플 수"
   ]
  },
  {
   "cell_type": "code",
   "execution_count": 7,
   "id": "7f09ed82",
   "metadata": {},
   "outputs": [
    {
     "name": "stdout",
     "output_type": "stream",
     "text": [
      "korean data size: 94123\n",
      "english data size: 94123\n"
     ]
    }
   ],
   "source": [
    "print('korean data size:', len(kor_raw))\n",
    "print('english data size:', len(eng_raw))"
   ]
  },
  {
   "cell_type": "code",
   "execution_count": 8,
   "id": "f7cae5e6",
   "metadata": {},
   "outputs": [],
   "source": [
    "raw_corpus = []\n",
    "for kc, ec in zip(kor_raw, eng_raw):\n",
    "    raw_corpus.append((kc.lower().strip(), ec.lower().strip()))"
   ]
  },
  {
   "cell_type": "code",
   "execution_count": 9,
   "id": "705a848b",
   "metadata": {},
   "outputs": [
    {
     "name": "stdout",
     "output_type": "stream",
     "text": [
      "Data Size: 78941\n"
     ]
    }
   ],
   "source": [
    "cleaned_corpus = list(set(raw_corpus))\n",
    "print(\"Data Size:\", len(cleaned_corpus))"
   ]
  },
  {
   "cell_type": "code",
   "execution_count": 10,
   "id": "9780f926",
   "metadata": {},
   "outputs": [],
   "source": [
    "kor_raw = list(set(kor_raw))\n",
    "eng_raw = list(set(eng_raw))"
   ]
  },
  {
   "cell_type": "markdown",
   "id": "91eb76cf",
   "metadata": {},
   "source": [
    "중복 제거가 되었다! 그래서 한국어 데이터는 77591개, 그리고 영어 데이터는 75598개가 되었다."
   ]
  },
  {
   "cell_type": "code",
   "execution_count": 11,
   "id": "1c0e15b8",
   "metadata": {},
   "outputs": [
    {
     "name": "stdout",
     "output_type": "stream",
     "text": [
      "korean data size: 77591\n",
      "English data size: 75598\n"
     ]
    }
   ],
   "source": [
    "print('korean data size:', len(kor_raw))\n",
    "print('English data size:', len(eng_raw))"
   ]
  },
  {
   "cell_type": "markdown",
   "id": "c689597b",
   "metadata": {},
   "source": [
    "제일 긴 데이터 길이는 377이며 평균적인 데이터의 길이는 60이다."
   ]
  },
  {
   "cell_type": "code",
   "execution_count": 12,
   "id": "95e00031",
   "metadata": {},
   "outputs": [
    {
     "name": "stdout",
     "output_type": "stream",
     "text": [
      "Korean data size :377\n",
      "Average of Korean data size :64.53810364604142\n"
     ]
    },
    {
     "data": {
      "image/png": "[encoded data removed]",
      "text/plain": [
       "<Figure size 432x288 with 1 Axes>"
      ]
     },
     "metadata": {
      "needs_background": "light"
     },
     "output_type": "display_data"
    }
   ],
   "source": [
    "print('Korean data size :{}'.format(max(len(l) for l in kor_raw)))\n",
    "print('Average of Korean data size :{}'.format(sum(map(len, kor_raw))/len(kor_raw)))\n",
    "\n",
    "plt.hist([len(s) for s in kor_raw], bins=50)\n",
    "plt.title(\"Sentence Length Distribution\")\n",
    "plt.show()"
   ]
  },
  {
   "cell_type": "markdown",
   "id": "0f320e6b",
   "metadata": {},
   "source": [
    "길이가 1인 데이터에 '가 있다.. 노이즈가 있는 데이터인 것을 알 수 있다."
   ]
  },
  {
   "cell_type": "code",
   "execution_count": 13,
   "id": "f97b295a",
   "metadata": {},
   "outputs": [
    {
     "name": "stdout",
     "output_type": "stream",
     "text": [
      "’\n"
     ]
    }
   ],
   "source": [
    "def check_sentence_with_length(kor_raw, length):\n",
    "    count = 0\n",
    "    \n",
    "    for sen in kor_raw:\n",
    "        if len(sen) == length:\n",
    "            print(sen)\n",
    "            count += 1\n",
    "            if count > 100: return\n",
    "\n",
    "check_sentence_with_length(kor_raw, 1)"
   ]
  },
  {
   "cell_type": "markdown",
   "id": "6b37c4c4",
   "metadata": {},
   "source": [
    "데이터 길이를 잘라내보자."
   ]
  },
  {
   "cell_type": "code",
   "execution_count": 14,
   "id": "bef0da3d",
   "metadata": {},
   "outputs": [
    {
     "data": {
      "image/png": "[encoded data removed]",
      "text/plain": [
       "<Figure size 432x288 with 1 Axes>"
      ]
     },
     "metadata": {
      "needs_background": "light"
     },
     "output_type": "display_data"
    }
   ],
   "source": [
    "#max_len = 250\n",
    "#min_len = 10\n",
    "\n",
    "# 길이 조건에 맞는 문장만 선택합니다.\n",
    "#filtered_corpus_kor = [s for s in kor_raw if (len(s) < max_len) & (len(s) >= min_len)]\n",
    "\n",
    "# 분포도를 다시 그려봅니다.\n",
    "#sentence_length = np.zeros((max_len), dtype=int)\n",
    "\n",
    "#for sen in filtered_corpus_kor:\n",
    "#    sentence_length[len(sen)-1] += 1\n",
    "\n",
    "#plt.bar(range(max_len), sentence_length, width=1.0)\n",
    "#plt.title(\"Sentence Length Distribution\")\n",
    "#plt.show()"
   ]
  },
  {
   "cell_type": "markdown",
   "id": "c3981928",
   "metadata": {},
   "source": [
    "영어 데이터도 확인해보자"
   ]
  },
  {
   "cell_type": "code",
   "execution_count": 15,
   "id": "6485bbef",
   "metadata": {},
   "outputs": [
    {
     "name": "stdout",
     "output_type": "stream",
     "text": [
      "English data size :605\n",
      "Average of English data size :134.5200534405672\n"
     ]
    },
    {
     "data": {
      "image/png": "[encoded data removed]",
      "text/plain": [
       "<Figure size 432x288 with 1 Axes>"
      ]
     },
     "metadata": {
      "needs_background": "light"
     },
     "output_type": "display_data"
    }
   ],
   "source": [
    "print('English data size :{}'.format(max(len(l) for l in eng_raw)))\n",
    "print('Average of English data size :{}'.format(sum(map(len, eng_raw))/len(eng_raw)))\n",
    "\n",
    "plt.hist([len(s) for s in eng_raw], bins=50)\n",
    "plt.title(\"Sentence Length Distribution\")\n",
    "plt.show()"
   ]
  },
  {
   "cell_type": "markdown",
   "id": "acc141c3",
   "metadata": {},
   "source": [
    "역시나 노이즈가 많다."
   ]
  },
  {
   "cell_type": "code",
   "execution_count": 16,
   "id": "6218c148",
   "metadata": {},
   "outputs": [
    {
     "name": "stdout",
     "output_type": "stream",
     "text": [
      "\"\n",
      "·\n",
      ".\n"
     ]
    }
   ],
   "source": [
    "check_sentence_with_length(eng_raw, 1)"
   ]
  },
  {
   "cell_type": "code",
   "execution_count": 17,
   "id": "84bd5b2f",
   "metadata": {
    "scrolled": true
   },
   "outputs": [
    {
     "data": {
      "image/png": "[encoded data removed]",
      "text/plain": [
       "<Figure size 432x288 with 1 Axes>"
      ]
     },
     "metadata": {
      "needs_background": "light"
     },
     "output_type": "display_data"
    }
   ],
   "source": [
    "#max_len = 250\n",
    "#min_len = 10\n",
    "\n",
    "# 길이 조건에 맞는 문장만 선택합니다.\n",
    "#filtered_corpus_eng = [s for s in eng_raw if (len(s) < max_len) & (len(s) >= min_len)]\n",
    "\n",
    "# 분포도를 다시 그려봅니다.\n",
    "#sentence_length = np.zeros((max_len), dtype=int)\n",
    "\n",
    "#for sen in filtered_corpus_eng:\n",
    "#    sentence_length[len(sen)-1] += 1\n",
    "\n",
    "#plt.bar(range(max_len), sentence_length, width=1.0)\n",
    "#plt.title(\"Sentence Length Distribution\")\n",
    "#plt.show()"
   ]
  },
  {
   "cell_type": "code",
   "execution_count": 18,
   "id": "3398a5a4",
   "metadata": {},
   "outputs": [
    {
     "name": "stdout",
     "output_type": "stream",
     "text": [
      "77388\n"
     ]
    }
   ],
   "source": [
    "#print(len(filtered_corpus_kor))"
   ]
  },
  {
   "cell_type": "code",
   "execution_count": 19,
   "id": "c53e79f7",
   "metadata": {},
   "outputs": [
    {
     "name": "stdout",
     "output_type": "stream",
     "text": [
      "72584\n"
     ]
    }
   ],
   "source": [
    "#print(len(filtered_corpus_eng))"
   ]
  },
  {
   "cell_type": "markdown",
   "id": "db890fb4",
   "metadata": {},
   "source": [
    "불필요한 데이터들을 잘라내었다. 이제 노이즈를 제거해주자."
   ]
  },
  {
   "cell_type": "code",
   "execution_count": 41,
   "id": "ae17a600",
   "metadata": {},
   "outputs": [],
   "source": [
    "import re\n",
    "\n",
    "def preprocess_sentence(sentence, is_english=False):\n",
    "    sentence = sentence.lower().strip()\n",
    "\n",
    "    sentence = re.sub(r\"([?.!,])\", r\" \\1 \", sentence)\n",
    "    sentence = re.sub(r'[\" \"]+', \" \", sentence)\n",
    "    sentence = re.sub(r\"[^a-zA-Z?.!,가-힣ㄱ-ㅎㅏ-ㅣ]+\", \" \", sentence) \n",
    "\n",
    "    sentence = sentence.strip()\n",
    "\n",
    "    if is_english:\n",
    "        sentence = '<start> ' + sentence\n",
    "\n",
    "    if is_english:\n",
    "        sentence += ' <end>'\n",
    "    \n",
    "    return sentence"
   ]
  },
  {
   "cell_type": "markdown",
   "id": "4be463ce",
   "metadata": {},
   "source": [
    "kor_corpus, eng_corpus 리스트를 만들어주고 중복 제거한 cleaned_corpus를 문장으로 보여지게 해준다!"
   ]
  },
  {
   "cell_type": "code",
   "execution_count": 21,
   "id": "bdb123c8",
   "metadata": {},
   "outputs": [
    {
     "name": "stdout",
     "output_type": "stream",
     "text": [
      "Korean: 미국 국무성 대변인 톰 케이시는 버마 정권과 그 활동에 대한 우리의 우려를 매우 솔직하게 논의한 자리였다 고 밝혔다 .\n",
      "English: <start> us state department spokesman tom casey said it was a very frank discussion of our concerns about the regime , about its behavior . <end>\n"
     ]
    }
   ],
   "source": [
    "kor_corpus = []\n",
    "eng_corpus = []\n",
    "\n",
    "for sentence in cleaned_corpus:\n",
    "    ko_sen, en_sen = sentence\n",
    "    kor_corpus.append(preprocess_sentence(ko_sen))\n",
    "    eng_corpus.append(preprocess_sentence(en_sen, is_english=True))\n",
    "    \n",
    "print(\"Korean:\", kor_corpus[100])\n",
    "print(\"English:\", eng_corpus[100])\n"
   ]
  },
  {
   "cell_type": "markdown",
   "id": "53a1d862",
   "metadata": {},
   "source": [
    "결과가 나쁘지 않다! 여기까지 오는데도 정말 머나먼 과정이였다.. 전처리 어떤 부분이 문제인진 모르겠으나 corpus를 언제 합쳐서 전처리하냐에 따라 문장이 뒤죽박죽 섞여서 출력되기도 했다.."
   ]
  },
  {
   "cell_type": "code",
   "execution_count": 22,
   "id": "220c83f9",
   "metadata": {},
   "outputs": [
    {
     "data": {
      "text/plain": [
       "['이밖에 이슬라마바드와 라왈비니에서는 시위 현장으로 가던 변호사 명이 경찰에 체포됐다 .',\n",
       " '중국에는 인구 백만 이상의 도시들이 개 있다 .',\n",
       " '양측이 핵시설 불능화를 위한 실무 수준의 단계까지 합의를 마쳤다고 , 이름이 밝혀지지 않은 북한 외무부 대변인이 국영 북한 중앙 통신사에 전했다 .',\n",
       " '그러나 로마가 멋진 승리를 위한 경기를 계속 이끌어 나가면서 첼시는 분에 데코가 경고로 퇴장한 조건에서 결코 전세를 바꿀 수 없었다 .',\n",
       " '한나라당에서는 또한 노대통령의 강연을 주최한 단체인 참여정부 평가 포럼이 선거 운동 이전에 구성되는 것이 법적으로 금지된 선거 운동 단체라고 주장했다 .',\n",
       " '무샤라프 대통령은 군중 명이 사망한 자살폭탄 테러 후에도 부토 전 총리가 타고 있던 차량 내부 사람은 아무도 다치지 않았다고 말했다 .',\n",
       " '이것의 중력은 행성들이 궤도를 벗어나지 않도록 만들어준다 .',\n",
       " '고객이 제품을 반납할 경우 환불 해줄 예정이다 .',\n",
       " '한편 본즈는 현재 약물복용 의혹을 받고 있다 .',\n",
       " '후앙 리는 일 향강에서 강의 흐름을 따라 . km이상 되는 거리를 수영했다 .']"
      ]
     },
     "execution_count": 22,
     "metadata": {},
     "output_type": "execute_result"
    }
   ],
   "source": [
    "kor_corpus[:10]"
   ]
  },
  {
   "cell_type": "code",
   "execution_count": 23,
   "id": "8f380aef",
   "metadata": {},
   "outputs": [
    {
     "data": {
      "text/plain": [
       "['<start> another lawyers were arrested in islamabad and rawalbini as they gathered for a demonstration , police said . <end>',\n",
       " '<start> there are cities in china with populations over m . <end>',\n",
       " '<start> the two sides agreed on working level steps to disable the nuclear facilities , an unnamed spokesman for north korea s foreign ministry told the state run korean central news agency . <end>',\n",
       " '<start> but they never looked capable of getting back on even terms as roma held on for a famous victory , made easier by the sending off on minutes of deco , who was sent off for a second yellow card . <end>',\n",
       " '<start> the party also claimed that the group that hosted roh s lecture , the participatory government evaluation forum , was a campaign organization that the election law prohibits from being formed prior to the beginning of the campaign . <end>',\n",
       " '<start> musharraf pointed out that no one else in the vehicle was injured when gunshots rang out , followed by suicide blast that killed nearly two dozen people in the crowd . <end>',\n",
       " '<start> its gravitational pull keeps planets in orbit around it . <end>',\n",
       " '<start> refunds are being offered if customers return the products . <end>',\n",
       " '<start> a doping controversy has nagged bonds . <end>',\n",
       " '<start> huang li swam more than a mile in the xiang river on tuesday , traveling with the current , her father said . <end>']"
      ]
     },
     "execution_count": 23,
     "metadata": {},
     "output_type": "execute_result"
    }
   ],
   "source": [
    "eng_corpus[:10]"
   ]
  },
  {
   "cell_type": "code",
   "execution_count": 24,
   "id": "1e3a6963",
   "metadata": {},
   "outputs": [
    {
     "data": {
      "text/plain": [
       "78941"
      ]
     },
     "execution_count": 24,
     "metadata": {},
     "output_type": "execute_result"
    }
   ],
   "source": [
    "len(kor_corpus)"
   ]
  },
  {
   "cell_type": "code",
   "execution_count": 25,
   "id": "64d1d3ba",
   "metadata": {},
   "outputs": [
    {
     "data": {
      "text/plain": [
       "78941"
      ]
     },
     "execution_count": 25,
     "metadata": {},
     "output_type": "execute_result"
    }
   ],
   "source": [
    "len(eng_corpus)"
   ]
  },
  {
   "cell_type": "markdown",
   "id": "090eef5f",
   "metadata": {},
   "source": [
    "## Step 2. 데이터 정제"
   ]
  },
  {
   "cell_type": "markdown",
   "id": "ea210413",
   "metadata": {},
   "source": [
    "토큰의 길이가 40 이하인 데이터를 선별하여 eng_corpus와 kor_corpus를 각각 구축하였다."
   ]
  },
  {
   "cell_type": "code",
   "execution_count": 26,
   "id": "9d201e1d",
   "metadata": {},
   "outputs": [],
   "source": [
    "max_len = 40\n",
    "\n",
    "kor_corpus_cut = []\n",
    "eng_corpus_cut = []\n",
    "\n",
    "for kor_sen, eng_sen in zip(kor_corpus, eng_corpus):\n",
    "    if len(kor_sen) <= max_len:\n",
    "        kor_corpus_cut.append(kor_sen)\n",
    "        eng_corpus_cut.append(eng_sen)\n",
    "        \n",
    "kor_corpus = kor_corpus_cut\n",
    "eng_corpus = eng_corpus_cut"
   ]
  },
  {
   "cell_type": "markdown",
   "id": "11fb2f5b",
   "metadata": {},
   "source": [
    "16234로 더 줄어들었다!"
   ]
  },
  {
   "cell_type": "code",
   "execution_count": 27,
   "id": "1bf33066",
   "metadata": {},
   "outputs": [
    {
     "data": {
      "text/plain": [
       "16234"
      ]
     },
     "execution_count": 27,
     "metadata": {},
     "output_type": "execute_result"
    }
   ],
   "source": [
    "len(kor_corpus)"
   ]
  },
  {
   "cell_type": "code",
   "execution_count": 28,
   "id": "6bcf0ff4",
   "metadata": {},
   "outputs": [
    {
     "data": {
      "text/plain": [
       "16234"
      ]
     },
     "execution_count": 28,
     "metadata": {},
     "output_type": "execute_result"
    }
   ],
   "source": [
    "len(eng_corpus)"
   ]
  },
  {
   "cell_type": "markdown",
   "id": "86aa3932",
   "metadata": {},
   "source": [
    "## Step 3. 데이터 토큰화"
   ]
  },
  {
   "cell_type": "markdown",
   "id": "284e9c42",
   "metadata": {},
   "source": [
    "앞서 정의한 tokenize() 함수를 사용해 데이터를 텐서로 변환하고 각각의 tokenizer를 할당했다."
   ]
  },
  {
   "cell_type": "code",
   "execution_count": 29,
   "id": "31f7fa2b",
   "metadata": {},
   "outputs": [],
   "source": [
    "import tensorflow as tf\n",
    "from konlpy.tag import Mecab\n",
    "\n",
    "mecab = Mecab()\n",
    "\n",
    "def tokenize(corpus, is_english, num_words=10000):\n",
    "    if is_english:\n",
    "        tokenizer = tf.keras.preprocessing.text.Tokenizer(filters='', num_words=num_words)\n",
    "        tokenizer.fit_on_texts(corpus)\n",
    "\n",
    "        tensor = tokenizer.texts_to_sequences(corpus)\n",
    "\n",
    "        tensor = tf.keras.preprocessing.sequence.pad_sequences(tensor, padding='post')\n",
    "\n",
    "        return tensor, tokenizer\n",
    "    \n",
    "\n",
    "    morphs_corpus = [\" \".join(mecab.morphs(sen)) for sen in corpus]\n",
    "    tokenizer = tf.keras.preprocessing.text.Tokenizer(filters='', num_words=num_words)\n",
    "    tokenizer.fit_on_texts(morphs_corpus)\n",
    "\n",
    "    tensor = tokenizer.texts_to_sequences(morphs_corpus)\n",
    "\n",
    "    tensor = tf.keras.preprocessing.sequence.pad_sequences(tensor, padding='post')\n",
    "\n",
    "    return tensor, tokenizer"
   ]
  },
  {
   "cell_type": "code",
   "execution_count": 30,
   "id": "44b814f5",
   "metadata": {},
   "outputs": [
    {
     "name": "stdout",
     "output_type": "stream",
     "text": [
      "17365\n",
      "16850\n"
     ]
    }
   ],
   "source": [
    "_, all_kor_tokenizer = tokenize(kor_corpus, False, None)\n",
    "_, all_eng_tokenizer = tokenize(eng_corpus, True, None)\n",
    "\n",
    "print(len(all_kor_tokenizer.index_word) + 1)\n",
    "print(len(all_eng_tokenizer.index_word) + 1)"
   ]
  },
  {
   "cell_type": "code",
   "execution_count": 31,
   "id": "b1e9e828",
   "metadata": {},
   "outputs": [],
   "source": [
    "kor_tensor, kor_tokenizer = tokenize(kor_corpus, False)\n",
    "eng_tensor, eng_tokenizer = tokenize(eng_corpus, True)"
   ]
  },
  {
   "cell_type": "markdown",
   "id": "1036f23a",
   "metadata": {},
   "source": [
    "## Step 4. 모델 설계"
   ]
  },
  {
   "cell_type": "markdown",
   "id": "9de81653",
   "metadata": {},
   "source": [
    "Attention 기반 Seq2seq 모델을 설계했다."
   ]
  },
  {
   "cell_type": "code",
   "execution_count": 32,
   "id": "e144fcc0",
   "metadata": {},
   "outputs": [],
   "source": [
    "class BahdanauAttention(tf.keras.layers.Layer):\n",
    "    def __init__(self, units):\n",
    "        super(BahdanauAttention, self).__init__()\n",
    "        self.w_dec = tf.keras.layers.Dense(units)\n",
    "        self.w_enc = tf.keras.layers.Dense(units)\n",
    "        self.w_com = tf.keras.layers.Dense(1) #com(combine)\n",
    "    \n",
    "    def call(self, h_enc, h_dec):\n",
    "        # h_enc shape: [batch x length x units]\n",
    "        #print(\"[h_enc]shape:\", h_enc.shape)\n",
    "        # h_dec shape: [batch x units]\n",
    "        #print(\"[h_dec]shape:\", h_dec.shape)\n",
    "\n",
    "        h_enc = self.w_enc(h_enc)\n",
    "        h_dec = tf.expand_dims(h_dec, 1)\n",
    "        h_dec = self.w_dec(h_dec)\n",
    "\n",
    "        score = self.w_com(tf.nn.tanh(h_dec + h_enc))\n",
    "        \n",
    "        attn = tf.nn.softmax(score, axis=1)\n",
    "\n",
    "        context_vec = attn * h_enc\n",
    "        context_vec = tf.reduce_sum(context_vec, axis=1)\n",
    "\n",
    "        return context_vec, attn\n"
   ]
  },
  {
   "cell_type": "code",
   "execution_count": 33,
   "id": "332ca246",
   "metadata": {},
   "outputs": [],
   "source": [
    "# Encoder\n",
    "class Encoder(tf.keras.Model):\n",
    "    def __init__(self, vocab_size, embedding_dim, enc_units):\n",
    "        super(Encoder, self).__init__()\n",
    "        \n",
    "        self.enc_units = enc_units\n",
    "        self.embedding = tf.keras.layers.Embedding(vocab_size, embedding_dim)\n",
    "        self.gru = tf.keras.layers.GRU(enc_units, return_sequences=True)\n",
    "        \n",
    "    def call(self, x):\n",
    "        # Embedding\n",
    "        out = self.embedding(x)\n",
    "        \n",
    "        # GRU layer\n",
    "        out = self.gru(out)\n",
    "        \n",
    "        return out"
   ]
  },
  {
   "cell_type": "code",
   "execution_count": 34,
   "id": "26837b33",
   "metadata": {},
   "outputs": [],
   "source": [
    "# Decoder\n",
    "class Decoder(tf.keras.Model):\n",
    "    def __init__(self, vocab_size, embedding_dim, dec_units):\n",
    "        super(Decoder, self).__init__()\n",
    "        self.dec_units = dec_units\n",
    "        self.embedding = tf.keras.layers.Embedding(vocab_size, embedding_dim)\n",
    "        self.gru = tf.keras.layers.GRU(dec_units,\n",
    "                                       recurrent_dropout=0.4,\n",
    "                                       return_sequences=True,\n",
    "                                       return_state=True)\n",
    "        self.fc = tf.keras.layers.Dense(vocab_size)\n",
    "\n",
    "        self.attention = BahdanauAttention(self.dec_units)\n",
    "\n",
    "    def call(self, x, h_dec, enc_out):\n",
    "        context_vec, attn = self.attention(enc_out, h_dec)\n",
    "\n",
    "        out = self.embedding(x)\n",
    "        out = tf.concat([tf.expand_dims(context_vec, 1), out], axis=-1)\n",
    "        \n",
    "        out, h_dec = self.gru(out)\n",
    "        out = tf.reshape(out, (-1, out.shape[2]))\n",
    "        out = self.fc(out)\n",
    "\n",
    "        return out, h_dec, attn\n"
   ]
  },
  {
   "cell_type": "code",
   "execution_count": 35,
   "id": "f4ab772c",
   "metadata": {},
   "outputs": [
    {
     "name": "stdout",
     "output_type": "stream",
     "text": [
      "WARNING:tensorflow:Layer gru_1 will not use cuDNN kernels since it doesn't meet the criteria. It will use a generic GPU kernel as fallback when running on GPU.\n",
      "Encoder Output: (64, 40, 128)\n",
      "Decoder Output: (64, 16850)\n",
      "Decoder Hidden State: (64, 128)\n",
      "Attention: (64, 40, 1)\n"
     ]
    }
   ],
   "source": [
    "BATCH_SIZE     = 64\n",
    "SRC_VOCAB_SIZE = len(kor_tokenizer.index_word) + 1\n",
    "TGT_VOCAB_SIZE = len(eng_tokenizer.index_word) + 1\n",
    "\n",
    "units         = 128\n",
    "embedding_dim = 128\n",
    "\n",
    "encoder = Encoder(SRC_VOCAB_SIZE, embedding_dim, units)\n",
    "decoder = Decoder(TGT_VOCAB_SIZE, embedding_dim, units)\n",
    "\n",
    "# sample input\n",
    "sequence_len = 40\n",
    "\n",
    "sample_enc = tf.random.uniform((BATCH_SIZE, sequence_len))\n",
    "sample_output = encoder(sample_enc)\n",
    "\n",
    "print ('Encoder Output:', sample_output.shape)\n",
    "\n",
    "sample_state = tf.random.uniform((BATCH_SIZE, units))\n",
    "\n",
    "sample_logits, h_dec, attn = decoder(tf.random.uniform((BATCH_SIZE, 1)),\n",
    "                                     sample_state, sample_output)\n",
    "\n",
    "print ('Decoder Output:', sample_logits.shape)\n",
    "print ('Decoder Hidden State:', h_dec.shape)\n",
    "print ('Attention:', attn.shape)\n"
   ]
  },
  {
   "cell_type": "code",
   "execution_count": 36,
   "id": "56b7c3ed",
   "metadata": {},
   "outputs": [],
   "source": [
    "optimizer = tf.keras.optimizers.Adam()\n",
    "loss_object = tf.keras.losses.SparseCategoricalCrossentropy(\n",
    "    from_logits=True, reduction='none')\n",
    "\n",
    "def loss_function(real, pred):\n",
    "    mask = tf.math.logical_not(tf.math.equal(real, 0))\n",
    "    loss = loss_object(real, pred)\n",
    "    \n",
    "    mask = tf.cast(mask, dtype=loss.dtype)\n",
    "    loss *= mask\n",
    "    \n",
    "    return tf.reduce_mean(loss)"
   ]
  },
  {
   "cell_type": "code",
   "execution_count": 37,
   "id": "90dfe0f0",
   "metadata": {},
   "outputs": [],
   "source": [
    "@tf.function\n",
    "def train_step(src, tgt, encoder, decoder, optimizer, dec_tok):\n",
    "    bsz = src.shape[0]\n",
    "    loss = 0\n",
    "\n",
    "    with tf.GradientTape() as tape:\n",
    "        enc_out = encoder(src)\n",
    "        h_dec = enc_out[:, -1]\n",
    "        \n",
    "        dec_src = tf.expand_dims([dec_tok.word_index['<start>']] * bsz, 1)\n",
    "\n",
    "        for t in range(1, tgt.shape[1]):\n",
    "            pred, h_dec, _ = decoder(dec_src, h_dec, enc_out)\n",
    "\n",
    "            loss += loss_function(tgt[:, t], pred)\n",
    "            dec_src = tf.expand_dims(tgt[:, t], 1)\n",
    "        \n",
    "    batch_loss = (loss / int(tgt.shape[1]))\n",
    "\n",
    "    variables = encoder.trainable_variables + decoder.trainable_variables\n",
    "    gradients = tape.gradient(loss, variables)\n",
    "    optimizer.apply_gradients(zip(gradients, variables))\n",
    "    \n",
    "    return batch_loss\n"
   ]
  },
  {
   "cell_type": "markdown",
   "id": "54bbb981",
   "metadata": {},
   "source": [
    "## Step 5. 훈련하기"
   ]
  },
  {
   "cell_type": "code",
   "execution_count": 38,
   "id": "2c8088b9",
   "metadata": {},
   "outputs": [
    {
     "data": {
      "text/plain": [
       "'/usr/share/fonts/truetype/nanum/NanumBarunGothic.ttf'"
      ]
     },
     "execution_count": 38,
     "metadata": {},
     "output_type": "execute_result"
    }
   ],
   "source": [
    "import matplotlib as mpl\n",
    "import matplotlib.pyplot as plt\n",
    " \n",
    "%config InlineBackend.figure_format = 'retina'\n",
    " \n",
    "import matplotlib.font_manager as fm\n",
    "fontpath = '/usr/share/fonts/truetype/nanum/NanumBarunGothic.ttf'\n",
    "font = fm.FontProperties(fname=fontpath, size=9)\n",
    "plt.rc('font', family='NanumBarunGothic') \n",
    "mpl.font_manager.findfont(font)"
   ]
  },
  {
   "cell_type": "code",
   "execution_count": 39,
   "id": "de6a0a78",
   "metadata": {},
   "outputs": [],
   "source": [
    "import numpy as np\n",
    "import matplotlib.pyplot as plt\n",
    "import matplotlib.ticker as ticker\n",
    "import tensorflow as tf\n",
    "\n",
    "# evaluate\n",
    "def evaluate(sentence, encoder, decoder):\n",
    "    attention = np.zeros((eng_tensor.shape[-1], kor_tensor.shape[-1]))\n",
    "    \n",
    "    sentence = preprocess_sentence(sentence)\n",
    "    sentence = \" \".join(mecab.morphs(sentence))\n",
    "    inputs = kor_tokenizer.texts_to_sequences([sentence.split()])\n",
    "    inputs = tf.keras.preprocessing.sequence.pad_sequences(inputs,\n",
    "                                                           maxlen=kor_tensor.shape[-1],\n",
    "                                                           padding='post')\n",
    "\n",
    "    result = ''\n",
    "\n",
    "    enc_out = encoder(inputs)\n",
    "\n",
    "    dec_hidden = enc_out[:, -1]\n",
    "    dec_input = tf.expand_dims([eng_tokenizer.word_index['<start>']], 0)\n",
    "\n",
    "    for t in range(eng_tensor.shape[-1]):\n",
    "        predictions, dec_hidden, attention_weights = decoder(dec_input,\n",
    "                                                             dec_hidden,\n",
    "                                                             enc_out)\n",
    "\n",
    "        attention_weights = tf.reshape(attention_weights, (-1, ))\n",
    "        attention[t] = attention_weights.numpy()\n",
    "\n",
    "        predicted_id = tf.argmax(predictions[0]).numpy()\n",
    "\n",
    "        result += eng_tokenizer.index_word[predicted_id] + ' '\n",
    "\n",
    "        if eng_tokenizer.index_word[predicted_id] == '<end>':\n",
    "            return result, sentence, attention\n",
    "\n",
    "        dec_input = tf.expand_dims([predicted_id], 0)\n",
    "\n",
    "    return result, sentence, attention\n",
    "\n",
    "# Attention Map을 시각화\n",
    "def plot_attention(attention, sentence, predicted_sentence):\n",
    "    fig = plt.figure(figsize=(10, 10))\n",
    "    ax = fig.add_subplot(1, 1, 1)\n",
    "    ax.matshow(attention, cmap='viridis')\n",
    "\n",
    "    fontdict = {'fontsize': 14}\n",
    "\n",
    "    ax.set_xticklabels([''] + sentence, fontdict=fontdict, rotation=90)\n",
    "    ax.set_yticklabels([''] + predicted_sentence, fontdict=fontdict)\n",
    "\n",
    "    ax.xaxis.set_major_locator(ticker.MultipleLocator(1))\n",
    "    ax.yaxis.set_major_locator(ticker.MultipleLocator(1))\n",
    "\n",
    "    plt.show()\n",
    "\n",
    "# translate\n",
    "def translate(sentence, encoder, decoder):\n",
    "    result, sentence, attention = evaluate(sentence, encoder, decoder)\n",
    "\n",
    "    print('Input: %s' % (sentence))\n",
    "    print('Predicted translation: {}'.format(result))\n",
    "    \n",
    "    attention = attention[:len(result.split()), :len(sentence.split())]\n",
    "    plot_attention(attention, sentence.split(), result.split(' '))\n"
   ]
  },
  {
   "cell_type": "code",
   "execution_count": 40,
   "id": "a7620ad8",
   "metadata": {},
   "outputs": [
    {
     "name": "stderr",
     "output_type": "stream",
     "text": [
      "100%|██████████| 254/254 [03:21<00:00,  1.26it/s]\n",
      "/tmp/ipykernel_293/3540374676.py:50: UserWarning: FixedFormatter should only be used together with FixedLocator\n",
      "  ax.set_xticklabels([''] + sentence, fontdict=fontdict, rotation=90)\n",
      "/tmp/ipykernel_293/3540374676.py:51: UserWarning: FixedFormatter should only be used together with FixedLocator\n",
      "  ax.set_yticklabels([''] + predicted_sentence, fontdict=fontdict)\n"
     ]
    },
    {
     "name": "stdout",
     "output_type": "stream",
     "text": [
      "Input: 오바마 는 대통령 이 다 .\n",
      "Predicted translation: <end> \n"
     ]
    },
    {
     "data": {
      "image/png": "[encoded data removed]",
      "text/plain": [
       "<Figure size 720x720 with 1 Axes>"
      ]
     },
     "metadata": {
      "image/png": {
       "height": 155,
       "width": 616
      },
      "needs_background": "light"
     },
     "output_type": "display_data"
    },
    {
     "name": "stdout",
     "output_type": "stream",
     "text": [
      "Input: 시민 들 은 도시 속 에 산다 .\n",
      "Predicted translation: <end> \n"
     ]
    },
    {
     "data": {
      "image/png": "[encoded data removed]",
      "text/plain": [
       "<Figure size 720x720 with 1 Axes>"
      ]
     },
     "metadata": {
      "image/png": {
       "height": 119,
       "width": 616
      },
      "needs_background": "light"
     },
     "output_type": "display_data"
    },
    {
     "name": "stdout",
     "output_type": "stream",
     "text": [
      "Input: 커피 는 필요 없 다 .\n",
      "Predicted translation: <end> \n"
     ]
    },
    {
     "data": {
      "image/png": "[encoded data removed]",
      "text/plain": [
       "<Figure size 720x720 with 1 Axes>"
      ]
     },
     "metadata": {
      "image/png": {
       "height": 142,
       "width": 616
      },
      "needs_background": "light"
     },
     "output_type": "display_data"
    },
    {
     "name": "stdout",
     "output_type": "stream",
     "text": [
      "Input: 일곱 명 의 사망자 가 발생 했 다 .\n",
      "Predicted translation: <end> \n"
     ]
    },
    {
     "data": {
      "image/png": "[encoded data removed]",
      "text/plain": [
       "<Figure size 720x720 with 1 Axes>"
      ]
     },
     "metadata": {
      "image/png": {
       "height": 124,
       "width": 616
      },
      "needs_background": "light"
     },
     "output_type": "display_data"
    },
    {
     "name": "stderr",
     "output_type": "stream",
     "text": [
      "100%|██████████| 254/254 [00:47<00:00,  5.33it/s]\n"
     ]
    },
    {
     "name": "stdout",
     "output_type": "stream",
     "text": [
      "Input: 오바마 는 대통령 이 다 .\n",
      "Predicted translation: <end> \n"
     ]
    },
    {
     "data": {
      "image/png": "[encoded data removed]",
      "text/plain": [
       "<Figure size 720x720 with 1 Axes>"
      ]
     },
     "metadata": {
      "image/png": {
       "height": 155,
       "width": 616
      },
      "needs_background": "light"
     },
     "output_type": "display_data"
    },
    {
     "name": "stdout",
     "output_type": "stream",
     "text": [
      "Input: 시민 들 은 도시 속 에 산다 .\n",
      "Predicted translation: <end> \n"
     ]
    },
    {
     "data": {
      "image/png": "[encoded data removed]",
      "text/plain": [
       "<Figure size 720x720 with 1 Axes>"
      ]
     },
     "metadata": {
      "image/png": {
       "height": 119,
       "width": 616
      },
      "needs_background": "light"
     },
     "output_type": "display_data"
    },
    {
     "name": "stdout",
     "output_type": "stream",
     "text": [
      "Input: 커피 는 필요 없 다 .\n",
      "Predicted translation: <end> \n"
     ]
    },
    {
     "data": {
      "image/png": "[encoded data removed]",
      "text/plain": [
       "<Figure size 720x720 with 1 Axes>"
      ]
     },
     "metadata": {
      "image/png": {
       "height": 142,
       "width": 616
      },
      "needs_background": "light"
     },
     "output_type": "display_data"
    },
    {
     "name": "stdout",
     "output_type": "stream",
     "text": [
      "Input: 일곱 명 의 사망자 가 발생 했 다 .\n",
      "Predicted translation: <end> \n"
     ]
    },
    {
     "data": {
      "image/png": "[encoded data removed]",
      "text/plain": [
       "<Figure size 720x720 with 1 Axes>"
      ]
     },
     "metadata": {
      "image/png": {
       "height": 124,
       "width": 616
      },
      "needs_background": "light"
     },
     "output_type": "display_data"
    },
    {
     "name": "stderr",
     "output_type": "stream",
     "text": [
      "100%|██████████| 254/254 [00:48<00:00,  5.24it/s]\n"
     ]
    },
    {
     "name": "stdout",
     "output_type": "stream",
     "text": [
      "Input: 오바마 는 대통령 이 다 .\n",
      "Predicted translation: <end> \n"
     ]
    },
    {
     "data": {
      "image/png": "[encoded data removed]",
      "text/plain": [
       "<Figure size 720x720 with 1 Axes>"
      ]
     },
     "metadata": {
      "image/png": {
       "height": 155,
       "width": 616
      },
      "needs_background": "light"
     },
     "output_type": "display_data"
    },
    {
     "name": "stdout",
     "output_type": "stream",
     "text": [
      "Input: 시민 들 은 도시 속 에 산다 .\n",
      "Predicted translation: <end> \n"
     ]
    },
    {
     "data": {
      "image/png": "[encoded data removed]",
      "text/plain": [
       "<Figure size 720x720 with 1 Axes>"
      ]
     },
     "metadata": {
      "image/png": {
       "height": 119,
       "width": 616
      },
      "needs_background": "light"
     },
     "output_type": "display_data"
    },
    {
     "name": "stdout",
     "output_type": "stream",
     "text": [
      "Input: 커피 는 필요 없 다 .\n",
      "Predicted translation: <end> \n"
     ]
    },
    {
     "data": {
      "image/png": "[encoded data removed]",
      "text/plain": [
       "<Figure size 720x720 with 1 Axes>"
      ]
     },
     "metadata": {
      "image/png": {
       "height": 142,
       "width": 616
      },
      "needs_background": "light"
     },
     "output_type": "display_data"
    },
    {
     "name": "stdout",
     "output_type": "stream",
     "text": [
      "Input: 일곱 명 의 사망자 가 발생 했 다 .\n",
      "Predicted translation: <end> \n"
     ]
    },
    {
     "data": {
      "image/png": "[encoded data removed]",
      "text/plain": [
       "<Figure size 720x720 with 1 Axes>"
      ]
     },
     "metadata": {
      "image/png": {
       "height": 124,
       "width": 616
      },
      "needs_background": "light"
     },
     "output_type": "display_data"
    },
    {
     "name": "stderr",
     "output_type": "stream",
     "text": [
      " 12%|█▏        | 31/254 [00:06<00:44,  4.98it/s]\n"
     ]
    },
    {
     "ename": "KeyboardInterrupt",
     "evalue": "",
     "output_type": "error",
     "traceback": [
      "\u001b[0;31m---------------------------------------------------------------------------\u001b[0m",
      "\u001b[0;31mKeyboardInterrupt\u001b[0m                         Traceback (most recent call last)",
      "\u001b[0;32m/tmp/ipykernel_293/1647040210.py\u001b[0m in \u001b[0;36m<module>\u001b[0;34m\u001b[0m\n\u001b[1;32m     13\u001b[0m \u001b[0;34m\u001b[0m\u001b[0m\n\u001b[1;32m     14\u001b[0m     \u001b[0;32mfor\u001b[0m \u001b[0;34m(\u001b[0m\u001b[0mbatch\u001b[0m\u001b[0;34m,\u001b[0m \u001b[0midx\u001b[0m\u001b[0;34m)\u001b[0m \u001b[0;32min\u001b[0m \u001b[0menumerate\u001b[0m\u001b[0;34m(\u001b[0m\u001b[0mt\u001b[0m\u001b[0;34m)\u001b[0m\u001b[0;34m:\u001b[0m\u001b[0;34m\u001b[0m\u001b[0;34m\u001b[0m\u001b[0m\n\u001b[0;32m---> 15\u001b[0;31m         batch_loss = train_step(kor_tensor[idx:idx+BATCH_SIZE],\n\u001b[0m\u001b[1;32m     16\u001b[0m                                 \u001b[0meng_tensor\u001b[0m\u001b[0;34m[\u001b[0m\u001b[0midx\u001b[0m\u001b[0;34m:\u001b[0m\u001b[0midx\u001b[0m\u001b[0;34m+\u001b[0m\u001b[0mBATCH_SIZE\u001b[0m\u001b[0;34m]\u001b[0m\u001b[0;34m,\u001b[0m\u001b[0;34m\u001b[0m\u001b[0;34m\u001b[0m\u001b[0m\n\u001b[1;32m     17\u001b[0m                                 \u001b[0mencoder\u001b[0m\u001b[0;34m,\u001b[0m\u001b[0;34m\u001b[0m\u001b[0;34m\u001b[0m\u001b[0m\n",
      "\u001b[0;32m/opt/conda/lib/python3.9/site-packages/tensorflow/python/eager/def_function.py\u001b[0m in \u001b[0;36m__call__\u001b[0;34m(self, *args, **kwds)\u001b[0m\n\u001b[1;32m    883\u001b[0m \u001b[0;34m\u001b[0m\u001b[0m\n\u001b[1;32m    884\u001b[0m       \u001b[0;32mwith\u001b[0m \u001b[0mOptionalXlaContext\u001b[0m\u001b[0;34m(\u001b[0m\u001b[0mself\u001b[0m\u001b[0;34m.\u001b[0m\u001b[0m_jit_compile\u001b[0m\u001b[0;34m)\u001b[0m\u001b[0;34m:\u001b[0m\u001b[0;34m\u001b[0m\u001b[0;34m\u001b[0m\u001b[0m\n\u001b[0;32m--> 885\u001b[0;31m         \u001b[0mresult\u001b[0m \u001b[0;34m=\u001b[0m \u001b[0mself\u001b[0m\u001b[0;34m.\u001b[0m\u001b[0m_call\u001b[0m\u001b[0;34m(\u001b[0m\u001b[0;34m*\u001b[0m\u001b[0margs\u001b[0m\u001b[0;34m,\u001b[0m \u001b[0;34m**\u001b[0m\u001b[0mkwds\u001b[0m\u001b[0;34m)\u001b[0m\u001b[0;34m\u001b[0m\u001b[0;34m\u001b[0m\u001b[0m\n\u001b[0m\u001b[1;32m    886\u001b[0m \u001b[0;34m\u001b[0m\u001b[0m\n\u001b[1;32m    887\u001b[0m       \u001b[0mnew_tracing_count\u001b[0m \u001b[0;34m=\u001b[0m \u001b[0mself\u001b[0m\u001b[0;34m.\u001b[0m\u001b[0mexperimental_get_tracing_count\u001b[0m\u001b[0;34m(\u001b[0m\u001b[0;34m)\u001b[0m\u001b[0;34m\u001b[0m\u001b[0;34m\u001b[0m\u001b[0m\n",
      "\u001b[0;32m/opt/conda/lib/python3.9/site-packages/tensorflow/python/eager/def_function.py\u001b[0m in \u001b[0;36m_call\u001b[0;34m(self, *args, **kwds)\u001b[0m\n\u001b[1;32m    915\u001b[0m       \u001b[0;31m# In this case we have created variables on the first call, so we run the\u001b[0m\u001b[0;34m\u001b[0m\u001b[0;34m\u001b[0m\u001b[0m\n\u001b[1;32m    916\u001b[0m       \u001b[0;31m# defunned version which is guaranteed to never create variables.\u001b[0m\u001b[0;34m\u001b[0m\u001b[0;34m\u001b[0m\u001b[0m\n\u001b[0;32m--> 917\u001b[0;31m       \u001b[0;32mreturn\u001b[0m \u001b[0mself\u001b[0m\u001b[0;34m.\u001b[0m\u001b[0m_stateless_fn\u001b[0m\u001b[0;34m(\u001b[0m\u001b[0;34m*\u001b[0m\u001b[0margs\u001b[0m\u001b[0;34m,\u001b[0m \u001b[0;34m**\u001b[0m\u001b[0mkwds\u001b[0m\u001b[0;34m)\u001b[0m  \u001b[0;31m# pylint: disable=not-callable\u001b[0m\u001b[0;34m\u001b[0m\u001b[0;34m\u001b[0m\u001b[0m\n\u001b[0m\u001b[1;32m    918\u001b[0m     \u001b[0;32melif\u001b[0m \u001b[0mself\u001b[0m\u001b[0;34m.\u001b[0m\u001b[0m_stateful_fn\u001b[0m \u001b[0;32mis\u001b[0m \u001b[0;32mnot\u001b[0m \u001b[0;32mNone\u001b[0m\u001b[0;34m:\u001b[0m\u001b[0;34m\u001b[0m\u001b[0;34m\u001b[0m\u001b[0m\n\u001b[1;32m    919\u001b[0m       \u001b[0;31m# Release the lock early so that multiple threads can perform the call\u001b[0m\u001b[0;34m\u001b[0m\u001b[0;34m\u001b[0m\u001b[0m\n",
      "\u001b[0;32m/opt/conda/lib/python3.9/site-packages/tensorflow/python/eager/function.py\u001b[0m in \u001b[0;36m__call__\u001b[0;34m(self, *args, **kwargs)\u001b[0m\n\u001b[1;32m   3037\u001b[0m       (graph_function,\n\u001b[1;32m   3038\u001b[0m        filtered_flat_args) = self._maybe_define_function(args, kwargs)\n\u001b[0;32m-> 3039\u001b[0;31m     return graph_function._call_flat(\n\u001b[0m\u001b[1;32m   3040\u001b[0m         filtered_flat_args, captured_inputs=graph_function.captured_inputs)  # pylint: disable=protected-access\n\u001b[1;32m   3041\u001b[0m \u001b[0;34m\u001b[0m\u001b[0m\n",
      "\u001b[0;32m/opt/conda/lib/python3.9/site-packages/tensorflow/python/eager/function.py\u001b[0m in \u001b[0;36m_call_flat\u001b[0;34m(self, args, captured_inputs, cancellation_manager)\u001b[0m\n\u001b[1;32m   1961\u001b[0m         and executing_eagerly):\n\u001b[1;32m   1962\u001b[0m       \u001b[0;31m# No tape is watching; skip to running the function.\u001b[0m\u001b[0;34m\u001b[0m\u001b[0;34m\u001b[0m\u001b[0m\n\u001b[0;32m-> 1963\u001b[0;31m       return self._build_call_outputs(self._inference_function.call(\n\u001b[0m\u001b[1;32m   1964\u001b[0m           ctx, args, cancellation_manager=cancellation_manager))\n\u001b[1;32m   1965\u001b[0m     forward_backward = self._select_forward_and_backward_functions(\n",
      "\u001b[0;32m/opt/conda/lib/python3.9/site-packages/tensorflow/python/eager/function.py\u001b[0m in \u001b[0;36mcall\u001b[0;34m(self, ctx, args, cancellation_manager)\u001b[0m\n\u001b[1;32m    589\u001b[0m       \u001b[0;32mwith\u001b[0m \u001b[0m_InterpolateFunctionError\u001b[0m\u001b[0;34m(\u001b[0m\u001b[0mself\u001b[0m\u001b[0;34m)\u001b[0m\u001b[0;34m:\u001b[0m\u001b[0;34m\u001b[0m\u001b[0;34m\u001b[0m\u001b[0m\n\u001b[1;32m    590\u001b[0m         \u001b[0;32mif\u001b[0m \u001b[0mcancellation_manager\u001b[0m \u001b[0;32mis\u001b[0m \u001b[0;32mNone\u001b[0m\u001b[0;34m:\u001b[0m\u001b[0;34m\u001b[0m\u001b[0;34m\u001b[0m\u001b[0m\n\u001b[0;32m--> 591\u001b[0;31m           outputs = execute.execute(\n\u001b[0m\u001b[1;32m    592\u001b[0m               \u001b[0mstr\u001b[0m\u001b[0;34m(\u001b[0m\u001b[0mself\u001b[0m\u001b[0;34m.\u001b[0m\u001b[0msignature\u001b[0m\u001b[0;34m.\u001b[0m\u001b[0mname\u001b[0m\u001b[0;34m)\u001b[0m\u001b[0;34m,\u001b[0m\u001b[0;34m\u001b[0m\u001b[0;34m\u001b[0m\u001b[0m\n\u001b[1;32m    593\u001b[0m               \u001b[0mnum_outputs\u001b[0m\u001b[0;34m=\u001b[0m\u001b[0mself\u001b[0m\u001b[0;34m.\u001b[0m\u001b[0m_num_outputs\u001b[0m\u001b[0;34m,\u001b[0m\u001b[0;34m\u001b[0m\u001b[0;34m\u001b[0m\u001b[0m\n",
      "\u001b[0;32m/opt/conda/lib/python3.9/site-packages/tensorflow/python/eager/execute.py\u001b[0m in \u001b[0;36mquick_execute\u001b[0;34m(op_name, num_outputs, inputs, attrs, ctx, name)\u001b[0m\n\u001b[1;32m     57\u001b[0m   \u001b[0;32mtry\u001b[0m\u001b[0;34m:\u001b[0m\u001b[0;34m\u001b[0m\u001b[0;34m\u001b[0m\u001b[0m\n\u001b[1;32m     58\u001b[0m     \u001b[0mctx\u001b[0m\u001b[0;34m.\u001b[0m\u001b[0mensure_initialized\u001b[0m\u001b[0;34m(\u001b[0m\u001b[0;34m)\u001b[0m\u001b[0;34m\u001b[0m\u001b[0;34m\u001b[0m\u001b[0m\n\u001b[0;32m---> 59\u001b[0;31m     tensors = pywrap_tfe.TFE_Py_Execute(ctx._handle, device_name, op_name,\n\u001b[0m\u001b[1;32m     60\u001b[0m                                         inputs, attrs, num_outputs)\n\u001b[1;32m     61\u001b[0m   \u001b[0;32mexcept\u001b[0m \u001b[0mcore\u001b[0m\u001b[0;34m.\u001b[0m\u001b[0m_NotOkStatusException\u001b[0m \u001b[0;32mas\u001b[0m \u001b[0me\u001b[0m\u001b[0;34m:\u001b[0m\u001b[0;34m\u001b[0m\u001b[0;34m\u001b[0m\u001b[0m\n",
      "\u001b[0;31mKeyboardInterrupt\u001b[0m: "
     ]
    }
   ],
   "source": [
    "from tqdm import tqdm    # tqdm\n",
    "import random\n",
    "\n",
    "EPOCHS = 10\n",
    "loss_history = []\n",
    "\n",
    "for epoch in range(EPOCHS):\n",
    "    total_loss = 0\n",
    "    \n",
    "    idx_list = list(range(0, kor_tensor.shape[0], BATCH_SIZE))\n",
    "    random.shuffle(idx_list)\n",
    "    t = tqdm(idx_list)    # tqdm\n",
    "\n",
    "    for (batch, idx) in enumerate(t):\n",
    "        batch_loss = train_step(kor_tensor[idx:idx+BATCH_SIZE],\n",
    "                                eng_tensor[idx:idx+BATCH_SIZE],\n",
    "                                encoder,\n",
    "                                decoder,\n",
    "                                optimizer,\n",
    "                                eng_tokenizer)\n",
    "    \n",
    "        total_loss += batch_loss\n",
    "        \n",
    "    loss_history.append(total_loss.numpy() / len(idx_list))\n",
    "    translate(\"오바마는 대통령이다.\", encoder, decoder)\n",
    "    translate(\"시민들은 도시 속에 산다.\", encoder, decoder)\n",
    "    translate(\"커피는 필요 없다.\", encoder, decoder)\n",
    "    translate(\"일곱 명의 사망자가 발생했다.\", encoder, decoder)"
   ]
  },
  {
   "cell_type": "markdown",
   "id": "5d55eb69",
   "metadata": {},
   "source": [
    "중복 제거하고 데이터 길이를 잘라준 후 한국어 corpus와 영어 corpus를 합치고 진행했더니 데이터들이 뒤죽박죽 섞여서 the만 나오는 결과를 확인할 수 있었다. 그래서 중복 제거를 하기 전에 kor_raw와 eng_raw를 합쳐준 후 중복 제거하고 데이터 길이를 잘라줬더니 이번에는 'end'만 출력되었다.... 도대체 뭐가 문제였을까 해서 혹시 데이터 길이를 한국어와 영어 각각 다른 값으로 잘라줘서 학습에 문제가 생긴거 같아서 길이를 똑같이 맞춰서 잘라주고 학습시켜보았다. 그랬더니 KeyboardInterrupt: 에러가 떴다.. 멘탈이 좋아지지 않아서 프로젝트를 여기서 마무리 시켰다.. 준님 코드 아니였으면 프로젝트 영영 했을 거 같다.... 정말 너무 어렵다ㅠㅠ "
   ]
  }
 ],
 "metadata": {
  "kernelspec": {
   "display_name": "Python 3 (ipykernel)",
   "language": "python",
   "name": "python3"
  },
  "language_info": {
   "codemirror_mode": {
    "name": "ipython",
    "version": 3
   },
   "file_extension": ".py",
   "mimetype": "text/x-python",
   "name": "python",
   "nbconvert_exporter": "python",
   "pygments_lexer": "ipython3",
   "version": "3.9.7"
  }
 },
 "nbformat": 4,
 "nbformat_minor": 5
}
