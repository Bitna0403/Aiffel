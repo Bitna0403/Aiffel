{
 "cells": [
  {
   "cell_type": "markdown",
   "id": "bb02249b",
   "metadata": {},
   "source": [
    "평가문항 상세기준\n",
    "\n",
    "1. 한국어 전처리를 통해 학습 데이터셋을 구축하였다.\t공백과 특수문자 처리, 토크나이징, 병렬데이터 구축의 과정이 적절히 진행되었다.\n",
    "\n",
    "2. 트랜스포머 모델을 구현하여 한국어 챗봇 모델 학습을 정상적으로 진행하였다.\t구현한 트랜스포머 모델이 한국어 병렬 데이터 학습 시 안정적으로 수렴하였다.\n",
    "\n",
    "3. 한국어 입력문장에 대해 한국어로 답변하는 함수를 구현하였다. 한국어 입력문장에 맥락에 맞는 한국어로 답변을 리턴하였다."
   ]
  },
  {
   "cell_type": "code",
   "execution_count": 1,
   "id": "7a1e8979",
   "metadata": {},
   "outputs": [
    {
     "name": "stdout",
     "output_type": "stream",
     "text": [
      "2.6.0\n"
     ]
    }
   ],
   "source": [
    "import tensorflow as tf\n",
    "import tensorflow_datasets as tfds\n",
    "import os\n",
    "import re\n",
    "import numpy as np\n",
    "import pandas as pd\n",
    "import matplotlib.pyplot as plt\n",
    "import tensorflow\n",
    "print(tensorflow.__version__)"
   ]
  },
  {
   "cell_type": "markdown",
   "id": "1738dcfb",
   "metadata": {},
   "source": [
    "## 데이터 불러오기"
   ]
  },
  {
   "cell_type": "code",
   "execution_count": 2,
   "id": "7effe152",
   "metadata": {},
   "outputs": [
    {
     "data": {
      "text/html": [
       "<div>\n",
       "<style scoped>\n",
       "    .dataframe tbody tr th:only-of-type {\n",
       "        vertical-align: middle;\n",
       "    }\n",
       "\n",
       "    .dataframe tbody tr th {\n",
       "        vertical-align: top;\n",
       "    }\n",
       "\n",
       "    .dataframe thead th {\n",
       "        text-align: right;\n",
       "    }\n",
       "</style>\n",
       "<table border=\"1\" class=\"dataframe\">\n",
       "  <thead>\n",
       "    <tr style=\"text-align: right;\">\n",
       "      <th></th>\n",
       "      <th>Q</th>\n",
       "      <th>A</th>\n",
       "      <th>label</th>\n",
       "    </tr>\n",
       "  </thead>\n",
       "  <tbody>\n",
       "    <tr>\n",
       "      <th>0</th>\n",
       "      <td>12시 땡!</td>\n",
       "      <td>하루가 또 가네요.</td>\n",
       "      <td>0</td>\n",
       "    </tr>\n",
       "    <tr>\n",
       "      <th>1</th>\n",
       "      <td>1지망 학교 떨어졌어</td>\n",
       "      <td>위로해 드립니다.</td>\n",
       "      <td>0</td>\n",
       "    </tr>\n",
       "    <tr>\n",
       "      <th>2</th>\n",
       "      <td>3박4일 놀러가고 싶다</td>\n",
       "      <td>여행은 언제나 좋죠.</td>\n",
       "      <td>0</td>\n",
       "    </tr>\n",
       "    <tr>\n",
       "      <th>3</th>\n",
       "      <td>3박4일 정도 놀러가고 싶다</td>\n",
       "      <td>여행은 언제나 좋죠.</td>\n",
       "      <td>0</td>\n",
       "    </tr>\n",
       "    <tr>\n",
       "      <th>4</th>\n",
       "      <td>PPL 심하네</td>\n",
       "      <td>눈살이 찌푸려지죠.</td>\n",
       "      <td>0</td>\n",
       "    </tr>\n",
       "    <tr>\n",
       "      <th>...</th>\n",
       "      <td>...</td>\n",
       "      <td>...</td>\n",
       "      <td>...</td>\n",
       "    </tr>\n",
       "    <tr>\n",
       "      <th>11818</th>\n",
       "      <td>훔쳐보는 것도 눈치 보임.</td>\n",
       "      <td>티가 나니까 눈치가 보이는 거죠!</td>\n",
       "      <td>2</td>\n",
       "    </tr>\n",
       "    <tr>\n",
       "      <th>11819</th>\n",
       "      <td>훔쳐보는 것도 눈치 보임.</td>\n",
       "      <td>훔쳐보는 거 티나나봐요.</td>\n",
       "      <td>2</td>\n",
       "    </tr>\n",
       "    <tr>\n",
       "      <th>11820</th>\n",
       "      <td>흑기사 해주는 짝남.</td>\n",
       "      <td>설렜겠어요.</td>\n",
       "      <td>2</td>\n",
       "    </tr>\n",
       "    <tr>\n",
       "      <th>11821</th>\n",
       "      <td>힘든 연애 좋은 연애라는게 무슨 차이일까?</td>\n",
       "      <td>잘 헤어질 수 있는 사이 여부인 거 같아요.</td>\n",
       "      <td>2</td>\n",
       "    </tr>\n",
       "    <tr>\n",
       "      <th>11822</th>\n",
       "      <td>힘들어서 결혼할까봐</td>\n",
       "      <td>도피성 결혼은 하지 않길 바라요.</td>\n",
       "      <td>2</td>\n",
       "    </tr>\n",
       "  </tbody>\n",
       "</table>\n",
       "<p>11823 rows × 3 columns</p>\n",
       "</div>"
      ],
      "text/plain": [
       "                             Q                         A  label\n",
       "0                       12시 땡!                하루가 또 가네요.      0\n",
       "1                  1지망 학교 떨어졌어                 위로해 드립니다.      0\n",
       "2                 3박4일 놀러가고 싶다               여행은 언제나 좋죠.      0\n",
       "3              3박4일 정도 놀러가고 싶다               여행은 언제나 좋죠.      0\n",
       "4                      PPL 심하네                눈살이 찌푸려지죠.      0\n",
       "...                        ...                       ...    ...\n",
       "11818           훔쳐보는 것도 눈치 보임.        티가 나니까 눈치가 보이는 거죠!      2\n",
       "11819           훔쳐보는 것도 눈치 보임.             훔쳐보는 거 티나나봐요.      2\n",
       "11820              흑기사 해주는 짝남.                    설렜겠어요.      2\n",
       "11821  힘든 연애 좋은 연애라는게 무슨 차이일까?  잘 헤어질 수 있는 사이 여부인 거 같아요.      2\n",
       "11822               힘들어서 결혼할까봐        도피성 결혼은 하지 않길 바라요.      2\n",
       "\n",
       "[11823 rows x 3 columns]"
      ]
     },
     "execution_count": 2,
     "metadata": {},
     "output_type": "execute_result"
    }
   ],
   "source": [
    "data_path = os.getenv('HOME')+'/aiffel/transformer_chatbot/data/'\n",
    "csv_path = os.path.join(data_path, 'ChatbotData .csv')\n",
    "\n",
    "data = pd.read_csv(csv_path)\n",
    "data"
   ]
  },
  {
   "cell_type": "markdown",
   "id": "b0f9989d",
   "metadata": {},
   "source": [
    "전체 데이터는 11823개이다!"
   ]
  },
  {
   "cell_type": "code",
   "execution_count": 3,
   "id": "60ce9d47",
   "metadata": {},
   "outputs": [
    {
     "name": "stdout",
     "output_type": "stream",
     "text": [
      "11823\n"
     ]
    }
   ],
   "source": [
    "# 사용할 샘플의 최대 개수\n",
    "MAX_SAMPLES = len(data)\n",
    "print(MAX_SAMPLES)"
   ]
  },
  {
   "cell_type": "markdown",
   "id": "cfe6813d",
   "metadata": {},
   "source": [
    "랜덤으로 10개의 질문과 답변을 확인해본다."
   ]
  },
  {
   "cell_type": "code",
   "execution_count": 4,
   "id": "0624e95a",
   "metadata": {},
   "outputs": [
    {
     "name": "stdout",
     "output_type": "stream",
     "text": [
      "Q : 12시 땡!\n",
      "A : 하루가 또 가네요.\n",
      "\n",
      "Q : 1지망 학교 떨어졌어\n",
      "A : 위로해 드립니다.\n",
      "\n",
      "Q : 3박4일 놀러가고 싶다\n",
      "A : 여행은 언제나 좋죠.\n",
      "\n",
      "Q : 3박4일 정도 놀러가고 싶다\n",
      "A : 여행은 언제나 좋죠.\n",
      "\n",
      "Q : PPL 심하네\n",
      "A : 눈살이 찌푸려지죠.\n",
      "\n",
      "Q : SD카드 망가졌어\n",
      "A : 다시 새로 사는 게 마음 편해요.\n",
      "\n",
      "Q : SD카드 안돼\n",
      "A : 다시 새로 사는 게 마음 편해요.\n",
      "\n",
      "Q : SNS 맞팔 왜 안하지ㅠㅠ\n",
      "A : 잘 모르고 있을 수도 있어요.\n",
      "\n",
      "Q : SNS 시간낭비인 거 아는데 매일 하는 중\n",
      "A : 시간을 정하고 해보세요.\n",
      "\n",
      "Q : SNS 시간낭비인데 자꾸 보게됨\n",
      "A : 시간을 정하고 해보세요.\n",
      "\n"
     ]
    }
   ],
   "source": [
    "for i in range(10):\n",
    "    print('Q :', data['Q'][i])\n",
    "    print('A :', data['A'][i])    \n",
    "    print()"
   ]
  },
  {
   "cell_type": "markdown",
   "id": "c9d6c97c",
   "metadata": {},
   "source": [
    "## 중복 데이터 확인"
   ]
  },
  {
   "cell_type": "markdown",
   "id": "c89d7661",
   "metadata": {},
   "source": [
    "Q에 있는 중복되는 값이 있는 지 확인한다"
   ]
  },
  {
   "cell_type": "code",
   "execution_count": 5,
   "id": "d15895e9",
   "metadata": {},
   "outputs": [
    {
     "data": {
      "text/html": [
       "<div>\n",
       "<style scoped>\n",
       "    .dataframe tbody tr th:only-of-type {\n",
       "        vertical-align: middle;\n",
       "    }\n",
       "\n",
       "    .dataframe tbody tr th {\n",
       "        vertical-align: top;\n",
       "    }\n",
       "\n",
       "    .dataframe thead th {\n",
       "        text-align: right;\n",
       "    }\n",
       "</style>\n",
       "<table border=\"1\" class=\"dataframe\">\n",
       "  <thead>\n",
       "    <tr style=\"text-align: right;\">\n",
       "      <th></th>\n",
       "      <th>Q</th>\n",
       "      <th>A</th>\n",
       "      <th>label</th>\n",
       "    </tr>\n",
       "  </thead>\n",
       "  <tbody>\n",
       "    <tr>\n",
       "      <th>196</th>\n",
       "      <td>고양이 키우고 싶어</td>\n",
       "      <td>가족들과 상의해보세요.</td>\n",
       "      <td>0</td>\n",
       "    </tr>\n",
       "    <tr>\n",
       "      <th>235</th>\n",
       "      <td>공시 준비 힘들어</td>\n",
       "      <td>잘 될 거예요.</td>\n",
       "      <td>0</td>\n",
       "    </tr>\n",
       "    <tr>\n",
       "      <th>1294</th>\n",
       "      <td>돈 벌고 싶어</td>\n",
       "      <td>많이 벌수록 좋아요.</td>\n",
       "      <td>0</td>\n",
       "    </tr>\n",
       "    <tr>\n",
       "      <th>1445</th>\n",
       "      <td>로또 번호 알려줘</td>\n",
       "      <td>알면 제가 하죠.</td>\n",
       "      <td>0</td>\n",
       "    </tr>\n",
       "    <tr>\n",
       "      <th>1481</th>\n",
       "      <td>마음이 울적해</td>\n",
       "      <td>거리를 걸어보세요.</td>\n",
       "      <td>0</td>\n",
       "    </tr>\n",
       "    <tr>\n",
       "      <th>...</th>\n",
       "      <td>...</td>\n",
       "      <td>...</td>\n",
       "      <td>...</td>\n",
       "    </tr>\n",
       "    <tr>\n",
       "      <th>11642</th>\n",
       "      <td>착해서 잘해주는 건지 좋아하는 건지</td>\n",
       "      <td>헷갈린다고 말해보세요.</td>\n",
       "      <td>2</td>\n",
       "    </tr>\n",
       "    <tr>\n",
       "      <th>11649</th>\n",
       "      <td>첫 눈에 반하는게 가능해?</td>\n",
       "      <td>당연히 가능하죠.</td>\n",
       "      <td>2</td>\n",
       "    </tr>\n",
       "    <tr>\n",
       "      <th>11658</th>\n",
       "      <td>첫사랑 생각나</td>\n",
       "      <td>지금의 사랑에 충실하세요.</td>\n",
       "      <td>2</td>\n",
       "    </tr>\n",
       "    <tr>\n",
       "      <th>11732</th>\n",
       "      <td>커플여행이 나을까 그냥 우리끼리 갈까?</td>\n",
       "      <td>저는 둘이 가는 게 좋아요.</td>\n",
       "      <td>2</td>\n",
       "    </tr>\n",
       "    <tr>\n",
       "      <th>11819</th>\n",
       "      <td>훔쳐보는 것도 눈치 보임.</td>\n",
       "      <td>훔쳐보는 거 티나나봐요.</td>\n",
       "      <td>2</td>\n",
       "    </tr>\n",
       "  </tbody>\n",
       "</table>\n",
       "<p>161 rows × 3 columns</p>\n",
       "</div>"
      ],
      "text/plain": [
       "                           Q                A  label\n",
       "196               고양이 키우고 싶어     가족들과 상의해보세요.      0\n",
       "235                공시 준비 힘들어         잘 될 거예요.      0\n",
       "1294                 돈 벌고 싶어      많이 벌수록 좋아요.      0\n",
       "1445               로또 번호 알려줘        알면 제가 하죠.      0\n",
       "1481                 마음이 울적해       거리를 걸어보세요.      0\n",
       "...                      ...              ...    ...\n",
       "11642    착해서 잘해주는 건지 좋아하는 건지     헷갈린다고 말해보세요.      2\n",
       "11649         첫 눈에 반하는게 가능해?        당연히 가능하죠.      2\n",
       "11658                첫사랑 생각나   지금의 사랑에 충실하세요.      2\n",
       "11732  커플여행이 나을까 그냥 우리끼리 갈까?  저는 둘이 가는 게 좋아요.      2\n",
       "11819         훔쳐보는 것도 눈치 보임.    훔쳐보는 거 티나나봐요.      2\n",
       "\n",
       "[161 rows x 3 columns]"
      ]
     },
     "execution_count": 5,
     "metadata": {},
     "output_type": "execute_result"
    }
   ],
   "source": [
    "data[data.duplicated(['Q'])]"
   ]
  },
  {
   "cell_type": "markdown",
   "id": "3e3bc52f",
   "metadata": {},
   "source": [
    "1481번의 '마음이 울적해'와 중복되는 것이 1480번에도 있는 것을 알 수 있다!"
   ]
  },
  {
   "cell_type": "code",
   "execution_count": 6,
   "id": "e0d92f67",
   "metadata": {},
   "outputs": [
    {
     "data": {
      "text/html": [
       "<div>\n",
       "<style scoped>\n",
       "    .dataframe tbody tr th:only-of-type {\n",
       "        vertical-align: middle;\n",
       "    }\n",
       "\n",
       "    .dataframe tbody tr th {\n",
       "        vertical-align: top;\n",
       "    }\n",
       "\n",
       "    .dataframe thead th {\n",
       "        text-align: right;\n",
       "    }\n",
       "</style>\n",
       "<table border=\"1\" class=\"dataframe\">\n",
       "  <thead>\n",
       "    <tr style=\"text-align: right;\">\n",
       "      <th></th>\n",
       "      <th>Q</th>\n",
       "      <th>A</th>\n",
       "      <th>label</th>\n",
       "    </tr>\n",
       "  </thead>\n",
       "  <tbody>\n",
       "    <tr>\n",
       "      <th>1480</th>\n",
       "      <td>마음이 울적해</td>\n",
       "      <td>소리를 크게한번 질러보세요.</td>\n",
       "      <td>0</td>\n",
       "    </tr>\n",
       "    <tr>\n",
       "      <th>1481</th>\n",
       "      <td>마음이 울적해</td>\n",
       "      <td>거리를 걸어보세요.</td>\n",
       "      <td>0</td>\n",
       "    </tr>\n",
       "  </tbody>\n",
       "</table>\n",
       "</div>"
      ],
      "text/plain": [
       "            Q                A  label\n",
       "1480  마음이 울적해  소리를 크게한번 질러보세요.      0\n",
       "1481  마음이 울적해       거리를 걸어보세요.      0"
      ]
     },
     "execution_count": 6,
     "metadata": {},
     "output_type": "execute_result"
    }
   ],
   "source": [
    "data[data['Q']==data['Q'][1481]]"
   ]
  },
  {
   "cell_type": "markdown",
   "id": "16bbe14b",
   "metadata": {},
   "source": [
    "중복되는 데이터들을 제거해주니 7727개의 데이터가 남았다."
   ]
  },
  {
   "cell_type": "markdown",
   "id": "383dd8da",
   "metadata": {},
   "source": [
    "A에도 중복되는 데이터가 있는 지 확인해보자."
   ]
  },
  {
   "cell_type": "code",
   "execution_count": 7,
   "id": "e357f1a4",
   "metadata": {},
   "outputs": [
    {
     "data": {
      "text/html": [
       "<div>\n",
       "<style scoped>\n",
       "    .dataframe tbody tr th:only-of-type {\n",
       "        vertical-align: middle;\n",
       "    }\n",
       "\n",
       "    .dataframe tbody tr th {\n",
       "        vertical-align: top;\n",
       "    }\n",
       "\n",
       "    .dataframe thead th {\n",
       "        text-align: right;\n",
       "    }\n",
       "</style>\n",
       "<table border=\"1\" class=\"dataframe\">\n",
       "  <thead>\n",
       "    <tr style=\"text-align: right;\">\n",
       "      <th></th>\n",
       "      <th>Q</th>\n",
       "      <th>A</th>\n",
       "      <th>label</th>\n",
       "    </tr>\n",
       "  </thead>\n",
       "  <tbody>\n",
       "    <tr>\n",
       "      <th>3</th>\n",
       "      <td>3박4일 정도 놀러가고 싶다</td>\n",
       "      <td>여행은 언제나 좋죠.</td>\n",
       "      <td>0</td>\n",
       "    </tr>\n",
       "    <tr>\n",
       "      <th>6</th>\n",
       "      <td>SD카드 안돼</td>\n",
       "      <td>다시 새로 사는 게 마음 편해요.</td>\n",
       "      <td>0</td>\n",
       "    </tr>\n",
       "    <tr>\n",
       "      <th>9</th>\n",
       "      <td>SNS 시간낭비인데 자꾸 보게됨</td>\n",
       "      <td>시간을 정하고 해보세요.</td>\n",
       "      <td>0</td>\n",
       "    </tr>\n",
       "    <tr>\n",
       "      <th>12</th>\n",
       "      <td>가끔 뭐하는지 궁금해</td>\n",
       "      <td>그 사람도 그럴 거예요.</td>\n",
       "      <td>0</td>\n",
       "    </tr>\n",
       "    <tr>\n",
       "      <th>18</th>\n",
       "      <td>가스불 켜놓고 나온거 같아</td>\n",
       "      <td>빨리 집에 돌아가서 끄고 나오세요.</td>\n",
       "      <td>0</td>\n",
       "    </tr>\n",
       "    <tr>\n",
       "      <th>...</th>\n",
       "      <td>...</td>\n",
       "      <td>...</td>\n",
       "      <td>...</td>\n",
       "    </tr>\n",
       "    <tr>\n",
       "      <th>11806</th>\n",
       "      <td>혼자만 설레고 혼자서 끝내는 짝사랑 그만할래.</td>\n",
       "      <td>맘고생 많았어요.</td>\n",
       "      <td>2</td>\n",
       "    </tr>\n",
       "    <tr>\n",
       "      <th>11807</th>\n",
       "      <td>화이트데이에 고백할까요?</td>\n",
       "      <td>선물을 주면서 솔직하고 당당하게 고백해보세요.</td>\n",
       "      <td>2</td>\n",
       "    </tr>\n",
       "    <tr>\n",
       "      <th>11809</th>\n",
       "      <td>확실히 날 좋아하는 걸 아는 남자랑 친구가 될 수 있을까?</td>\n",
       "      <td>그 사람을 위해서는 그러면 안돼요.</td>\n",
       "      <td>2</td>\n",
       "    </tr>\n",
       "    <tr>\n",
       "      <th>11816</th>\n",
       "      <td>회식하는데 나만 챙겨줘. 썸임?</td>\n",
       "      <td>호감이 있을 수도 있어요. 그렇지만 조금 더 상황을 지켜보세요.</td>\n",
       "      <td>2</td>\n",
       "    </tr>\n",
       "    <tr>\n",
       "      <th>11822</th>\n",
       "      <td>힘들어서 결혼할까봐</td>\n",
       "      <td>도피성 결혼은 하지 않길 바라요.</td>\n",
       "      <td>2</td>\n",
       "    </tr>\n",
       "  </tbody>\n",
       "</table>\n",
       "<p>4044 rows × 3 columns</p>\n",
       "</div>"
      ],
      "text/plain": [
       "                                      Q                                    A  \\\n",
       "3                       3박4일 정도 놀러가고 싶다                          여행은 언제나 좋죠.   \n",
       "6                               SD카드 안돼                   다시 새로 사는 게 마음 편해요.   \n",
       "9                     SNS 시간낭비인데 자꾸 보게됨                        시간을 정하고 해보세요.   \n",
       "12                          가끔 뭐하는지 궁금해                        그 사람도 그럴 거예요.   \n",
       "18                       가스불 켜놓고 나온거 같아                  빨리 집에 돌아가서 끄고 나오세요.   \n",
       "...                                 ...                                  ...   \n",
       "11806         혼자만 설레고 혼자서 끝내는 짝사랑 그만할래.                            맘고생 많았어요.   \n",
       "11807                     화이트데이에 고백할까요?            선물을 주면서 솔직하고 당당하게 고백해보세요.   \n",
       "11809  확실히 날 좋아하는 걸 아는 남자랑 친구가 될 수 있을까?                  그 사람을 위해서는 그러면 안돼요.   \n",
       "11816                 회식하는데 나만 챙겨줘. 썸임?  호감이 있을 수도 있어요. 그렇지만 조금 더 상황을 지켜보세요.   \n",
       "11822                        힘들어서 결혼할까봐                   도피성 결혼은 하지 않길 바라요.   \n",
       "\n",
       "       label  \n",
       "3          0  \n",
       "6          0  \n",
       "9          0  \n",
       "12         0  \n",
       "18         0  \n",
       "...      ...  \n",
       "11806      2  \n",
       "11807      2  \n",
       "11809      2  \n",
       "11816      2  \n",
       "11822      2  \n",
       "\n",
       "[4044 rows x 3 columns]"
      ]
     },
     "execution_count": 7,
     "metadata": {},
     "output_type": "execute_result"
    }
   ],
   "source": [
    "data[data.duplicated(['A'])]"
   ]
  },
  {
   "cell_type": "markdown",
   "id": "1d0b53d9",
   "metadata": {},
   "source": [
    "'맘고생 많았어요'와 중복되는 결과들이 엄청 많이 나온다.."
   ]
  },
  {
   "cell_type": "code",
   "execution_count": 8,
   "id": "e0345e87",
   "metadata": {},
   "outputs": [
    {
     "data": {
      "text/html": [
       "<div>\n",
       "<style scoped>\n",
       "    .dataframe tbody tr th:only-of-type {\n",
       "        vertical-align: middle;\n",
       "    }\n",
       "\n",
       "    .dataframe tbody tr th {\n",
       "        vertical-align: top;\n",
       "    }\n",
       "\n",
       "    .dataframe thead th {\n",
       "        text-align: right;\n",
       "    }\n",
       "</style>\n",
       "<table border=\"1\" class=\"dataframe\">\n",
       "  <thead>\n",
       "    <tr style=\"text-align: right;\">\n",
       "      <th></th>\n",
       "      <th>Q</th>\n",
       "      <th>A</th>\n",
       "      <th>label</th>\n",
       "    </tr>\n",
       "  </thead>\n",
       "  <tbody>\n",
       "    <tr>\n",
       "      <th>5751</th>\n",
       "      <td>끝이났네</td>\n",
       "      <td>맘고생 많았어요.</td>\n",
       "      <td>1</td>\n",
       "    </tr>\n",
       "    <tr>\n",
       "      <th>6010</th>\n",
       "      <td>니가 원망스러워</td>\n",
       "      <td>맘고생 많았어요.</td>\n",
       "      <td>1</td>\n",
       "    </tr>\n",
       "    <tr>\n",
       "      <th>6455</th>\n",
       "      <td>방금 헤어지고 왔습니다</td>\n",
       "      <td>맘고생 많았어요.</td>\n",
       "      <td>1</td>\n",
       "    </tr>\n",
       "    <tr>\n",
       "      <th>7726</th>\n",
       "      <td>이제는 정말 끝</td>\n",
       "      <td>맘고생 많았어요.</td>\n",
       "      <td>1</td>\n",
       "    </tr>\n",
       "    <tr>\n",
       "      <th>8015</th>\n",
       "      <td>정리가 되네</td>\n",
       "      <td>맘고생 많았어요.</td>\n",
       "      <td>1</td>\n",
       "    </tr>\n",
       "    <tr>\n",
       "      <th>8211</th>\n",
       "      <td>진짜 끝</td>\n",
       "      <td>맘고생 많았어요.</td>\n",
       "      <td>1</td>\n",
       "    </tr>\n",
       "    <tr>\n",
       "      <th>8221</th>\n",
       "      <td>진짜 이제 안녕</td>\n",
       "      <td>맘고생 많았어요.</td>\n",
       "      <td>1</td>\n",
       "    </tr>\n",
       "    <tr>\n",
       "      <th>8234</th>\n",
       "      <td>질질 끄는연애 드디어끝이네.</td>\n",
       "      <td>맘고생 많았어요.</td>\n",
       "      <td>1</td>\n",
       "    </tr>\n",
       "    <tr>\n",
       "      <th>10303</th>\n",
       "      <td>썸남이 짝남 됐어요. 위로해 주세요.</td>\n",
       "      <td>맘고생 많았어요.</td>\n",
       "      <td>2</td>\n",
       "    </tr>\n",
       "    <tr>\n",
       "      <th>11806</th>\n",
       "      <td>혼자만 설레고 혼자서 끝내는 짝사랑 그만할래.</td>\n",
       "      <td>맘고생 많았어요.</td>\n",
       "      <td>2</td>\n",
       "    </tr>\n",
       "  </tbody>\n",
       "</table>\n",
       "</div>"
      ],
      "text/plain": [
       "                               Q          A  label\n",
       "5751                        끝이났네  맘고생 많았어요.      1\n",
       "6010                    니가 원망스러워  맘고생 많았어요.      1\n",
       "6455                방금 헤어지고 왔습니다  맘고생 많았어요.      1\n",
       "7726                    이제는 정말 끝  맘고생 많았어요.      1\n",
       "8015                      정리가 되네  맘고생 많았어요.      1\n",
       "8211                        진짜 끝  맘고생 많았어요.      1\n",
       "8221                    진짜 이제 안녕  맘고생 많았어요.      1\n",
       "8234             질질 끄는연애 드디어끝이네.  맘고생 많았어요.      1\n",
       "10303       썸남이 짝남 됐어요. 위로해 주세요.  맘고생 많았어요.      2\n",
       "11806  혼자만 설레고 혼자서 끝내는 짝사랑 그만할래.  맘고생 많았어요.      2"
      ]
     },
     "execution_count": 8,
     "metadata": {},
     "output_type": "execute_result"
    }
   ],
   "source": [
    "data[data['A']==data['A'][11806]]"
   ]
  },
  {
   "cell_type": "markdown",
   "id": "d56f97e9",
   "metadata": {},
   "source": [
    "A에서도 중복 데이터를 제거해주고 나면 7779개가 남게 된다."
   ]
  },
  {
   "cell_type": "code",
   "execution_count": 9,
   "id": "2b5ac0ea",
   "metadata": {},
   "outputs": [
    {
     "data": {
      "text/plain": [
       "Q        0\n",
       "A        0\n",
       "label    0\n",
       "dtype: int64"
      ]
     },
     "execution_count": 9,
     "metadata": {},
     "output_type": "execute_result"
    }
   ],
   "source": [
    "# 결측치 확인\n",
    "data.isna().sum()"
   ]
  },
  {
   "cell_type": "markdown",
   "id": "b900e932",
   "metadata": {},
   "source": [
    "## 데이터 전처리"
   ]
  },
  {
   "cell_type": "markdown",
   "id": "6ebdcb15",
   "metadata": {},
   "source": [
    "단어 토크나이징 방해되지 않도록 정규 표현식으로 구두점을 제거한다."
   ]
  },
  {
   "cell_type": "code",
   "execution_count": 10,
   "id": "12ffc3dc",
   "metadata": {},
   "outputs": [],
   "source": [
    "# 전처리 함수\n",
    "def preprocess_sentence(sentence):\n",
    "  sentence = sentence.lower().strip()\n",
    "\n",
    "  # 단어와 구두점(punctuation) 사이의 거리를 만듭니다.\n",
    "  # 예를 들어서 \"I am a student.\" => \"I am a student .\"와 같이\n",
    "  # student와 온점 사이에 거리를 만듭니다.\n",
    "  sentence = re.sub(r\"([?.!,])\", r\" \\1 \", sentence)\n",
    "  sentence = re.sub(r'[\" \"]+', \" \", sentence)\n",
    "\n",
    "  # (가-힣, \".\", \"?\", \"!\", \",\")를 제외한 모든 문자를 공백인 ' '로 대체합니다.\n",
    "  sentence = re.sub(r\"[^가-힣?.!,]+\", \" \", sentence)\n",
    "  sentence = sentence.strip()\n",
    "  return sentence"
   ]
  },
  {
   "cell_type": "code",
   "execution_count": 11,
   "id": "57965d6a",
   "metadata": {},
   "outputs": [],
   "source": [
    "# 질문과 답변의 쌍인 데이터셋을 구성하기 위한 데이터 로드 함수\n",
    "def load_conversations():\n",
    "  inputs, outputs = [], []\n",
    "  for i in range(MAX_SAMPLES):\n",
    "    # 전처리 함수를 질문에 해당되는 inputs와 답변에 해당되는 outputs에 적용.\n",
    "    inputs.append(preprocess_sentence(data['Q'].values[i]))\n",
    "    outputs.append(preprocess_sentence(data['A'].values[i]))\n",
    "\n",
    "  return inputs, outputs"
   ]
  },
  {
   "cell_type": "code",
   "execution_count": 12,
   "id": "2aaec1cb",
   "metadata": {},
   "outputs": [
    {
     "name": "stdout",
     "output_type": "stream",
     "text": [
      "전체 질문 수 : 11823\n",
      "전체 답변 수 : 11823\n"
     ]
    }
   ],
   "source": [
    "# 데이터를 로드하고 전처리하여 질문을 questions, 답변을 answers에 저장합니다.\n",
    "questions, answers = load_conversations()\n",
    "print('전체 질문 수 :', len(questions))\n",
    "print('전체 답변 수 :', len(answers))"
   ]
  },
  {
   "cell_type": "markdown",
   "id": "9eed82e2",
   "metadata": {},
   "source": [
    "위에서 확인한 데이터대로 잘 저장되었다!"
   ]
  },
  {
   "cell_type": "code",
   "execution_count": 13,
   "id": "761bed86",
   "metadata": {},
   "outputs": [
    {
     "name": "stdout",
     "output_type": "stream",
     "text": [
      "전처리 후의 22번째 질문 샘플: 마음이 울적해\n",
      "전처리 후의 22번째 답변 샘플: 거리를 걸어보세요 .\n"
     ]
    }
   ],
   "source": [
    "print('전처리 후의 22번째 질문 샘플: {}'.format(questions[1481]))\n",
    "print('전처리 후의 22번째 답변 샘플: {}'.format(answers[1481]))"
   ]
  },
  {
   "cell_type": "code",
   "execution_count": 14,
   "id": "5bfe01cf",
   "metadata": {},
   "outputs": [],
   "source": [
    "import tensorflow_datasets as tfds\n",
    "\n",
    "# 질문과 답변 데이터셋에 대해서 Vocabulary 생성\n",
    "tokenizer = tfds.deprecated.text.SubwordTextEncoder.build_from_corpus(questions + answers, target_vocab_size=2**13)"
   ]
  },
  {
   "cell_type": "code",
   "execution_count": 15,
   "id": "31fd476b",
   "metadata": {},
   "outputs": [],
   "source": [
    "# 시작 토큰과 종료 토큰에 고유한 정수를 부여합니다.\n",
    "START_TOKEN, END_TOKEN = [tokenizer.vocab_size], [tokenizer.vocab_size + 1]"
   ]
  },
  {
   "cell_type": "code",
   "execution_count": 16,
   "id": "07460f71",
   "metadata": {},
   "outputs": [
    {
     "name": "stdout",
     "output_type": "stream",
     "text": [
      "START_TOKEN의 번호 : [8127]\n",
      "END_TOKEN의 번호 : [8128]\n"
     ]
    }
   ],
   "source": [
    "print('START_TOKEN의 번호 :' ,[tokenizer.vocab_size])\n",
    "print('END_TOKEN의 번호 :' ,[tokenizer.vocab_size + 1])"
   ]
  },
  {
   "cell_type": "code",
   "execution_count": 17,
   "id": "ee6032cb",
   "metadata": {},
   "outputs": [
    {
     "name": "stdout",
     "output_type": "stream",
     "text": [
      "8129\n"
     ]
    }
   ],
   "source": [
    "# 시작 토큰과 종료 토큰을 고려하여 +2를 하여 단어장의 크기를 산정합니다.\n",
    "VOCAB_SIZE = tokenizer.vocab_size + 2\n",
    "print(VOCAB_SIZE)"
   ]
  },
  {
   "cell_type": "markdown",
   "id": "ea3b543a",
   "metadata": {},
   "source": [
    "## 각 단어를 고유한 정수로 인코딩(Integer encoding) & 패딩(Padding)"
   ]
  },
  {
   "cell_type": "code",
   "execution_count": 18,
   "id": "46a51dfd",
   "metadata": {},
   "outputs": [
    {
     "name": "stdout",
     "output_type": "stream",
     "text": [
      "정수 인코딩 후의 21번째 질문 샘플: [5742, 612, 2481, 4148]\n",
      "정수 인코딩 후의 21번째 답변 샘플: [2352, 7481, 7, 6245, 97, 1]\n"
     ]
    }
   ],
   "source": [
    "# 임의의 22번째 샘플에 대해서 정수 인코딩 작업을 수행.\n",
    "# 각 토큰을 고유한 정수로 변환\n",
    "print('정수 인코딩 후의 21번째 질문 샘플: {}'.format(tokenizer.encode(questions[21])))\n",
    "print('정수 인코딩 후의 21번째 답변 샘플: {}'.format(tokenizer.encode(answers[21])))"
   ]
  },
  {
   "cell_type": "code",
   "execution_count": 19,
   "id": "546c5c1e",
   "metadata": {},
   "outputs": [
    {
     "name": "stdout",
     "output_type": "stream",
     "text": [
      "40\n"
     ]
    }
   ],
   "source": [
    "# 샘플의 최대 허용 길이 또는 패딩 후의 최종 길이\n",
    "MAX_LENGTH = 40\n",
    "print(MAX_LENGTH)"
   ]
  },
  {
   "cell_type": "code",
   "execution_count": 20,
   "id": "b23941c4",
   "metadata": {},
   "outputs": [
    {
     "name": "stdout",
     "output_type": "stream",
     "text": [
      "슝=3\n"
     ]
    }
   ],
   "source": [
    "# 정수 인코딩, 최대 길이를 초과하는 샘플 제거, 패딩\n",
    "def tokenize_and_filter(inputs, outputs):\n",
    "  tokenized_inputs, tokenized_outputs = [], []\n",
    "  \n",
    "  for (sentence1, sentence2) in zip(inputs, outputs):\n",
    "    # 정수 인코딩 과정에서 시작 토큰과 종료 토큰을 추가\n",
    "    sentence1 = START_TOKEN + tokenizer.encode(sentence1) + END_TOKEN\n",
    "    sentence2 = START_TOKEN + tokenizer.encode(sentence2) + END_TOKEN\n",
    "\n",
    "    # 최대 길이 40 이하인 경우에만 데이터셋으로 허용\n",
    "    if len(sentence1) <= MAX_LENGTH and len(sentence2) <= MAX_LENGTH:\n",
    "      tokenized_inputs.append(sentence1)\n",
    "      tokenized_outputs.append(sentence2)\n",
    "  \n",
    "  # 최대 길이 40으로 모든 데이터셋을 패딩\n",
    "  tokenized_inputs = tf.keras.preprocessing.sequence.pad_sequences(\n",
    "      tokenized_inputs, maxlen=MAX_LENGTH, padding='post')\n",
    "  tokenized_outputs = tf.keras.preprocessing.sequence.pad_sequences(\n",
    "      tokenized_outputs, maxlen=MAX_LENGTH, padding='post')\n",
    "  \n",
    "  return tokenized_inputs, tokenized_outputs"
   ]
  },
  {
   "cell_type": "code",
   "execution_count": 21,
   "id": "739c88c1",
   "metadata": {},
   "outputs": [
    {
     "name": "stdout",
     "output_type": "stream",
     "text": [
      "단어장의 크기 : 8129\n",
      "필터링 후의 질문 샘플 개수: 11823\n",
      "필터링 후의 답변 샘플 개수: 11823\n"
     ]
    }
   ],
   "source": [
    "questions, answers = tokenize_and_filter(questions, answers)\n",
    "print('단어장의 크기 :',(VOCAB_SIZE))\n",
    "print('필터링 후의 질문 샘플 개수: {}'.format(len(questions)))\n",
    "print('필터링 후의 답변 샘플 개수: {}'.format(len(answers)))"
   ]
  },
  {
   "cell_type": "markdown",
   "id": "8b72563f",
   "metadata": {},
   "source": [
    "## 교사 강요(Teacher Forcing) 사용"
   ]
  },
  {
   "cell_type": "markdown",
   "id": "ca6e7d0c",
   "metadata": {},
   "source": [
    "tf.data.Dataset API 는 훈련 프로세스의 속도가 빨라지도록 입력 파이프라인을 구축하는 API이다.\n",
    "\n",
    "이를 적극 사용하기 위해서 질문과 답변의 쌍을 tf.data.Dataset의 입력으로 넣어주는 작업을 한다."
   ]
  },
  {
   "cell_type": "code",
   "execution_count": 22,
   "id": "ae68f436",
   "metadata": {},
   "outputs": [
    {
     "name": "stdout",
     "output_type": "stream",
     "text": [
      "슝=3\n"
     ]
    }
   ],
   "source": [
    "BATCH_SIZE = 64\n",
    "BUFFER_SIZE = 20000\n",
    "\n",
    "# 디코더는 이전의 target을 다음의 input으로 사용합니다.\n",
    "# 이에 따라 outputs에서는 START_TOKEN을 제거하겠습니다.\n",
    "dataset = tf.data.Dataset.from_tensor_slices((\n",
    "    {\n",
    "        'inputs': questions,\n",
    "        'dec_inputs': answers[:, :-1]\n",
    "    },\n",
    "    {\n",
    "        'outputs': answers[:, 1:]\n",
    "    },\n",
    "))\n",
    "\n",
    "dataset = dataset.cache()\n",
    "dataset = dataset.shuffle(BUFFER_SIZE)\n",
    "dataset = dataset.batch(BATCH_SIZE)\n",
    "dataset = dataset.prefetch(tf.data.experimental.AUTOTUNE)"
   ]
  },
  {
   "cell_type": "markdown",
   "id": "0d291a62",
   "metadata": {},
   "source": [
    "## 모델 생성"
   ]
  },
  {
   "cell_type": "code",
   "execution_count": 23,
   "id": "55103af1",
   "metadata": {},
   "outputs": [
    {
     "name": "stdout",
     "output_type": "stream",
     "text": [
      "슝=3\n"
     ]
    }
   ],
   "source": [
    "# 포지셔널 인코딩 레이어\n",
    "class PositionalEncoding(tf.keras.layers.Layer):\n",
    "\n",
    "  def __init__(self, position, d_model):\n",
    "    super(PositionalEncoding, self).__init__()\n",
    "    self.pos_encoding = self.positional_encoding(position, d_model)\n",
    "\n",
    "  def get_angles(self, position, i, d_model):\n",
    "    angles = 1 / tf.pow(10000, (2 * (i // 2)) / tf.cast(d_model, tf.float32))\n",
    "    return position * angles\n",
    "\n",
    "  def positional_encoding(self, position, d_model):\n",
    "    # 각도 배열 생성\n",
    "    angle_rads = self.get_angles(\n",
    "        position=tf.range(position, dtype=tf.float32)[:, tf.newaxis],\n",
    "        i=tf.range(d_model, dtype=tf.float32)[tf.newaxis, :],\n",
    "        d_model=d_model)\n",
    "\n",
    "    # 배열의 짝수 인덱스에는 sin 함수 적용\n",
    "    sines = tf.math.sin(angle_rads[:, 0::2])\n",
    "    # 배열의 홀수 인덱스에는 cosine 함수 적용\n",
    "    cosines = tf.math.cos(angle_rads[:, 1::2])\n",
    "\n",
    "    # sin과 cosine이 교차되도록 재배열\n",
    "    pos_encoding = tf.stack([sines, cosines], axis=0)\n",
    "    pos_encoding = tf.transpose(pos_encoding,[1, 2, 0]) \n",
    "    pos_encoding = tf.reshape(pos_encoding, [position, d_model])\n",
    "\n",
    "    pos_encoding = pos_encoding[tf.newaxis, ...]\n",
    "    return tf.cast(pos_encoding, tf.float32)\n",
    "\n",
    "  def call(self, inputs):\n",
    "    return inputs + self.pos_encoding[:, :tf.shape(inputs)[1], :]\n"
   ]
  },
  {
   "cell_type": "code",
   "execution_count": 24,
   "id": "739adf64",
   "metadata": {},
   "outputs": [
    {
     "name": "stdout",
     "output_type": "stream",
     "text": [
      "슝=3\n"
     ]
    }
   ],
   "source": [
    "# 인코더 하나의 레이어를 함수로 구현.\n",
    "# 이 하나의 레이어 안에는 두 개의 서브 레이어가 존재합니다.\n",
    "def encoder_layer(units, d_model, num_heads, dropout, name=\"encoder_layer\"):\n",
    "  inputs = tf.keras.Input(shape=(None, d_model), name=\"inputs\")\n",
    "\n",
    "  # 패딩 마스크 사용\n",
    "  padding_mask = tf.keras.Input(shape=(1, 1, None), name=\"padding_mask\")\n",
    "\n",
    "  # 첫 번째 서브 레이어 : 멀티 헤드 어텐션 수행 (셀프 어텐션)\n",
    "  attention = MultiHeadAttention(\n",
    "      d_model, num_heads, name=\"attention\")({\n",
    "          'query': inputs,\n",
    "          'key': inputs,\n",
    "          'value': inputs,\n",
    "          'mask': padding_mask\n",
    "      })\n",
    "\n",
    "  # 어텐션의 결과는 Dropout과 Layer Normalization이라는 훈련을 돕는 테크닉을 수행\n",
    "  attention = tf.keras.layers.Dropout(rate=dropout)(attention)\n",
    "  attention = tf.keras.layers.LayerNormalization(\n",
    "      epsilon=1e-6)(inputs + attention)\n",
    "\n",
    "  # 두 번째 서브 레이어 : 2개의 완전연결층\n",
    "  outputs = tf.keras.layers.Dense(units=units, activation='relu')(attention)\n",
    "  outputs = tf.keras.layers.Dense(units=d_model)(outputs)\n",
    "\n",
    "  # 완전연결층의 결과는 Dropout과 LayerNormalization이라는 훈련을 돕는 테크닉을 수행\n",
    "  outputs = tf.keras.layers.Dropout(rate=dropout)(outputs)\n",
    "  outputs = tf.keras.layers.LayerNormalization(\n",
    "      epsilon=1e-6)(attention + outputs)\n",
    "\n",
    "  return tf.keras.Model(\n",
    "      inputs=[inputs, padding_mask], outputs=outputs, name=name)\n"
   ]
  },
  {
   "cell_type": "code",
   "execution_count": 25,
   "id": "aedda0ca",
   "metadata": {},
   "outputs": [
    {
     "data": {
      "image/png": "[encoded data removed]",
      "text/plain": [
       "<Figure size 432x288 with 2 Axes>"
      ]
     },
     "metadata": {
      "needs_background": "light"
     },
     "output_type": "display_data"
    }
   ],
   "source": [
    "sample_pos_encoding =  PositionalEncoding(50, 512)\n",
    "\n",
    "plt.pcolormesh(sample_pos_encoding.pos_encoding.numpy()[0], cmap='RdBu')\n",
    "plt.xlabel('Depth')\n",
    "plt.xlim((0, 512))\n",
    "plt.ylabel('Position')\n",
    "plt.colorbar()\n",
    "plt.show()"
   ]
  },
  {
   "cell_type": "markdown",
   "id": "469998b6",
   "metadata": {},
   "source": [
    "## 스케일드 닷 프로덕트 어텐션 함수 구현"
   ]
  },
  {
   "cell_type": "code",
   "execution_count": 26,
   "id": "4c276cbe",
   "metadata": {},
   "outputs": [
    {
     "name": "stdout",
     "output_type": "stream",
     "text": [
      "슝=3\n"
     ]
    }
   ],
   "source": [
    "# 스케일드 닷 프로덕트 어텐션 함수\n",
    "def scaled_dot_product_attention(query, key, value, mask):\n",
    "  # 어텐션 가중치는 Q와 K의 닷 프로덕트\n",
    "  matmul_qk = tf.matmul(query, key, transpose_b=True)\n",
    "\n",
    "  # 가중치를 정규화\n",
    "  depth = tf.cast(tf.shape(key)[-1], tf.float32)\n",
    "  logits = matmul_qk / tf.math.sqrt(depth)\n",
    "\n",
    "  # 패딩에 마스크 추가\n",
    "  if mask is not None:\n",
    "    logits += (mask * -1e9)\n",
    "\n",
    "  # softmax적용\n",
    "  attention_weights = tf.nn.softmax(logits, axis=-1)\n",
    "\n",
    "  # 최종 어텐션은 가중치와 V의 닷 프로덕트\n",
    "  output = tf.matmul(attention_weights, value)\n",
    "  return output\n"
   ]
  },
  {
   "cell_type": "markdown",
   "id": "db8c58d3",
   "metadata": {},
   "source": [
    "스케일드 닷 프로덕트 어텐션 함수 호출"
   ]
  },
  {
   "cell_type": "code",
   "execution_count": 27,
   "id": "898a43a0",
   "metadata": {},
   "outputs": [
    {
     "name": "stdout",
     "output_type": "stream",
     "text": [
      "슝=3\n"
     ]
    }
   ],
   "source": [
    "class MultiHeadAttention(tf.keras.layers.Layer):\n",
    "\n",
    "  def __init__(self, d_model, num_heads, name=\"multi_head_attention\"):\n",
    "    super(MultiHeadAttention, self).__init__(name=name)\n",
    "    self.num_heads = num_heads\n",
    "    self.d_model = d_model\n",
    "\n",
    "    assert d_model % self.num_heads == 0\n",
    "\n",
    "    self.depth = d_model // self.num_heads\n",
    "\n",
    "    self.query_dense = tf.keras.layers.Dense(units=d_model)\n",
    "    self.key_dense = tf.keras.layers.Dense(units=d_model)\n",
    "    self.value_dense = tf.keras.layers.Dense(units=d_model)\n",
    "\n",
    "    self.dense = tf.keras.layers.Dense(units=d_model)\n",
    "\n",
    "  def split_heads(self, inputs, batch_size):\n",
    "    inputs = tf.reshape(\n",
    "        inputs, shape=(batch_size, -1, self.num_heads, self.depth))\n",
    "    return tf.transpose(inputs, perm=[0, 2, 1, 3])\n",
    "\n",
    "  def call(self, inputs):\n",
    "    query, key, value, mask = inputs['query'], inputs['key'], inputs[\n",
    "        'value'], inputs['mask']\n",
    "    batch_size = tf.shape(query)[0]\n",
    "\n",
    "    # Q, K, V에 각각 Dense를 적용합니다\n",
    "    query = self.query_dense(query)\n",
    "    key = self.key_dense(key)\n",
    "    value = self.value_dense(value)\n",
    "\n",
    "    # 병렬 연산을 위한 머리를 여러 개 만듭니다\n",
    "    query = self.split_heads(query, batch_size)\n",
    "    key = self.split_heads(key, batch_size)\n",
    "    value = self.split_heads(value, batch_size)\n",
    "\n",
    "    # 스케일드 닷 프로덕트 어텐션 함수\n",
    "    scaled_attention = scaled_dot_product_attention(query, key, value, mask)\n",
    "\n",
    "    scaled_attention = tf.transpose(scaled_attention, perm=[0, 2, 1, 3])\n",
    "\n",
    "    # 어텐션 연산 후에 각 결과를 다시 연결(concatenate)합니다\n",
    "    concat_attention = tf.reshape(scaled_attention,\n",
    "                                  (batch_size, -1, self.d_model))\n",
    "\n",
    "    # 최종 결과에도 Dense를 한 번 더 적용합니다\n",
    "    outputs = self.dense(concat_attention)\n",
    "\n",
    "    return outputs"
   ]
  },
  {
   "cell_type": "markdown",
   "id": "0f84ac08",
   "metadata": {},
   "source": [
    "## 패딩 마스킹"
   ]
  },
  {
   "cell_type": "markdown",
   "id": "186e125e",
   "metadata": {},
   "source": [
    "패딩은 문장의 길이가 서로 다를 때, 모든 문장의 길이를 동일하게 해주는 과정에서 정해준 길이보다 짧은 문장의 경우에는 숫자 0을 채워서 문장의 길이를 맞춰주는 자연어 처리 전처리 방법이다. 그런데 사실 이렇게 주어진 숫자 0은 실제 의미가 있는 단어가 아니므로 실제 어텐션 등과 같은 연산에서는 제외할 필요가 있다. 패딩 마스킹은 이를 위해 숫자 0인 위치를 체크한다."
   ]
  },
  {
   "cell_type": "code",
   "execution_count": 28,
   "id": "96e0706e",
   "metadata": {},
   "outputs": [
    {
     "name": "stdout",
     "output_type": "stream",
     "text": [
      "슝=3\n"
     ]
    }
   ],
   "source": [
    "def create_padding_mask(x):\n",
    "  mask = tf.cast(tf.math.equal(x, 0), tf.float32)\n",
    "  # (batch_size, 1, 1, sequence length)\n",
    "  return mask[:, tf.newaxis, tf.newaxis, :]"
   ]
  },
  {
   "cell_type": "code",
   "execution_count": 29,
   "id": "5c765607",
   "metadata": {},
   "outputs": [
    {
     "name": "stdout",
     "output_type": "stream",
     "text": [
      "tf.Tensor(\n",
      "[[[[0. 0. 1. 0. 1.]]]\n",
      "\n",
      "\n",
      " [[[1. 1. 1. 0. 0.]]]], shape=(2, 1, 1, 5), dtype=float32)\n"
     ]
    }
   ],
   "source": [
    "print(create_padding_mask(tf.constant([[1, 2, 0, 3, 0], [0, 0, 0, 4, 5]])))"
   ]
  },
  {
   "cell_type": "markdown",
   "id": "bbee02d9",
   "metadata": {},
   "source": [
    "RNN은 step이라는 개념이 존재해서 각 step마다 단어가 순서대로 입력으로 들어가는 구조인 반면 트랜스포머의 경우에는 문장 행렬을 만들어 한 번에 행렬 형태로 입력으로 들어간다는 특징이 있다. 그리고 이 특징 때문에 추가적인 마스킹(Masking) 을 필요한다."
   ]
  },
  {
   "cell_type": "code",
   "execution_count": 30,
   "id": "9d21a9c0",
   "metadata": {},
   "outputs": [
    {
     "name": "stdout",
     "output_type": "stream",
     "text": [
      "슝=3\n"
     ]
    }
   ],
   "source": [
    "def create_look_ahead_mask(x):\n",
    "  seq_len = tf.shape(x)[1]\n",
    "  look_ahead_mask = 1 - tf.linalg.band_part(tf.ones((seq_len, seq_len)), -1, 0)\n",
    "  padding_mask = create_padding_mask(x)\n",
    "  return tf.maximum(look_ahead_mask, padding_mask)"
   ]
  },
  {
   "cell_type": "code",
   "execution_count": 31,
   "id": "a59cf04c",
   "metadata": {},
   "outputs": [
    {
     "name": "stdout",
     "output_type": "stream",
     "text": [
      "tf.Tensor(\n",
      "[[[[0. 1. 1. 1. 1.]\n",
      "   [0. 0. 1. 1. 1.]\n",
      "   [0. 0. 0. 1. 1.]\n",
      "   [0. 0. 0. 0. 1.]\n",
      "   [0. 0. 0. 0. 0.]]]], shape=(1, 1, 5, 5), dtype=float32)\n",
      "tf.Tensor(\n",
      "[[[[1. 1. 1. 1. 1.]\n",
      "   [1. 0. 1. 1. 1.]\n",
      "   [1. 0. 0. 1. 1.]\n",
      "   [1. 0. 0. 0. 1.]\n",
      "   [1. 0. 0. 0. 0.]]]], shape=(1, 1, 5, 5), dtype=float32)\n"
     ]
    }
   ],
   "source": [
    "print(create_look_ahead_mask(tf.constant([[1, 2, 3, 4, 5]]))) #숫자 0이 포함되지 않았을 경우\n",
    "print(create_look_ahead_mask(tf.constant([[0, 5, 1, 5, 5]]))) #숫자 0이 포함되었을 경우"
   ]
  },
  {
   "cell_type": "markdown",
   "id": "f01e1cd5",
   "metadata": {},
   "source": [
    "## 인코더 구현"
   ]
  },
  {
   "cell_type": "code",
   "execution_count": 32,
   "id": "3ce22c44",
   "metadata": {},
   "outputs": [
    {
     "name": "stdout",
     "output_type": "stream",
     "text": [
      "슝=3\n"
     ]
    }
   ],
   "source": [
    "# 인코더 하나의 레이어를 함수로 구현.\n",
    "# 이 하나의 레이어 안에는 두 개의 서브 레이어가 존재합니다.\n",
    "def encoder_layer(units, d_model, num_heads, dropout, name=\"encoder_layer\"):\n",
    "  inputs = tf.keras.Input(shape=(None, d_model), name=\"inputs\")\n",
    "\n",
    "  # 패딩 마스크 사용\n",
    "  padding_mask = tf.keras.Input(shape=(1, 1, None), name=\"padding_mask\")\n",
    "\n",
    "  # 첫 번째 서브 레이어 : 멀티 헤드 어텐션 수행 (셀프 어텐션)\n",
    "  attention = MultiHeadAttention(\n",
    "      d_model, num_heads, name=\"attention\")({\n",
    "          'query': inputs,\n",
    "          'key': inputs,\n",
    "          'value': inputs,\n",
    "          'mask': padding_mask\n",
    "      })\n",
    "\n",
    "  # 어텐션의 결과는 Dropout과 Layer Normalization이라는 훈련을 돕는 테크닉을 수행\n",
    "  attention = tf.keras.layers.Dropout(rate=dropout)(attention)\n",
    "  attention = tf.keras.layers.LayerNormalization(\n",
    "      epsilon=1e-6)(inputs + attention)\n",
    "\n",
    "  # 두 번째 서브 레이어 : 2개의 완전연결층\n",
    "  outputs = tf.keras.layers.Dense(units=units, activation='relu')(attention)\n",
    "  outputs = tf.keras.layers.Dense(units=d_model)(outputs)\n",
    "\n",
    "  # 완전연결층의 결과는 Dropout과 LayerNormalization이라는 훈련을 돕는 테크닉을 수행\n",
    "  outputs = tf.keras.layers.Dropout(rate=dropout)(outputs)\n",
    "  outputs = tf.keras.layers.LayerNormalization(\n",
    "      epsilon=1e-6)(attention + outputs)\n",
    "\n",
    "  return tf.keras.Model(\n",
    "      inputs=[inputs, padding_mask], outputs=outputs, name=name)\n"
   ]
  },
  {
   "cell_type": "markdown",
   "id": "187f468d",
   "metadata": {},
   "source": [
    "이렇게 구현한 인코더 층을 임베딩 층(Embedding layer) 과 포지셔널 인코딩(Positional Encoding) 을 연결하고, 사용자가 원하는 만큼 인코더 층을 쌓음으로써 트랜스포머의 인코더가 완성된다."
   ]
  },
  {
   "cell_type": "code",
   "execution_count": 33,
   "id": "8bc4ca97",
   "metadata": {},
   "outputs": [
    {
     "name": "stdout",
     "output_type": "stream",
     "text": [
      "슝=3\n"
     ]
    }
   ],
   "source": [
    "def encoder(vocab_size,\n",
    "            num_layers,\n",
    "            units,\n",
    "            d_model,\n",
    "            num_heads,\n",
    "            dropout,\n",
    "            name=\"encoder\"):\n",
    "  inputs = tf.keras.Input(shape=(None,), name=\"inputs\")\n",
    "\n",
    "  # 패딩 마스크 사용\n",
    "  padding_mask = tf.keras.Input(shape=(1, 1, None), name=\"padding_mask\")\n",
    "\n",
    "  # 임베딩 레이어\n",
    "  embeddings = tf.keras.layers.Embedding(vocab_size, d_model)(inputs)\n",
    "  embeddings *= tf.math.sqrt(tf.cast(d_model, tf.float32))\n",
    "\n",
    "  # 포지셔널 인코딩\n",
    "  embeddings = PositionalEncoding(vocab_size, d_model)(embeddings)\n",
    "\n",
    "  outputs = tf.keras.layers.Dropout(rate=dropout)(embeddings)\n",
    "\n",
    "  # num_layers만큼 쌓아올린 인코더의 층.\n",
    "  for i in range(num_layers):\n",
    "    outputs = encoder_layer(\n",
    "        units=units,\n",
    "        d_model=d_model,\n",
    "        num_heads=num_heads,\n",
    "        dropout=dropout,\n",
    "        name=\"encoder_layer_{}\".format(i),\n",
    "    )([outputs, padding_mask])\n",
    "\n",
    "  return tf.keras.Model(\n",
    "      inputs=[inputs, padding_mask], outputs=outputs, name=name)\n"
   ]
  },
  {
   "cell_type": "markdown",
   "id": "2f566cdc",
   "metadata": {},
   "source": [
    "## 디코더 구현"
   ]
  },
  {
   "cell_type": "code",
   "execution_count": 34,
   "id": "c4be8a58",
   "metadata": {},
   "outputs": [
    {
     "name": "stdout",
     "output_type": "stream",
     "text": [
      "슝=3\n"
     ]
    }
   ],
   "source": [
    "# 디코더 하나의 레이어를 함수로 구현.\n",
    "# 이 하나의 레이어 안에는 세 개의 서브 레이어가 존재합니다.\n",
    "def decoder_layer(units, d_model, num_heads, dropout, name=\"decoder_layer\"):\n",
    "  inputs = tf.keras.Input(shape=(None, d_model), name=\"inputs\")\n",
    "  enc_outputs = tf.keras.Input(shape=(None, d_model), name=\"encoder_outputs\")\n",
    "  look_ahead_mask = tf.keras.Input(\n",
    "      shape=(1, None, None), name=\"look_ahead_mask\")\n",
    "  padding_mask = tf.keras.Input(shape=(1, 1, None), name='padding_mask')\n",
    "\n",
    "  # 첫 번째 서브 레이어 : 멀티 헤드 어텐션 수행 (셀프 어텐션)\n",
    "  attention1 = MultiHeadAttention(\n",
    "      d_model, num_heads, name=\"attention_1\")(inputs={\n",
    "          'query': inputs,\n",
    "          'key': inputs,\n",
    "          'value': inputs,\n",
    "          'mask': look_ahead_mask\n",
    "      })\n",
    "\n",
    "  # 멀티 헤드 어텐션의 결과는 LayerNormalization이라는 훈련을 돕는 테크닉을 수행\n",
    "  attention1 = tf.keras.layers.LayerNormalization(\n",
    "      epsilon=1e-6)(attention1 + inputs)\n",
    "\n",
    "  # 두 번째 서브 레이어 : 마스크드 멀티 헤드 어텐션 수행 (인코더-디코더 어텐션)\n",
    "  attention2 = MultiHeadAttention(\n",
    "      d_model, num_heads, name=\"attention_2\")(inputs={\n",
    "          'query': attention1,\n",
    "          'key': enc_outputs,\n",
    "          'value': enc_outputs,\n",
    "          'mask': padding_mask\n",
    "      })\n",
    "\n",
    "  # 마스크드 멀티 헤드 어텐션의 결과는\n",
    "  # Dropout과 LayerNormalization이라는 훈련을 돕는 테크닉을 수행\n",
    "  attention2 = tf.keras.layers.Dropout(rate=dropout)(attention2)\n",
    "  attention2 = tf.keras.layers.LayerNormalization(\n",
    "      epsilon=1e-6)(attention2 + attention1)\n",
    "\n",
    "  # 세 번째 서브 레이어 : 2개의 완전연결층\n",
    "  outputs = tf.keras.layers.Dense(units=units, activation='relu')(attention2)\n",
    "  outputs = tf.keras.layers.Dense(units=d_model)(outputs)\n",
    "\n",
    "  # 완전연결층의 결과는 Dropout과 LayerNormalization 수행\n",
    "  outputs = tf.keras.layers.Dropout(rate=dropout)(outputs)\n",
    "  outputs = tf.keras.layers.LayerNormalization(\n",
    "      epsilon=1e-6)(outputs + attention2)\n",
    "\n",
    "  return tf.keras.Model(\n",
    "      inputs=[inputs, enc_outputs, look_ahead_mask, padding_mask],\n",
    "      outputs=outputs,\n",
    "      name=name)\n"
   ]
  },
  {
   "cell_type": "code",
   "execution_count": 35,
   "id": "f52363a8",
   "metadata": {},
   "outputs": [
    {
     "name": "stdout",
     "output_type": "stream",
     "text": [
      "슝=3\n"
     ]
    }
   ],
   "source": [
    "def decoder(vocab_size,\n",
    "            num_layers,\n",
    "            units,\n",
    "            d_model,\n",
    "            num_heads,\n",
    "            dropout,\n",
    "            name='decoder'):\n",
    "  inputs = tf.keras.Input(shape=(None,), name='inputs')\n",
    "  enc_outputs = tf.keras.Input(shape=(None, d_model), name='encoder_outputs')\n",
    "  look_ahead_mask = tf.keras.Input(\n",
    "      shape=(1, None, None), name='look_ahead_mask')\n",
    "\n",
    "  # 패딩 마스크\n",
    "  padding_mask = tf.keras.Input(shape=(1, 1, None), name='padding_mask')\n",
    "  \n",
    "  # 임베딩 레이어\n",
    "  embeddings = tf.keras.layers.Embedding(vocab_size, d_model)(inputs)\n",
    "  embeddings *= tf.math.sqrt(tf.cast(d_model, tf.float32))\n",
    "\n",
    "  # 포지셔널 인코딩\n",
    "  embeddings = PositionalEncoding(vocab_size, d_model)(embeddings)\n",
    "\n",
    "  # Dropout이라는 훈련을 돕는 테크닉을 수행\n",
    "  outputs = tf.keras.layers.Dropout(rate=dropout)(embeddings)\n",
    "\n",
    "  for i in range(num_layers):\n",
    "    outputs = decoder_layer(\n",
    "        units=units,\n",
    "        d_model=d_model,\n",
    "        num_heads=num_heads,\n",
    "        dropout=dropout,\n",
    "        name='decoder_layer_{}'.format(i),\n",
    "    )(inputs=[outputs, enc_outputs, look_ahead_mask, padding_mask])\n",
    "\n",
    "  return tf.keras.Model(\n",
    "      inputs=[inputs, enc_outputs, look_ahead_mask, padding_mask],\n",
    "      outputs=outputs,\n",
    "      name=name)\n"
   ]
  },
  {
   "cell_type": "code",
   "execution_count": 36,
   "id": "50b57e3a",
   "metadata": {},
   "outputs": [
    {
     "name": "stdout",
     "output_type": "stream",
     "text": [
      "슝=3\n"
     ]
    }
   ],
   "source": [
    "def transformer(vocab_size,\n",
    "                num_layers,\n",
    "                units,\n",
    "                d_model,\n",
    "                num_heads,\n",
    "                dropout,\n",
    "                name=\"transformer\"):\n",
    "  inputs = tf.keras.Input(shape=(None,), name=\"inputs\")\n",
    "  dec_inputs = tf.keras.Input(shape=(None,), name=\"dec_inputs\")\n",
    "\n",
    "  # 인코더에서 패딩을 위한 마스크\n",
    "  enc_padding_mask = tf.keras.layers.Lambda(\n",
    "      create_padding_mask, output_shape=(1, 1, None),\n",
    "      name='enc_padding_mask')(inputs)\n",
    "\n",
    "  # 디코더에서 미래의 토큰을 마스크 하기 위해서 사용합니다.\n",
    "  # 내부적으로 패딩 마스크도 포함되어져 있습니다.\n",
    "  look_ahead_mask = tf.keras.layers.Lambda(\n",
    "      create_look_ahead_mask,\n",
    "      output_shape=(1, None, None),\n",
    "      name='look_ahead_mask')(dec_inputs)\n",
    "\n",
    "  # 두 번째 어텐션 블록에서 인코더의 벡터들을 마스킹\n",
    "  # 디코더에서 패딩을 위한 마스크\n",
    "  dec_padding_mask = tf.keras.layers.Lambda(\n",
    "      create_padding_mask, output_shape=(1, 1, None),\n",
    "      name='dec_padding_mask')(inputs)\n",
    "\n",
    "  # 인코더\n",
    "  enc_outputs = encoder(\n",
    "      vocab_size=vocab_size,\n",
    "      num_layers=num_layers,\n",
    "      units=units,\n",
    "      d_model=d_model,\n",
    "      num_heads=num_heads,\n",
    "      dropout=dropout,\n",
    "  )(inputs=[inputs, enc_padding_mask])\n",
    "\n",
    "  # 디코더\n",
    "  dec_outputs = decoder(\n",
    "      vocab_size=vocab_size,\n",
    "      num_layers=num_layers,\n",
    "      units=units,\n",
    "      d_model=d_model,\n",
    "      num_heads=num_heads,\n",
    "      dropout=dropout,\n",
    "  )(inputs=[dec_inputs, enc_outputs, look_ahead_mask, dec_padding_mask])\n",
    "\n",
    "  # 완전연결층\n",
    "  outputs = tf.keras.layers.Dense(units=vocab_size, name=\"outputs\")(dec_outputs)\n",
    "\n",
    "  return tf.keras.Model(inputs=[inputs, dec_inputs], outputs=outputs, name=name)\n"
   ]
  },
  {
   "cell_type": "markdown",
   "id": "02f45f99",
   "metadata": {},
   "source": [
    "## 모델 생성"
   ]
  },
  {
   "cell_type": "code",
   "execution_count": 37,
   "id": "73a46e3c",
   "metadata": {},
   "outputs": [
    {
     "name": "stdout",
     "output_type": "stream",
     "text": [
      "Model: \"transformer\"\n",
      "__________________________________________________________________________________________________\n",
      "Layer (type)                    Output Shape         Param #     Connected to                     \n",
      "==================================================================================================\n",
      "inputs (InputLayer)             [(None, None)]       0                                            \n",
      "__________________________________________________________________________________________________\n",
      "dec_inputs (InputLayer)         [(None, None)]       0                                            \n",
      "__________________________________________________________________________________________________\n",
      "enc_padding_mask (Lambda)       (None, 1, 1, None)   0           inputs[0][0]                     \n",
      "__________________________________________________________________________________________________\n",
      "encoder (Functional)            (None, None, 500)    8155580     inputs[0][0]                     \n",
      "                                                                 enc_padding_mask[0][0]           \n",
      "__________________________________________________________________________________________________\n",
      "look_ahead_mask (Lambda)        (None, 1, None, None 0           dec_inputs[0][0]                 \n",
      "__________________________________________________________________________________________________\n",
      "dec_padding_mask (Lambda)       (None, 1, 1, None)   0           inputs[0][0]                     \n",
      "__________________________________________________________________________________________________\n",
      "decoder (Functional)            (None, None, 500)    10161580    dec_inputs[0][0]                 \n",
      "                                                                 encoder[0][0]                    \n",
      "                                                                 look_ahead_mask[0][0]            \n",
      "                                                                 dec_padding_mask[0][0]           \n",
      "__________________________________________________________________________________________________\n",
      "outputs (Dense)                 (None, None, 8129)   4072629     decoder[0][0]                    \n",
      "==================================================================================================\n",
      "Total params: 22,389,789\n",
      "Trainable params: 22,389,789\n",
      "Non-trainable params: 0\n",
      "__________________________________________________________________________________________________\n"
     ]
    }
   ],
   "source": [
    "tf.keras.backend.clear_session()\n",
    "\n",
    "# 하이퍼파라미터\n",
    "NUM_LAYERS = 2 # 인코더와 디코더의 층의 개수\n",
    "D_MODEL = 500 # 인코더와 디코더 내부의 입, 출력의 고정 차원\n",
    "NUM_HEADS = 20 # 멀티 헤드 어텐션에서의 헤드 수 \n",
    "UNITS = 1040 # 피드 포워드 신경망의 은닉층의 크기\n",
    "DROPOUT = 0.4 # 드롭아웃의 비율\n",
    "\n",
    "model = transformer(\n",
    "    vocab_size=VOCAB_SIZE,\n",
    "    num_layers=NUM_LAYERS,\n",
    "    units=UNITS,\n",
    "    d_model=D_MODEL,\n",
    "    num_heads=NUM_HEADS,\n",
    "    dropout=DROPOUT)\n",
    "\n",
    "model.summary()"
   ]
  },
  {
   "cell_type": "markdown",
   "id": "5bdb2531",
   "metadata": {},
   "source": [
    "## 손실함수"
   ]
  },
  {
   "cell_type": "code",
   "execution_count": 38,
   "id": "1dad6984",
   "metadata": {},
   "outputs": [
    {
     "name": "stdout",
     "output_type": "stream",
     "text": [
      "슝=3\n"
     ]
    }
   ],
   "source": [
    "def loss_function(y_true, y_pred):\n",
    "  y_true = tf.reshape(y_true, shape=(-1, MAX_LENGTH - 1))\n",
    "  \n",
    "  loss = tf.keras.losses.SparseCategoricalCrossentropy(\n",
    "      from_logits=True, reduction='none')(y_true, y_pred)\n",
    "\n",
    "  mask = tf.cast(tf.not_equal(y_true, 0), tf.float32)\n",
    "  loss = tf.multiply(loss, mask)\n",
    "\n",
    "  return tf.reduce_mean(loss)\n"
   ]
  },
  {
   "cell_type": "markdown",
   "id": "136d8def",
   "metadata": {},
   "source": [
    "## 커스텀 학습률"
   ]
  },
  {
   "cell_type": "code",
   "execution_count": 39,
   "id": "afdea16e",
   "metadata": {},
   "outputs": [
    {
     "name": "stdout",
     "output_type": "stream",
     "text": [
      "슝=3\n"
     ]
    }
   ],
   "source": [
    "class CustomSchedule(tf.keras.optimizers.schedules.LearningRateSchedule):\n",
    "\n",
    "  def __init__(self, d_model, warmup_steps=4000):\n",
    "    super(CustomSchedule, self).__init__()\n",
    "\n",
    "    self.d_model = d_model\n",
    "    self.d_model = tf.cast(self.d_model, tf.float32)\n",
    "\n",
    "    self.warmup_steps = warmup_steps\n",
    "\n",
    "  def __call__(self, step):\n",
    "    arg1 = tf.math.rsqrt(step)\n",
    "    arg2 = step * (self.warmup_steps**-1.5)\n",
    "\n",
    "    return tf.math.rsqrt(self.d_model) * tf.math.minimum(arg1, arg2)\n"
   ]
  },
  {
   "cell_type": "code",
   "execution_count": 40,
   "id": "53c031ef",
   "metadata": {},
   "outputs": [
    {
     "data": {
      "text/plain": [
       "Text(0.5, 0, 'Train Step')"
      ]
     },
     "execution_count": 40,
     "metadata": {},
     "output_type": "execute_result"
    },
    {
     "data": {
      "image/png": "[encoded data removed]",
      "text/plain": [
       "<Figure size 432x288 with 1 Axes>"
      ]
     },
     "metadata": {
      "needs_background": "light"
     },
     "output_type": "display_data"
    }
   ],
   "source": [
    "sample_learning_rate = CustomSchedule(d_model=128)\n",
    "\n",
    "plt.plot(sample_learning_rate(tf.range(200000, dtype=tf.float32)))\n",
    "plt.ylabel(\"Learning Rate\")\n",
    "plt.xlabel(\"Train Step\")"
   ]
  },
  {
   "cell_type": "markdown",
   "id": "191850f4",
   "metadata": {},
   "source": [
    "## 모델 컴파일"
   ]
  },
  {
   "cell_type": "code",
   "execution_count": 41,
   "id": "eafbfcce",
   "metadata": {},
   "outputs": [
    {
     "name": "stdout",
     "output_type": "stream",
     "text": [
      "슝=3\n"
     ]
    }
   ],
   "source": [
    "learning_rate = CustomSchedule(D_MODEL)\n",
    "\n",
    "optimizer = tf.keras.optimizers.Adam(\n",
    "    learning_rate, beta_1=0.9, beta_2=0.98, epsilon=1e-9)\n",
    "\n",
    "def accuracy(y_true, y_pred):\n",
    "  y_true = tf.reshape(y_true, shape=(-1, MAX_LENGTH - 1))\n",
    "  return tf.keras.metrics.sparse_categorical_accuracy(y_true, y_pred)\n",
    "\n",
    "model.compile(optimizer=optimizer, loss=loss_function, metrics=[accuracy])\n"
   ]
  },
  {
   "cell_type": "markdown",
   "id": "0e40382e",
   "metadata": {},
   "source": [
    "## 모델 훈련"
   ]
  },
  {
   "cell_type": "code",
   "execution_count": 42,
   "id": "bb60956d",
   "metadata": {},
   "outputs": [
    {
     "name": "stdout",
     "output_type": "stream",
     "text": [
      "Epoch 1/50\n",
      "185/185 [==============================] - 25s 102ms/step - loss: 1.3932 - accuracy: 0.0246\n",
      "Epoch 2/50\n",
      "185/185 [==============================] - 19s 105ms/step - loss: 1.0987 - accuracy: 0.0485\n",
      "Epoch 3/50\n",
      "185/185 [==============================] - 20s 106ms/step - loss: 1.0009 - accuracy: 0.0503\n",
      "Epoch 4/50\n",
      "185/185 [==============================] - 19s 104ms/step - loss: 0.9532 - accuracy: 0.0523\n",
      "Epoch 5/50\n",
      "185/185 [==============================] - 19s 104ms/step - loss: 0.9148 - accuracy: 0.0549\n",
      "Epoch 6/50\n",
      "185/185 [==============================] - 19s 104ms/step - loss: 0.8768 - accuracy: 0.0569\n",
      "Epoch 7/50\n",
      "185/185 [==============================] - 19s 105ms/step - loss: 0.8342 - accuracy: 0.0592\n",
      "Epoch 8/50\n",
      "185/185 [==============================] - 19s 105ms/step - loss: 0.7862 - accuracy: 0.0623\n",
      "Epoch 9/50\n",
      "185/185 [==============================] - 19s 104ms/step - loss: 0.7332 - accuracy: 0.0666\n",
      "Epoch 10/50\n",
      "185/185 [==============================] - 19s 105ms/step - loss: 0.6761 - accuracy: 0.0716\n",
      "Epoch 11/50\n",
      "185/185 [==============================] - 19s 105ms/step - loss: 0.6171 - accuracy: 0.0778\n",
      "Epoch 12/50\n",
      "185/185 [==============================] - 19s 105ms/step - loss: 0.5578 - accuracy: 0.0843\n",
      "Epoch 13/50\n",
      "185/185 [==============================] - 19s 104ms/step - loss: 0.5022 - accuracy: 0.0908\n",
      "Epoch 14/50\n",
      "185/185 [==============================] - 19s 104ms/step - loss: 0.4506 - accuracy: 0.0972\n",
      "Epoch 15/50\n",
      "185/185 [==============================] - 19s 105ms/step - loss: 0.4036 - accuracy: 0.1033\n",
      "Epoch 16/50\n",
      "185/185 [==============================] - 19s 104ms/step - loss: 0.3614 - accuracy: 0.1089\n",
      "Epoch 17/50\n",
      "185/185 [==============================] - 19s 104ms/step - loss: 0.3232 - accuracy: 0.1140\n",
      "Epoch 18/50\n",
      "185/185 [==============================] - 19s 104ms/step - loss: 0.2881 - accuracy: 0.1189\n",
      "Epoch 19/50\n",
      "185/185 [==============================] - 19s 104ms/step - loss: 0.2584 - accuracy: 0.1233\n",
      "Epoch 20/50\n",
      "185/185 [==============================] - 19s 104ms/step - loss: 0.2299 - accuracy: 0.1281\n",
      "Epoch 21/50\n",
      "185/185 [==============================] - 19s 104ms/step - loss: 0.2079 - accuracy: 0.1312\n",
      "Epoch 22/50\n",
      "185/185 [==============================] - 19s 104ms/step - loss: 0.1866 - accuracy: 0.1346\n",
      "Epoch 23/50\n",
      "185/185 [==============================] - 19s 104ms/step - loss: 0.1673 - accuracy: 0.1378\n",
      "Epoch 24/50\n",
      "185/185 [==============================] - 19s 104ms/step - loss: 0.1473 - accuracy: 0.1411\n",
      "Epoch 25/50\n",
      "185/185 [==============================] - 19s 104ms/step - loss: 0.1292 - accuracy: 0.1447\n",
      "Epoch 26/50\n",
      "185/185 [==============================] - 19s 104ms/step - loss: 0.1142 - accuracy: 0.1474\n",
      "Epoch 27/50\n",
      "185/185 [==============================] - 19s 104ms/step - loss: 0.1026 - accuracy: 0.1499\n",
      "Epoch 28/50\n",
      "185/185 [==============================] - 19s 104ms/step - loss: 0.0915 - accuracy: 0.1522\n",
      "Epoch 29/50\n",
      "185/185 [==============================] - 19s 104ms/step - loss: 0.0817 - accuracy: 0.1543\n",
      "Epoch 30/50\n",
      "185/185 [==============================] - 19s 104ms/step - loss: 0.0737 - accuracy: 0.1560\n",
      "Epoch 31/50\n",
      "185/185 [==============================] - 19s 104ms/step - loss: 0.0666 - accuracy: 0.1576\n",
      "Epoch 32/50\n",
      "185/185 [==============================] - 19s 104ms/step - loss: 0.0606 - accuracy: 0.1592\n",
      "Epoch 33/50\n",
      "185/185 [==============================] - 19s 104ms/step - loss: 0.0556 - accuracy: 0.1604\n",
      "Epoch 34/50\n",
      "185/185 [==============================] - 19s 104ms/step - loss: 0.0514 - accuracy: 0.1615\n",
      "Epoch 35/50\n",
      "185/185 [==============================] - 19s 104ms/step - loss: 0.0481 - accuracy: 0.1621\n",
      "Epoch 36/50\n",
      "185/185 [==============================] - 19s 104ms/step - loss: 0.0442 - accuracy: 0.1632\n",
      "Epoch 37/50\n",
      "185/185 [==============================] - 19s 104ms/step - loss: 0.0417 - accuracy: 0.1639\n",
      "Epoch 38/50\n",
      "185/185 [==============================] - 19s 104ms/step - loss: 0.0392 - accuracy: 0.1646\n",
      "Epoch 39/50\n",
      "185/185 [==============================] - 19s 104ms/step - loss: 0.0371 - accuracy: 0.1652\n",
      "Epoch 40/50\n",
      "185/185 [==============================] - 19s 104ms/step - loss: 0.0344 - accuracy: 0.1657\n",
      "Epoch 41/50\n",
      "185/185 [==============================] - 19s 104ms/step - loss: 0.0331 - accuracy: 0.1662\n",
      "Epoch 42/50\n",
      "185/185 [==============================] - 19s 104ms/step - loss: 0.0312 - accuracy: 0.1666\n",
      "Epoch 43/50\n",
      "185/185 [==============================] - 19s 104ms/step - loss: 0.0300 - accuracy: 0.1669\n",
      "Epoch 44/50\n",
      "185/185 [==============================] - 19s 104ms/step - loss: 0.0282 - accuracy: 0.1674\n",
      "Epoch 45/50\n",
      "185/185 [==============================] - 19s 104ms/step - loss: 0.0264 - accuracy: 0.1679\n",
      "Epoch 46/50\n",
      "185/185 [==============================] - 19s 104ms/step - loss: 0.0253 - accuracy: 0.1683\n",
      "Epoch 47/50\n",
      "185/185 [==============================] - 19s 104ms/step - loss: 0.0248 - accuracy: 0.1683\n",
      "Epoch 48/50\n",
      "185/185 [==============================] - 19s 104ms/step - loss: 0.0234 - accuracy: 0.1686\n",
      "Epoch 49/50\n",
      "185/185 [==============================] - 19s 104ms/step - loss: 0.0221 - accuracy: 0.1691\n",
      "Epoch 50/50\n",
      "185/185 [==============================] - 19s 104ms/step - loss: 0.0221 - accuracy: 0.1691\n"
     ]
    },
    {
     "data": {
      "text/plain": [
       "<keras.callbacks.History at 0x7fc32cd9e340>"
      ]
     },
     "execution_count": 42,
     "metadata": {},
     "output_type": "execute_result"
    }
   ],
   "source": [
    "EPOCHS = 50\n",
    "model.fit(dataset, epochs=EPOCHS, verbose=1)"
   ]
  },
  {
   "cell_type": "markdown",
   "id": "df1c5266",
   "metadata": {},
   "source": [
    "## 모델 평가"
   ]
  },
  {
   "cell_type": "code",
   "execution_count": 43,
   "id": "00a05fb2",
   "metadata": {},
   "outputs": [
    {
     "name": "stdout",
     "output_type": "stream",
     "text": [
      "슝=3\n"
     ]
    }
   ],
   "source": [
    "def decoder_inference(sentence):\n",
    "  sentence = preprocess_sentence(sentence)\n",
    "\n",
    "  # 입력된 문장을 정수 인코딩 후, 시작 토큰과 종료 토큰을 앞뒤로 추가.\n",
    "  # ex) Where have you been? → [[8331   86   30    5 1059    7 8332]]\n",
    "  sentence = tf.expand_dims(\n",
    "      START_TOKEN + tokenizer.encode(sentence) + END_TOKEN, axis=0)\n",
    "\n",
    "  # 디코더의 현재까지의 예측한 출력 시퀀스가 지속적으로 저장되는 변수.\n",
    "  # 처음에는 예측한 내용이 없음으로 시작 토큰만 별도 저장. ex) 8331\n",
    "  output_sequence = tf.expand_dims(START_TOKEN, 0)\n",
    "\n",
    "  # 디코더의 인퍼런스 단계\n",
    "  for i in range(MAX_LENGTH):\n",
    "    # 디코더는 최대 MAX_LENGTH의 길이만큼 다음 단어 예측을 반복합니다.\n",
    "    predictions = model(inputs=[sentence, output_sequence], training=False)\n",
    "    predictions = predictions[:, -1:, :]\n",
    "\n",
    "    # 현재 예측한 단어의 정수\n",
    "    predicted_id = tf.cast(tf.argmax(predictions, axis=-1), tf.int32)\n",
    "\n",
    "    # 만약 현재 예측한 단어가 종료 토큰이라면 for문을 종료\n",
    "    if tf.equal(predicted_id, END_TOKEN[0]):\n",
    "      break\n",
    "\n",
    "    # 예측한 단어들은 지속적으로 output_sequence에 추가됩니다.\n",
    "    # 이 output_sequence는 다시 디코더의 입력이 됩니다.\n",
    "    output_sequence = tf.concat([output_sequence, predicted_id], axis=-1)\n",
    "\n",
    "  return tf.squeeze(output_sequence, axis=0)\n"
   ]
  },
  {
   "cell_type": "code",
   "execution_count": 44,
   "id": "4524c26d",
   "metadata": {},
   "outputs": [
    {
     "name": "stdout",
     "output_type": "stream",
     "text": [
      "슝=3\n"
     ]
    }
   ],
   "source": [
    "def sentence_generation(sentence):\n",
    "  # 입력 문장에 대해서 디코더를 동작 시켜 예측된 정수 시퀀스를 리턴받습니다.\n",
    "  prediction = decoder_inference(sentence)\n",
    "\n",
    "  # 정수 시퀀스를 다시 텍스트 시퀀스로 변환합니다.\n",
    "  predicted_sentence = tokenizer.decode(\n",
    "      [i for i in prediction if i < tokenizer.vocab_size])\n",
    "\n",
    "  print('입력 : {}'.format(sentence))\n",
    "  print('출력 : {}'.format(predicted_sentence))\n",
    "\n",
    "  return predicted_sentence\n"
   ]
  },
  {
   "cell_type": "code",
   "execution_count": 45,
   "id": "aab45709",
   "metadata": {},
   "outputs": [],
   "source": [
    "input_question_list = [\n",
    "    \"안녕 오랜만이야\",\n",
    "    \"잘 지냈어?\",\n",
    "    \"널 만나서 기뻐\",\n",
    "    \"뭐 먹을까\",\n",
    "    \"메뉴 추천해줘\",\n",
    "    \"3박4일 놀러가고 싶다\",\n",
    "    \"나랑 놀자\",\n",
    "    \"SD카드 망가졌어\",\n",
    "    \"로또 번호 알려줘\",\n",
    "    \"SNS 시간낭비인 거 아는데 매일 하는 중\",\n",
    "    \"고양이 키우고 싶어\",\n",
    "    \"첫사랑 생각나\"\n",
    "    \"웃어줄래\",\n",
    "    \"삶은 뭘까?\",\n",
    "    \"인생살이 왜이리 힘드냐\",\n",
    "    \"이제 그만 쉬고 싶어\",\n",
    "    \"너무 고독하다\",\n",
    "    \"도망가고 싶다\",\n",
    "    \"넌 최고였어\",\n",
    "    \"나 잊지마\",\n",
    "    \"우리 마지막이야\",\n",
    "    \"나 간다 잘 지내 안녕\",\n",
    "]"
   ]
  },
  {
   "cell_type": "code",
   "execution_count": 46,
   "id": "b12dbe9e",
   "metadata": {},
   "outputs": [],
   "source": [
    "def print_answers(input_question_list):\n",
    "    for input_qusetion in input_question_list:\n",
    "        sentence_generation(input_qusetion)\n",
    "        print()"
   ]
  },
  {
   "cell_type": "markdown",
   "id": "1d4c6d03",
   "metadata": {},
   "source": [
    "결과가... 좋은 건지 나쁜 건지 알수가 없지만 마음에 들지 않는다."
   ]
  },
  {
   "cell_type": "code",
   "execution_count": 47,
   "id": "aa0c657e",
   "metadata": {},
   "outputs": [
    {
     "name": "stdout",
     "output_type": "stream",
     "text": [
      "입력 : 안녕 오랜만이야\n",
      "출력 : 언젠간 올 이별이었을까요 .\n",
      "\n",
      "입력 : 잘 지냈어?\n",
      "출력 : 안부를 물어주시다니 감사합니다 .\n",
      "\n",
      "입력 : 널 만나서 기뻐\n",
      "출력 : 잊어버리세요 .\n",
      "\n",
      "입력 : 뭐 먹을까\n",
      "출력 : 좀 먹어도 괜찮아요 .\n",
      "\n",
      "입력 : 메뉴 추천해줘\n",
      "출력 : 냉장고 파먹기 해보세요 .\n",
      "\n",
      "입력 : 3박4일 놀러가고 싶다\n",
      "출력 : 여행은 언제나 좋죠 .\n",
      "\n",
      "입력 : 나랑 놀자\n",
      "출력 : 지금 그러고 있어요 .\n",
      "\n",
      "입력 : SD카드 망가졌어\n",
      "출력 : 다시 새로 사는 게 마음 편해요 .\n",
      "\n",
      "입력 : 로또 번호 알려줘\n",
      "출력 : 알면 제가 하죠 .\n",
      "\n",
      "입력 : SNS 시간낭비인 거 아는데 매일 하는 중\n",
      "출력 : 시간을 정하고 해보세요 .\n",
      "\n",
      "입력 : 고양이 키우고 싶어\n",
      "출력 : 자신을 먼저 키우세요 .\n",
      "\n",
      "입력 : 첫사랑 생각나웃어줄래\n",
      "출력 : 기대를 내려놓으면 마음이 좀 더 편안해질 거예요 .\n",
      "\n",
      "입력 : 삶은 뭘까?\n",
      "출력 : 삶 곳곳에 사랑이 숨 쉬고 있어요 .\n",
      "\n",
      "입력 : 인생살이 왜이리 힘드냐\n",
      "출력 : 인생을 알아가고 있군요 .\n",
      "\n",
      "입력 : 이제 그만 쉬고 싶어\n",
      "출력 : 잠깐 바람 쐬고 오세요 .\n",
      "\n",
      "입력 : 너무 고독하다\n",
      "출력 : 혼자가 아니에요 .\n",
      "\n",
      "입력 : 도망가고 싶다\n",
      "출력 : 지금도 충분해요 .\n",
      "\n",
      "입력 : 넌 최고였어\n",
      "출력 : 당신도 행복하세요 .\n",
      "\n",
      "입력 : 나 잊지마\n",
      "출력 : 때론 잊어버리는 것이 좋을 때도 있어요 .\n",
      "\n",
      "입력 : 우리 마지막이야\n",
      "출력 : 마지막이 아닐 지도 몰라요 .\n",
      "\n",
      "입력 : 나 간다 잘 지내 안녕\n",
      "출력 : 잘 지냈답니다 .\n",
      "\n"
     ]
    }
   ],
   "source": [
    "print_answers(input_question_list)"
   ]
  },
  {
   "cell_type": "markdown",
   "id": "25bb24f5",
   "metadata": {},
   "source": [
    "에폭 50으로 학습시켰지만 91에서 accuracy가 변동이 계속 있어서 100으로 더 돌려봤다."
   ]
  },
  {
   "cell_type": "code",
   "execution_count": 48,
   "id": "bbb94df7",
   "metadata": {},
   "outputs": [
    {
     "name": "stdout",
     "output_type": "stream",
     "text": [
      "Epoch 1/100\n",
      "185/185 [==============================] - 19s 104ms/step - loss: 0.0206 - accuracy: 0.1694\n",
      "Epoch 2/100\n",
      "185/185 [==============================] - 19s 105ms/step - loss: 0.0202 - accuracy: 0.1696\n",
      "Epoch 3/100\n",
      "185/185 [==============================] - 19s 104ms/step - loss: 0.0191 - accuracy: 0.1699\n",
      "Epoch 4/100\n",
      "185/185 [==============================] - 19s 104ms/step - loss: 0.0187 - accuracy: 0.1700\n",
      "Epoch 5/100\n",
      "185/185 [==============================] - 19s 104ms/step - loss: 0.0184 - accuracy: 0.1699\n",
      "Epoch 6/100\n",
      "185/185 [==============================] - 19s 104ms/step - loss: 0.0176 - accuracy: 0.1703\n",
      "Epoch 7/100\n",
      "185/185 [==============================] - 19s 104ms/step - loss: 0.0170 - accuracy: 0.1704\n",
      "Epoch 8/100\n",
      "185/185 [==============================] - 19s 104ms/step - loss: 0.0163 - accuracy: 0.1706\n",
      "Epoch 9/100\n",
      "185/185 [==============================] - 19s 104ms/step - loss: 0.0163 - accuracy: 0.1705\n",
      "Epoch 10/100\n",
      "185/185 [==============================] - 19s 104ms/step - loss: 0.0152 - accuracy: 0.1710\n",
      "Epoch 11/100\n",
      "185/185 [==============================] - 19s 104ms/step - loss: 0.0149 - accuracy: 0.1710\n",
      "Epoch 12/100\n",
      "185/185 [==============================] - 19s 104ms/step - loss: 0.0142 - accuracy: 0.1711\n",
      "Epoch 13/100\n",
      "185/185 [==============================] - 19s 104ms/step - loss: 0.0144 - accuracy: 0.1711\n",
      "Epoch 14/100\n",
      "185/185 [==============================] - 19s 104ms/step - loss: 0.0137 - accuracy: 0.1714\n",
      "Epoch 15/100\n",
      "185/185 [==============================] - 19s 104ms/step - loss: 0.0138 - accuracy: 0.1712\n",
      "Epoch 16/100\n",
      "185/185 [==============================] - 19s 104ms/step - loss: 0.0132 - accuracy: 0.1715\n",
      "Epoch 17/100\n",
      "185/185 [==============================] - 19s 104ms/step - loss: 0.0128 - accuracy: 0.1716\n",
      "Epoch 18/100\n",
      "185/185 [==============================] - 19s 104ms/step - loss: 0.0124 - accuracy: 0.1717\n",
      "Epoch 19/100\n",
      "185/185 [==============================] - 19s 104ms/step - loss: 0.0127 - accuracy: 0.1716\n",
      "Epoch 20/100\n",
      "185/185 [==============================] - 19s 104ms/step - loss: 0.0118 - accuracy: 0.1718\n",
      "Epoch 21/100\n",
      "185/185 [==============================] - 19s 104ms/step - loss: 0.0119 - accuracy: 0.1717\n",
      "Epoch 22/100\n",
      "185/185 [==============================] - 19s 104ms/step - loss: 0.0114 - accuracy: 0.1719\n",
      "Epoch 23/100\n",
      "185/185 [==============================] - 19s 104ms/step - loss: 0.0112 - accuracy: 0.1721\n",
      "Epoch 24/100\n",
      "185/185 [==============================] - 19s 104ms/step - loss: 0.0110 - accuracy: 0.1720\n",
      "Epoch 25/100\n",
      "185/185 [==============================] - 19s 104ms/step - loss: 0.0103 - accuracy: 0.1723\n",
      "Epoch 26/100\n",
      "185/185 [==============================] - 19s 104ms/step - loss: 0.0106 - accuracy: 0.1723\n",
      "Epoch 27/100\n",
      "185/185 [==============================] - 19s 104ms/step - loss: 0.0102 - accuracy: 0.1723\n",
      "Epoch 28/100\n",
      "185/185 [==============================] - 19s 104ms/step - loss: 0.0102 - accuracy: 0.1723\n",
      "Epoch 29/100\n",
      "185/185 [==============================] - 19s 104ms/step - loss: 0.0101 - accuracy: 0.1722\n",
      "Epoch 30/100\n",
      "185/185 [==============================] - 19s 104ms/step - loss: 0.0095 - accuracy: 0.1723\n",
      "Epoch 31/100\n",
      "185/185 [==============================] - 19s 104ms/step - loss: 0.0093 - accuracy: 0.1726\n",
      "Epoch 32/100\n",
      "185/185 [==============================] - 19s 104ms/step - loss: 0.0096 - accuracy: 0.1724\n",
      "Epoch 33/100\n",
      "185/185 [==============================] - 19s 104ms/step - loss: 0.0092 - accuracy: 0.1725\n",
      "Epoch 34/100\n",
      "185/185 [==============================] - 19s 104ms/step - loss: 0.0093 - accuracy: 0.1725\n",
      "Epoch 35/100\n",
      "185/185 [==============================] - 19s 104ms/step - loss: 0.0087 - accuracy: 0.1727\n",
      "Epoch 36/100\n",
      "185/185 [==============================] - 19s 104ms/step - loss: 0.0087 - accuracy: 0.1727\n",
      "Epoch 37/100\n",
      "185/185 [==============================] - 19s 104ms/step - loss: 0.0082 - accuracy: 0.1728\n",
      "Epoch 38/100\n",
      "185/185 [==============================] - 19s 104ms/step - loss: 0.0082 - accuracy: 0.1729\n",
      "Epoch 39/100\n",
      "185/185 [==============================] - 19s 104ms/step - loss: 0.0081 - accuracy: 0.1728\n",
      "Epoch 40/100\n",
      "185/185 [==============================] - 19s 104ms/step - loss: 0.0081 - accuracy: 0.1728\n",
      "Epoch 41/100\n",
      "185/185 [==============================] - 19s 104ms/step - loss: 0.0079 - accuracy: 0.1729\n",
      "Epoch 42/100\n",
      "185/185 [==============================] - 19s 104ms/step - loss: 0.0081 - accuracy: 0.1728\n",
      "Epoch 43/100\n",
      "185/185 [==============================] - 19s 104ms/step - loss: 0.0075 - accuracy: 0.1730\n",
      "Epoch 44/100\n",
      "185/185 [==============================] - 19s 104ms/step - loss: 0.0078 - accuracy: 0.1729\n",
      "Epoch 45/100\n",
      "185/185 [==============================] - 19s 104ms/step - loss: 0.0075 - accuracy: 0.1729\n",
      "Epoch 46/100\n",
      "185/185 [==============================] - 19s 104ms/step - loss: 0.0074 - accuracy: 0.1729\n",
      "Epoch 47/100\n",
      "185/185 [==============================] - 19s 104ms/step - loss: 0.0072 - accuracy: 0.1730\n",
      "Epoch 48/100\n",
      "185/185 [==============================] - 19s 104ms/step - loss: 0.0075 - accuracy: 0.1730\n",
      "Epoch 49/100\n",
      "185/185 [==============================] - 19s 104ms/step - loss: 0.0071 - accuracy: 0.1731\n",
      "Epoch 50/100\n",
      "185/185 [==============================] - 19s 104ms/step - loss: 0.0068 - accuracy: 0.1732\n",
      "Epoch 51/100\n",
      "185/185 [==============================] - 19s 104ms/step - loss: 0.0069 - accuracy: 0.1732\n",
      "Epoch 52/100\n",
      "185/185 [==============================] - 19s 104ms/step - loss: 0.0067 - accuracy: 0.1732\n",
      "Epoch 53/100\n",
      "185/185 [==============================] - 19s 104ms/step - loss: 0.0064 - accuracy: 0.1732\n",
      "Epoch 54/100\n",
      "185/185 [==============================] - 19s 104ms/step - loss: 0.0066 - accuracy: 0.1733\n",
      "Epoch 55/100\n",
      "185/185 [==============================] - 19s 104ms/step - loss: 0.0067 - accuracy: 0.1732\n",
      "Epoch 56/100\n",
      "185/185 [==============================] - 19s 104ms/step - loss: 0.0064 - accuracy: 0.1733\n",
      "Epoch 57/100\n",
      "185/185 [==============================] - 19s 104ms/step - loss: 0.0063 - accuracy: 0.1732\n",
      "Epoch 58/100\n",
      "185/185 [==============================] - 19s 104ms/step - loss: 0.0063 - accuracy: 0.1732\n",
      "Epoch 59/100\n",
      "185/185 [==============================] - 19s 104ms/step - loss: 0.0065 - accuracy: 0.1732\n",
      "Epoch 60/100\n",
      "185/185 [==============================] - 19s 104ms/step - loss: 0.0059 - accuracy: 0.1733\n",
      "Epoch 61/100\n",
      "185/185 [==============================] - 19s 104ms/step - loss: 0.0058 - accuracy: 0.1734\n",
      "Epoch 62/100\n",
      "185/185 [==============================] - 19s 104ms/step - loss: 0.0059 - accuracy: 0.1734\n",
      "Epoch 63/100\n",
      "185/185 [==============================] - 19s 104ms/step - loss: 0.0061 - accuracy: 0.1733\n",
      "Epoch 64/100\n",
      "185/185 [==============================] - 19s 104ms/step - loss: 0.0059 - accuracy: 0.1734\n",
      "Epoch 65/100\n",
      "185/185 [==============================] - 19s 104ms/step - loss: 0.0059 - accuracy: 0.1735\n",
      "Epoch 66/100\n",
      "185/185 [==============================] - 19s 104ms/step - loss: 0.0057 - accuracy: 0.1734\n",
      "Epoch 67/100\n",
      "185/185 [==============================] - 19s 104ms/step - loss: 0.0056 - accuracy: 0.1735\n",
      "Epoch 68/100\n",
      "185/185 [==============================] - 19s 104ms/step - loss: 0.0055 - accuracy: 0.1735\n",
      "Epoch 69/100\n",
      "185/185 [==============================] - 19s 104ms/step - loss: 0.0054 - accuracy: 0.1735\n",
      "Epoch 70/100\n",
      "185/185 [==============================] - 19s 104ms/step - loss: 0.0055 - accuracy: 0.1735\n",
      "Epoch 71/100\n",
      "185/185 [==============================] - 19s 104ms/step - loss: 0.0053 - accuracy: 0.1735\n",
      "Epoch 72/100\n",
      "185/185 [==============================] - 19s 104ms/step - loss: 0.0052 - accuracy: 0.1736\n",
      "Epoch 73/100\n",
      "185/185 [==============================] - 19s 104ms/step - loss: 0.0053 - accuracy: 0.1735\n",
      "Epoch 74/100\n",
      "185/185 [==============================] - 19s 104ms/step - loss: 0.0053 - accuracy: 0.1735\n",
      "Epoch 75/100\n",
      "185/185 [==============================] - 19s 104ms/step - loss: 0.0051 - accuracy: 0.1736\n",
      "Epoch 76/100\n",
      "185/185 [==============================] - 19s 104ms/step - loss: 0.0051 - accuracy: 0.1735\n",
      "Epoch 77/100\n",
      "185/185 [==============================] - 19s 104ms/step - loss: 0.0052 - accuracy: 0.1736\n",
      "Epoch 78/100\n",
      "185/185 [==============================] - 19s 104ms/step - loss: 0.0052 - accuracy: 0.1735\n",
      "Epoch 79/100\n",
      "185/185 [==============================] - 19s 104ms/step - loss: 0.0048 - accuracy: 0.1736\n",
      "Epoch 80/100\n",
      "185/185 [==============================] - 19s 104ms/step - loss: 0.0048 - accuracy: 0.1737\n",
      "Epoch 81/100\n",
      "185/185 [==============================] - 19s 104ms/step - loss: 0.0049 - accuracy: 0.1736\n",
      "Epoch 82/100\n",
      "185/185 [==============================] - 19s 104ms/step - loss: 0.0046 - accuracy: 0.1737\n",
      "Epoch 83/100\n",
      "185/185 [==============================] - 19s 104ms/step - loss: 0.0046 - accuracy: 0.1737\n",
      "Epoch 84/100\n",
      "185/185 [==============================] - 19s 104ms/step - loss: 0.0047 - accuracy: 0.1737\n",
      "Epoch 85/100\n",
      "185/185 [==============================] - 19s 104ms/step - loss: 0.0048 - accuracy: 0.1736\n",
      "Epoch 86/100\n",
      "185/185 [==============================] - 19s 104ms/step - loss: 0.0043 - accuracy: 0.1738\n",
      "Epoch 87/100\n",
      "185/185 [==============================] - 19s 104ms/step - loss: 0.0046 - accuracy: 0.1737\n",
      "Epoch 88/100\n",
      "185/185 [==============================] - 19s 104ms/step - loss: 0.0046 - accuracy: 0.1737\n",
      "Epoch 89/100\n",
      "185/185 [==============================] - 19s 104ms/step - loss: 0.0046 - accuracy: 0.1737\n",
      "Epoch 90/100\n",
      "185/185 [==============================] - 19s 104ms/step - loss: 0.0044 - accuracy: 0.1738\n",
      "Epoch 91/100\n",
      "185/185 [==============================] - 19s 104ms/step - loss: 0.0045 - accuracy: 0.1737\n",
      "Epoch 92/100\n",
      "185/185 [==============================] - 19s 104ms/step - loss: 0.0044 - accuracy: 0.1738\n",
      "Epoch 93/100\n",
      "185/185 [==============================] - 19s 104ms/step - loss: 0.0044 - accuracy: 0.1738\n",
      "Epoch 94/100\n",
      "185/185 [==============================] - 19s 104ms/step - loss: 0.0041 - accuracy: 0.1738\n",
      "Epoch 95/100\n",
      "185/185 [==============================] - 19s 104ms/step - loss: 0.0043 - accuracy: 0.1738\n",
      "Epoch 96/100\n",
      "185/185 [==============================] - 19s 104ms/step - loss: 0.0042 - accuracy: 0.1738\n",
      "Epoch 97/100\n",
      "185/185 [==============================] - 19s 104ms/step - loss: 0.0043 - accuracy: 0.1738\n",
      "Epoch 98/100\n",
      "185/185 [==============================] - 19s 104ms/step - loss: 0.0042 - accuracy: 0.1738\n",
      "Epoch 99/100\n",
      "185/185 [==============================] - 19s 104ms/step - loss: 0.0041 - accuracy: 0.1738\n",
      "Epoch 100/100\n",
      "185/185 [==============================] - 19s 104ms/step - loss: 0.0043 - accuracy: 0.1737\n"
     ]
    },
    {
     "data": {
      "text/plain": [
       "<keras.callbacks.History at 0x7fc327000ca0>"
      ]
     },
     "execution_count": 48,
     "metadata": {},
     "output_type": "execute_result"
    }
   ],
   "source": [
    "EPOCHS = 100\n",
    "model.fit(dataset, epochs=EPOCHS, verbose=1) "
   ]
  },
  {
   "cell_type": "markdown",
   "id": "50a73fec",
   "metadata": {},
   "source": [
    "오 accuracy가 높아져서 그런지 에폭을 50번 했을때보단 답변이 나아졌다!"
   ]
  },
  {
   "cell_type": "code",
   "execution_count": 49,
   "id": "911553c4",
   "metadata": {},
   "outputs": [
    {
     "name": "stdout",
     "output_type": "stream",
     "text": [
      "입력 : 안녕 오랜만이야\n",
      "출력 : 오랜만이에요 .\n",
      "\n",
      "입력 : 잘 지냈어?\n",
      "출력 : 안부를 물어주시다니 감사합니다 .\n",
      "\n",
      "입력 : 널 만나서 기뻐\n",
      "출력 : 운동 해보는 것도 좋을 거예요 .\n",
      "\n",
      "입력 : 뭐 먹을까\n",
      "출력 : 좀 먹어도 괜찮아요 .\n",
      "\n",
      "입력 : 메뉴 추천해줘\n",
      "출력 : 복스럽게 먹으면 더 좋죠 .\n",
      "\n",
      "입력 : 3박4일 놀러가고 싶다\n",
      "출력 : 여행은 언제나 좋죠 .\n",
      "\n",
      "입력 : 나랑 놀자\n",
      "출력 : 지금 그러고 있어요 .\n",
      "\n",
      "입력 : SD카드 망가졌어\n",
      "출력 : 다시 새로 사는 게 마음 편해요 .\n",
      "\n",
      "입력 : 로또 번호 알려줘\n",
      "출력 : 제가 알면 제가 먼저 했을 거예요 .\n",
      "\n",
      "입력 : SNS 시간낭비인 거 아는데 매일 하는 중\n",
      "출력 : 시간을 정하고 해보세요 .\n",
      "\n",
      "입력 : 고양이 키우고 싶어\n",
      "출력 : 가족들과 상의해보세요 .\n",
      "\n",
      "입력 : 첫사랑 생각나웃어줄래\n",
      "출력 : 기대를 버려야 덜 다칠 거예요 .\n",
      "\n",
      "입력 : 삶은 뭘까?\n",
      "출력 : 삶 곳곳에 사랑이 숨 쉬고 있어요 .\n",
      "\n",
      "입력 : 인생살이 왜이리 힘드냐\n",
      "출력 : 미련이 생기기 전에 그만두는 편이 좋을거예요 .\n",
      "\n",
      "입력 : 이제 그만 쉬고 싶어\n",
      "출력 : 잠깐 바람 쐬고 오세요 .\n",
      "\n",
      "입력 : 너무 고독하다\n",
      "출력 : 혼자가 아니에요 .\n",
      "\n",
      "입력 : 도망가고 싶다\n",
      "출력 : 지금도 충분히 잘 하고 있어요 .\n",
      "\n",
      "입력 : 넌 최고였어\n",
      "출력 : 당신도 행복하세요 .\n",
      "\n",
      "입력 : 나 잊지마\n",
      "출력 : 때론 잊어버리는 것이 좋을 때도 있어요 .\n",
      "\n",
      "입력 : 우리 마지막이야\n",
      "출력 : 마지막이 아닐 지도 몰라요 .\n",
      "\n",
      "입력 : 나 간다 잘 지내 안녕\n",
      "출력 : 잘 지냈답니다 .\n",
      "\n"
     ]
    }
   ],
   "source": [
    "print_answers(input_question_list)"
   ]
  },
  {
   "cell_type": "markdown",
   "id": "a6a3a357",
   "metadata": {},
   "source": [
    "## 하이퍼파라미터를 변경한 모델로 다시 학습 시도"
   ]
  },
  {
   "cell_type": "code",
   "execution_count": 50,
   "id": "0bff9132",
   "metadata": {},
   "outputs": [
    {
     "name": "stdout",
     "output_type": "stream",
     "text": [
      "Model: \"transformer\"\n",
      "__________________________________________________________________________________________________\n",
      "Layer (type)                    Output Shape         Param #     Connected to                     \n",
      "==================================================================================================\n",
      "inputs (InputLayer)             [(None, None)]       0                                            \n",
      "__________________________________________________________________________________________________\n",
      "dec_inputs (InputLayer)         [(None, None)]       0                                            \n",
      "__________________________________________________________________________________________________\n",
      "enc_padding_mask (Lambda)       (None, 1, 1, None)   0           inputs[0][0]                     \n",
      "__________________________________________________________________________________________________\n",
      "encoder (Functional)            (None, None, 500)    8155580     inputs[0][0]                     \n",
      "                                                                 enc_padding_mask[0][0]           \n",
      "__________________________________________________________________________________________________\n",
      "look_ahead_mask (Lambda)        (None, 1, None, None 0           dec_inputs[0][0]                 \n",
      "__________________________________________________________________________________________________\n",
      "dec_padding_mask (Lambda)       (None, 1, 1, None)   0           inputs[0][0]                     \n",
      "__________________________________________________________________________________________________\n",
      "decoder (Functional)            (None, None, 500)    10161580    dec_inputs[0][0]                 \n",
      "                                                                 encoder[0][0]                    \n",
      "                                                                 look_ahead_mask[0][0]            \n",
      "                                                                 dec_padding_mask[0][0]           \n",
      "__________________________________________________________________________________________________\n",
      "outputs (Dense)                 (None, None, 8129)   4072629     decoder[0][0]                    \n",
      "==================================================================================================\n",
      "Total params: 22,389,789\n",
      "Trainable params: 22,389,789\n",
      "Non-trainable params: 0\n",
      "__________________________________________________________________________________________________\n"
     ]
    }
   ],
   "source": [
    "tf.keras.backend.clear_session()\n",
    "\n",
    "# 하이퍼파라미터\n",
    "NUM_LAYERS = 2 # 유지\n",
    "D_MODEL = 500 # 256 -> 500 변경\n",
    "NUM_HEADS = 20 # 8 -> 20 변경 \n",
    "UNITS = 1040 # 512 -> 1040 변경\n",
    "DROPOUT = 0.4 # 0.1 -> 0.4 변경\n",
    "\n",
    "model = transformer(\n",
    "    vocab_size=VOCAB_SIZE,\n",
    "    num_layers=NUM_LAYERS,\n",
    "    units=UNITS,\n",
    "    d_model=D_MODEL,\n",
    "    num_heads=NUM_HEADS,\n",
    "    dropout=DROPOUT)\n",
    "\n",
    "model.summary()"
   ]
  },
  {
   "cell_type": "code",
   "execution_count": 51,
   "id": "137ce8c3",
   "metadata": {},
   "outputs": [
    {
     "name": "stdout",
     "output_type": "stream",
     "text": [
      "슝=3\n"
     ]
    }
   ],
   "source": [
    "def loss_function(y_true, y_pred):\n",
    "  y_true = tf.reshape(y_true, shape=(-1, MAX_LENGTH - 1))\n",
    "  \n",
    "  loss = tf.keras.losses.SparseCategoricalCrossentropy(\n",
    "      from_logits=True, reduction='none')(y_true, y_pred)\n",
    "\n",
    "  mask = tf.cast(tf.not_equal(y_true, 0), tf.float32)\n",
    "  loss = tf.multiply(loss, mask)\n",
    "\n",
    "  return tf.reduce_mean(loss)\n"
   ]
  },
  {
   "cell_type": "code",
   "execution_count": 52,
   "id": "4bfe221e",
   "metadata": {},
   "outputs": [
    {
     "name": "stdout",
     "output_type": "stream",
     "text": [
      "슝=3\n"
     ]
    }
   ],
   "source": [
    "learning_rate = CustomSchedule(D_MODEL)\n",
    "\n",
    "optimizer = tf.keras.optimizers.Adam(\n",
    "    learning_rate, beta_1=0.7, beta_2=0.8, epsilon=1e-9) #beta_1 0.9 -> 0.7 변경, beta_2 0.98 -> 0.8 변경 \n",
    "\n",
    "def accuracy(y_true, y_pred):\n",
    "  y_true = tf.reshape(y_true, shape=(-1, MAX_LENGTH - 1))\n",
    "  return tf.keras.metrics.sparse_categorical_accuracy(y_true, y_pred)\n",
    "\n",
    "model.compile(optimizer=optimizer, loss=loss_function, metrics=[accuracy])\n"
   ]
  },
  {
   "cell_type": "code",
   "execution_count": 53,
   "id": "5f719569",
   "metadata": {},
   "outputs": [
    {
     "name": "stdout",
     "output_type": "stream",
     "text": [
      "슝=3\n"
     ]
    }
   ],
   "source": [
    "class CustomSchedule(tf.keras.optimizers.schedules.LearningRateSchedule):\n",
    "\n",
    "  def __init__(self, d_model, warmup_steps=4000):\n",
    "    super(CustomSchedule, self).__init__()\n",
    "\n",
    "    self.d_model = d_model\n",
    "    self.d_model = tf.cast(self.d_model, tf.float32)\n",
    "\n",
    "    self.warmup_steps = warmup_steps\n",
    "\n",
    "  def __call__(self, step):\n",
    "    arg1 = tf.math.rsqrt(step)\n",
    "    arg2 = step * (self.warmup_steps**-1.5)\n",
    "\n",
    "    return tf.math.rsqrt(self.d_model) * tf.math.minimum(arg1, arg2)\n"
   ]
  },
  {
   "cell_type": "code",
   "execution_count": 54,
   "id": "21165fdb",
   "metadata": {},
   "outputs": [
    {
     "name": "stdout",
     "output_type": "stream",
     "text": [
      "Epoch 1/100\n",
      "185/185 [==============================] - 25s 104ms/step - loss: 1.3971 - accuracy: 0.0246\n",
      "Epoch 2/100\n",
      "185/185 [==============================] - 19s 105ms/step - loss: 1.1004 - accuracy: 0.0484\n",
      "Epoch 3/100\n",
      "185/185 [==============================] - 19s 104ms/step - loss: 1.0016 - accuracy: 0.0504\n",
      "Epoch 4/100\n",
      "185/185 [==============================] - 19s 104ms/step - loss: 0.9546 - accuracy: 0.0526\n",
      "Epoch 5/100\n",
      "185/185 [==============================] - 19s 104ms/step - loss: 0.9157 - accuracy: 0.0549\n",
      "Epoch 6/100\n",
      "185/185 [==============================] - 19s 104ms/step - loss: 0.8783 - accuracy: 0.0569\n",
      "Epoch 7/100\n",
      "185/185 [==============================] - 19s 104ms/step - loss: 0.8364 - accuracy: 0.0592\n",
      "Epoch 8/100\n",
      "185/185 [==============================] - 19s 104ms/step - loss: 0.7893 - accuracy: 0.0621\n",
      "Epoch 9/100\n",
      "185/185 [==============================] - 19s 104ms/step - loss: 0.7363 - accuracy: 0.0663\n",
      "Epoch 10/100\n",
      "185/185 [==============================] - 19s 104ms/step - loss: 0.6797 - accuracy: 0.0712\n",
      "Epoch 11/100\n",
      "185/185 [==============================] - 19s 104ms/step - loss: 0.6203 - accuracy: 0.0773\n",
      "Epoch 12/100\n",
      "185/185 [==============================] - 19s 104ms/step - loss: 0.5606 - accuracy: 0.0837\n",
      "Epoch 13/100\n",
      "185/185 [==============================] - 19s 104ms/step - loss: 0.5030 - accuracy: 0.0905\n",
      "Epoch 14/100\n",
      "185/185 [==============================] - 19s 104ms/step - loss: 0.4493 - accuracy: 0.0973\n",
      "Epoch 15/100\n",
      "185/185 [==============================] - 19s 104ms/step - loss: 0.4011 - accuracy: 0.1036\n",
      "Epoch 16/100\n",
      "185/185 [==============================] - 19s 104ms/step - loss: 0.3588 - accuracy: 0.1091\n",
      "Epoch 17/100\n",
      "185/185 [==============================] - 19s 104ms/step - loss: 0.3200 - accuracy: 0.1144\n",
      "Epoch 18/100\n",
      "185/185 [==============================] - 19s 104ms/step - loss: 0.2865 - accuracy: 0.1191\n",
      "Epoch 19/100\n",
      "185/185 [==============================] - 19s 104ms/step - loss: 0.2568 - accuracy: 0.1236\n",
      "Epoch 20/100\n",
      "185/185 [==============================] - 19s 104ms/step - loss: 0.2310 - accuracy: 0.1277\n",
      "Epoch 21/100\n",
      "185/185 [==============================] - 19s 104ms/step - loss: 0.2088 - accuracy: 0.1313\n",
      "Epoch 22/100\n",
      "185/185 [==============================] - 19s 104ms/step - loss: 0.1920 - accuracy: 0.1338\n",
      "Epoch 23/100\n",
      "185/185 [==============================] - 19s 104ms/step - loss: 0.1726 - accuracy: 0.1369\n",
      "Epoch 24/100\n",
      "185/185 [==============================] - 19s 104ms/step - loss: 0.1532 - accuracy: 0.1403\n",
      "Epoch 25/100\n",
      "185/185 [==============================] - 19s 104ms/step - loss: 0.1362 - accuracy: 0.1434\n",
      "Epoch 26/100\n",
      "185/185 [==============================] - 19s 104ms/step - loss: 0.1222 - accuracy: 0.1460\n",
      "Epoch 27/100\n",
      "185/185 [==============================] - 19s 104ms/step - loss: 0.1093 - accuracy: 0.1484\n",
      "Epoch 28/100\n",
      "185/185 [==============================] - 19s 104ms/step - loss: 0.0973 - accuracy: 0.1509\n",
      "Epoch 29/100\n",
      "185/185 [==============================] - 19s 104ms/step - loss: 0.0879 - accuracy: 0.1527\n",
      "Epoch 30/100\n",
      "185/185 [==============================] - 19s 104ms/step - loss: 0.0798 - accuracy: 0.1547\n",
      "Epoch 31/100\n",
      "185/185 [==============================] - 19s 104ms/step - loss: 0.0716 - accuracy: 0.1566\n",
      "Epoch 32/100\n",
      "185/185 [==============================] - 19s 104ms/step - loss: 0.0668 - accuracy: 0.1577\n",
      "Epoch 33/100\n",
      "185/185 [==============================] - 19s 104ms/step - loss: 0.0611 - accuracy: 0.1591\n",
      "Epoch 34/100\n",
      "185/185 [==============================] - 19s 104ms/step - loss: 0.0563 - accuracy: 0.1601\n",
      "Epoch 35/100\n",
      "185/185 [==============================] - 19s 104ms/step - loss: 0.0515 - accuracy: 0.1614\n",
      "Epoch 36/100\n",
      "185/185 [==============================] - 19s 104ms/step - loss: 0.0479 - accuracy: 0.1624\n",
      "Epoch 37/100\n",
      "185/185 [==============================] - 19s 104ms/step - loss: 0.0461 - accuracy: 0.1627\n",
      "Epoch 38/100\n",
      "185/185 [==============================] - 19s 104ms/step - loss: 0.0427 - accuracy: 0.1636\n",
      "Epoch 39/100\n",
      "185/185 [==============================] - 19s 104ms/step - loss: 0.0395 - accuracy: 0.1645\n",
      "Epoch 40/100\n",
      "185/185 [==============================] - 19s 104ms/step - loss: 0.0378 - accuracy: 0.1647\n",
      "Epoch 41/100\n",
      "185/185 [==============================] - 19s 104ms/step - loss: 0.0349 - accuracy: 0.1655\n",
      "Epoch 42/100\n",
      "185/185 [==============================] - 19s 104ms/step - loss: 0.0334 - accuracy: 0.1660\n",
      "Epoch 43/100\n",
      "185/185 [==============================] - 19s 104ms/step - loss: 0.0328 - accuracy: 0.1663\n",
      "Epoch 44/100\n",
      "185/185 [==============================] - 19s 104ms/step - loss: 0.0308 - accuracy: 0.1668\n",
      "Epoch 45/100\n",
      "185/185 [==============================] - 19s 104ms/step - loss: 0.0283 - accuracy: 0.1674\n",
      "Epoch 46/100\n",
      "185/185 [==============================] - 19s 104ms/step - loss: 0.0281 - accuracy: 0.1675\n",
      "Epoch 47/100\n",
      "185/185 [==============================] - 19s 104ms/step - loss: 0.0261 - accuracy: 0.1680\n",
      "Epoch 48/100\n",
      "185/185 [==============================] - 19s 104ms/step - loss: 0.0257 - accuracy: 0.1683\n",
      "Epoch 49/100\n",
      "185/185 [==============================] - 19s 104ms/step - loss: 0.0242 - accuracy: 0.1684\n",
      "Epoch 50/100\n",
      "185/185 [==============================] - 19s 104ms/step - loss: 0.0236 - accuracy: 0.1686\n",
      "Epoch 51/100\n",
      "185/185 [==============================] - 19s 103ms/step - loss: 0.0224 - accuracy: 0.1688\n",
      "Epoch 52/100\n",
      "185/185 [==============================] - 19s 104ms/step - loss: 0.0223 - accuracy: 0.1691\n",
      "Epoch 53/100\n",
      "185/185 [==============================] - 19s 104ms/step - loss: 0.0209 - accuracy: 0.1693\n",
      "Epoch 54/100\n",
      "185/185 [==============================] - 19s 104ms/step - loss: 0.0197 - accuracy: 0.1697\n",
      "Epoch 55/100\n",
      "185/185 [==============================] - 19s 104ms/step - loss: 0.0199 - accuracy: 0.1697\n",
      "Epoch 56/100\n",
      "185/185 [==============================] - 19s 104ms/step - loss: 0.0193 - accuracy: 0.1699\n",
      "Epoch 57/100\n",
      "185/185 [==============================] - 19s 104ms/step - loss: 0.0183 - accuracy: 0.1701\n",
      "Epoch 58/100\n",
      "185/185 [==============================] - 19s 104ms/step - loss: 0.0173 - accuracy: 0.1704\n",
      "Epoch 59/100\n",
      "185/185 [==============================] - 19s 104ms/step - loss: 0.0172 - accuracy: 0.1704\n",
      "Epoch 60/100\n",
      "185/185 [==============================] - 19s 104ms/step - loss: 0.0165 - accuracy: 0.1705\n",
      "Epoch 61/100\n",
      "185/185 [==============================] - 19s 104ms/step - loss: 0.0165 - accuracy: 0.1705\n",
      "Epoch 62/100\n",
      "185/185 [==============================] - 19s 104ms/step - loss: 0.0155 - accuracy: 0.1709\n",
      "Epoch 63/100\n",
      "185/185 [==============================] - 19s 104ms/step - loss: 0.0156 - accuracy: 0.1707\n",
      "Epoch 64/100\n",
      "185/185 [==============================] - 19s 104ms/step - loss: 0.0147 - accuracy: 0.1709\n",
      "Epoch 65/100\n",
      "185/185 [==============================] - 19s 104ms/step - loss: 0.0147 - accuracy: 0.1710\n",
      "Epoch 66/100\n",
      "185/185 [==============================] - 19s 104ms/step - loss: 0.0140 - accuracy: 0.1714\n",
      "Epoch 67/100\n",
      "185/185 [==============================] - 19s 104ms/step - loss: 0.0141 - accuracy: 0.1713\n",
      "Epoch 68/100\n",
      "185/185 [==============================] - 19s 104ms/step - loss: 0.0134 - accuracy: 0.1714\n",
      "Epoch 69/100\n",
      "185/185 [==============================] - 19s 104ms/step - loss: 0.0127 - accuracy: 0.1715\n",
      "Epoch 70/100\n",
      "185/185 [==============================] - 19s 104ms/step - loss: 0.0127 - accuracy: 0.1715\n",
      "Epoch 71/100\n",
      "185/185 [==============================] - 19s 104ms/step - loss: 0.0125 - accuracy: 0.1716\n",
      "Epoch 72/100\n",
      "185/185 [==============================] - 19s 104ms/step - loss: 0.0127 - accuracy: 0.1716\n",
      "Epoch 73/100\n",
      "185/185 [==============================] - 19s 104ms/step - loss: 0.0117 - accuracy: 0.1718\n",
      "Epoch 74/100\n",
      "185/185 [==============================] - 19s 104ms/step - loss: 0.0120 - accuracy: 0.1718\n",
      "Epoch 75/100\n",
      "185/185 [==============================] - 19s 104ms/step - loss: 0.0111 - accuracy: 0.1720\n",
      "Epoch 76/100\n",
      "185/185 [==============================] - 19s 104ms/step - loss: 0.0116 - accuracy: 0.1718\n",
      "Epoch 77/100\n",
      "185/185 [==============================] - 19s 104ms/step - loss: 0.0109 - accuracy: 0.1722\n",
      "Epoch 78/100\n",
      "185/185 [==============================] - 19s 104ms/step - loss: 0.0109 - accuracy: 0.1721\n",
      "Epoch 79/100\n",
      "185/185 [==============================] - 19s 104ms/step - loss: 0.0107 - accuracy: 0.1721\n",
      "Epoch 80/100\n",
      "185/185 [==============================] - 19s 104ms/step - loss: 0.0105 - accuracy: 0.1722\n",
      "Epoch 81/100\n",
      "185/185 [==============================] - 19s 104ms/step - loss: 0.0103 - accuracy: 0.1723\n",
      "Epoch 82/100\n",
      "185/185 [==============================] - 19s 104ms/step - loss: 0.0097 - accuracy: 0.1724\n",
      "Epoch 83/100\n",
      "185/185 [==============================] - 19s 104ms/step - loss: 0.0101 - accuracy: 0.1723\n",
      "Epoch 84/100\n",
      "185/185 [==============================] - 19s 104ms/step - loss: 0.0098 - accuracy: 0.1724\n",
      "Epoch 85/100\n",
      "185/185 [==============================] - 19s 104ms/step - loss: 0.0097 - accuracy: 0.1724\n",
      "Epoch 86/100\n",
      "185/185 [==============================] - 19s 104ms/step - loss: 0.0093 - accuracy: 0.1725\n",
      "Epoch 87/100\n",
      "185/185 [==============================] - 19s 104ms/step - loss: 0.0090 - accuracy: 0.1726\n",
      "Epoch 88/100\n",
      "185/185 [==============================] - 19s 104ms/step - loss: 0.0090 - accuracy: 0.1725\n",
      "Epoch 89/100\n",
      "185/185 [==============================] - 19s 104ms/step - loss: 0.0086 - accuracy: 0.1727\n",
      "Epoch 90/100\n",
      "185/185 [==============================] - 19s 104ms/step - loss: 0.0088 - accuracy: 0.1726\n",
      "Epoch 91/100\n",
      "185/185 [==============================] - 19s 104ms/step - loss: 0.0086 - accuracy: 0.1726\n",
      "Epoch 92/100\n",
      "185/185 [==============================] - 19s 104ms/step - loss: 0.0086 - accuracy: 0.1727\n",
      "Epoch 93/100\n",
      "185/185 [==============================] - 19s 103ms/step - loss: 0.0084 - accuracy: 0.1728\n",
      "Epoch 94/100\n",
      "185/185 [==============================] - 19s 104ms/step - loss: 0.0082 - accuracy: 0.1728\n",
      "Epoch 95/100\n",
      "185/185 [==============================] - 19s 104ms/step - loss: 0.0080 - accuracy: 0.1728\n",
      "Epoch 96/100\n",
      "185/185 [==============================] - 19s 104ms/step - loss: 0.0081 - accuracy: 0.1728\n",
      "Epoch 97/100\n",
      "185/185 [==============================] - 19s 104ms/step - loss: 0.0076 - accuracy: 0.1729\n",
      "Epoch 98/100\n",
      "185/185 [==============================] - 19s 104ms/step - loss: 0.0079 - accuracy: 0.1729\n",
      "Epoch 99/100\n",
      "185/185 [==============================] - 19s 104ms/step - loss: 0.0077 - accuracy: 0.1729\n",
      "Epoch 100/100\n",
      "185/185 [==============================] - 19s 104ms/step - loss: 0.0073 - accuracy: 0.1730\n"
     ]
    },
    {
     "data": {
      "text/plain": [
       "<keras.callbacks.History at 0x7fc28de6ed00>"
      ]
     },
     "execution_count": 54,
     "metadata": {},
     "output_type": "execute_result"
    }
   ],
   "source": [
    "EPOCHS = 100\n",
    "model.fit(dataset, epochs=EPOCHS, verbose=1) "
   ]
  },
  {
   "cell_type": "markdown",
   "id": "41ca00d5",
   "metadata": {},
   "source": [
    "처음에 하이퍼파라미터를 이것저것 바꿔가며 학습시켰을 땐 엄청 좋은 결과가 있어서 조금씩 바꾸다가 그 기록을 남기지 못하고 결국 초기보다 더 낮은 accuracy를 갖게 되었다.."
   ]
  },
  {
   "cell_type": "code",
   "execution_count": 55,
   "id": "8fce3a52",
   "metadata": {},
   "outputs": [
    {
     "name": "stdout",
     "output_type": "stream",
     "text": [
      "입력 : 안녕 오랜만이야\n",
      "출력 : 오랜만이에요 .\n",
      "\n",
      "입력 : 잘 지냈어?\n",
      "출력 : 안부를 물어주시다니 감사합니다 .\n",
      "\n",
      "입력 : 널 만나서 기뻐\n",
      "출력 : 지금 무슨 말을 해도 와닿지 않겠지만 잘할 수 있을 거예요 .\n",
      "\n",
      "입력 : 뭐 먹을까\n",
      "출력 : 좀 먹어도 괜찮아요 .\n",
      "\n",
      "입력 : 메뉴 추천해줘\n",
      "출력 : 냉장고 파먹기 해보세요 .\n",
      "\n",
      "입력 : 3박4일 놀러가고 싶다\n",
      "출력 : 여행은 언제나 좋죠 .\n",
      "\n",
      "입력 : 나랑 놀자\n",
      "출력 : 지금 그러고 있어요 .\n",
      "\n",
      "입력 : SD카드 망가졌어\n",
      "출력 : 다시 새로 사는 게 마음 편해요 .\n",
      "\n",
      "입력 : 로또 번호 알려줘\n",
      "출력 : 제가 알면 제가 먼저 했을 거예요 .\n",
      "\n",
      "입력 : SNS 시간낭비인 거 아는데 매일 하는 중\n",
      "출력 : 시간을 정하고 해보세요 .\n",
      "\n",
      "입력 : 고양이 키우고 싶어\n",
      "출력 : 자신을 먼저 키우세요 .\n",
      "\n",
      "입력 : 첫사랑 생각나웃어줄래\n",
      "출력 : 다른 슬픈 이야기네요 .\n",
      "\n",
      "입력 : 삶은 뭘까?\n",
      "출력 : 지칠 때는 쉬어도 돼요 .\n",
      "\n",
      "입력 : 인생살이 왜이리 힘드냐\n",
      "출력 : 잠시 휴식기를 가져보는것도 좋을거 같아요 .\n",
      "\n",
      "입력 : 이제 그만 쉬고 싶어\n",
      "출력 : 잠깐 바람 쐬고 오세요 .\n",
      "\n",
      "입력 : 너무 고독하다\n",
      "출력 : 환승은 진짜 답도 없네요 .\n",
      "\n",
      "입력 : 도망가고 싶다\n",
      "출력 : 저랑 놀아요 .\n",
      "\n",
      "입력 : 넌 최고였어\n",
      "출력 : 당신도 행복하세요 .\n",
      "\n",
      "입력 : 나 잊지마\n",
      "출력 : 때론 잊어버리는 것이 좋을 때도 있어요 .\n",
      "\n",
      "입력 : 우리 마지막이야\n",
      "출력 : 마지막이 아닐 지도 몰라요 .\n",
      "\n",
      "입력 : 나 간다 잘 지내 안녕\n",
      "출력 : 제가 놀아드리고 싶네요 .\n",
      "\n"
     ]
    }
   ],
   "source": [
    "print_answers(input_question_list)"
   ]
  },
  {
   "attachments": {},
   "cell_type": "markdown",
   "id": "6f02584c",
   "metadata": {},
   "source": [
    "# 회고\n",
    "\n",
    "\n",
    "## 서론 \n",
    "\n",
    "송영숙님의 한국어 챗봇 데이터를 사용하여 데이터 전처리하기하고 SubwordTextEncoder 사용하고 모델 구성하고 모델 평가하여 결과를 비교해보는 프로젝트이다.\n",
    "\n",
    "## 개발 과정 \n",
    "\n",
    "먼저 불러온 데이터를 전처리한다. 단어 토크나이징 방해되지 않도록 정규 표현식으로 구두점을 제거한 후 질문과 답변의 쌍인 데이터셋을 로드하고 전처리하고 내부 단어 토크나이저인 SubwordTextEncoder 사용하여 단어장을 만든다. 각 단어를 고유한 정수로 인코딩 및 패딩 과정을 해주고 교사 강요(Teacher Forcing)를 적용해준다. 포지셔널 인코딩 레이어와 스케일드 닷 프로덕트 어텐션 함수로 어텐션해주고 마스킹을 한 후 인코더 레이어 함수를 구현해준다. 그리고 디코더 함수도 구현해준 후 트랜스포머 함수 정의를 하여 트랜스포머 모델을 구현해주고 모델을 생성해준 다음 손실함수와 커스텀 학습률을 설정하고 모델을 컴파일하고 에폭값을 조절해가며 모델을 훈련하여 좋은 accuracy를 찾아나간다.\n",
    "\n",
    "\n",
    "## 결과\n",
    "\n",
    "사진첨부가 되지 않아서 글로 쓰자면 처음에 기본으로 적용된 모델 하이퍼파라미터 값에서 에폭을 50으로 줬을 땐 accuracy가 0.1691로 결과가 그렇게 좋지 않아서 에폭 100으로 다시 학습시켜봤는데 accuracy가 거의 0.1738이 나와서 결과가 개선이 되었다. 모델의 하이퍼파라미터를 여러차례 바꾸면서 에폭도 조절해가며 학습시켜봤는데 좋은 결과였던 기록을 남기지 못해 다시 여러차례 시도했지만 결국엔 마지막 모델의 하이퍼파라미터를 건드렸을 때 오히려 낮은 accuracy의 결과를 얻게 되어서 너무 아쉬웠다.\n",
    "\n",
    "\n",
    "## 배운 점 및 회고 \n",
    "\n",
    "약간 말 안듣는 심심이를 구현한 거 같아서 생각보다 재밌었고 신기했다. 그리고 특히나 이번 프로젝트를 할때 어텐션 부분이 너무 어려워서 이해가 잘 가지 않았는데 보충 공부가 더 필요할 거 같다는 생각을 했다. 하이퍼파라미터를 조절해가며 더 좋은 결과를 얻어냈었어서 다시 시도했지만 그 때의 결과를 남기지 못한거 같아서 아쉬움이 많이 남았다."
   ]
  }
 ],
 "metadata": {
  "kernelspec": {
   "display_name": "Python 3 (ipykernel)",
   "language": "python",
   "name": "python3"
  },
  "language_info": {
   "codemirror_mode": {
    "name": "ipython",
    "version": 3
   },
   "file_extension": ".py",
   "mimetype": "text/x-python",
   "name": "python",
   "nbconvert_exporter": "python",
   "pygments_lexer": "ipython3",
   "version": "3.9.7"
  }
 },
 "nbformat": 4,
 "nbformat_minor": 5
}
