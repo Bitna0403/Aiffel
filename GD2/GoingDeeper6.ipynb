{
 "cells": [
  {
   "cell_type": "markdown",
   "id": "ea012616",
   "metadata": {},
   "source": [
    "# Vocabulary Size를 변경해서 시도해보기"
   ]
  },
  {
   "cell_type": "markdown",
   "id": "dc5323a1",
   "metadata": {},
   "source": [
    "지금까지는 모델을 변경하고, 모델을 조합해서 성능을 올리는 일에 힘썼다. 그런데 어쩌면 성능을 높이는 방법은 단순히 모델을 조정하는 일에 한정되지 않을 수 있다. 데이터의 전처리는 모델의 성능에 영향을 직접적으로 준다. 특히나 Bag of Words를 기반으로 하는 DTM이나 TF-IDF의 경우, 사용하는 단어의 수를 어떻게 결정하느냐에 따라서 성능에 영향을 줄 수 있다. 중요도가 낮은 단어들까지 포함해 너무 많은 단어를 사용하는 경우에도 성능이 저하될 수 있고, 반대로 너무 적은 단어들을 사용해도 성능이 저하될 수 있다. 이렇게 변화된 단어의 수는 또 어떤 모델을 사용하느냐에 따라 유리할 수도, 불리할 수도 있기에 단어의 수에 따라서 모델의 성능이 어떻게 변하는지 테스트를 해보자."
   ]
  },
  {
   "cell_type": "markdown",
   "id": "81595c62",
   "metadata": {},
   "source": [
    "## 사용할 라이브러리  버전 확인"
   ]
  },
  {
   "cell_type": "code",
   "execution_count": 1,
   "id": "3afc9e0a",
   "metadata": {},
   "outputs": [
    {
     "name": "stdout",
     "output_type": "stream",
     "text": [
      "2.6.0\n",
      "3.4.3\n",
      "0.11.2\n",
      "1.21.4\n",
      "1.3.3\n",
      "1.0\n"
     ]
    }
   ],
   "source": [
    "import tensorflow\n",
    "import matplotlib\n",
    "import seaborn \n",
    "import numpy \n",
    "import pandas\n",
    "import sklearn\n",
    "\n",
    "print(tensorflow.__version__)\n",
    "print(matplotlib.__version__)\n",
    "print(seaborn.__version__)\n",
    "print(numpy.__version__)\n",
    "print(pandas.__version__)\n",
    "print(sklearn.__version__)"
   ]
  },
  {
   "cell_type": "code",
   "execution_count": 2,
   "id": "44eac6dd",
   "metadata": {},
   "outputs": [],
   "source": [
    "from tensorflow.keras.datasets import reuters\n",
    "import matplotlib.pyplot as plt\n",
    "import seaborn as sns\n",
    "import numpy as np\n",
    "import pandas as pd\n",
    "from sklearn.model_selection import train_test_split\n",
    "from sklearn.feature_extraction.text import CountVectorizer, TfidfTransformer\n",
    "from tensorflow.keras.models import Sequential\n",
    "from tensorflow.keras.layers import Embedding, LSTM, Dense\n",
    "from tensorflow.keras.preprocessing.sequence import pad_sequences\n",
    "from tensorflow.keras.datasets import reuters\n"
   ]
  },
  {
   "cell_type": "markdown",
   "id": "d3a96afd",
   "metadata": {},
   "source": [
    "# 1. 모든 단어 사용"
   ]
  },
  {
   "cell_type": "markdown",
   "id": "fba0b769",
   "metadata": {},
   "source": [
    "## 훈련 데이터와 테스트 데이터 로드하기\n",
    "로이터 뉴스 데이터를 훈련 데이터와 테스트 데이터로 나누어 변수에 각각 저장한다. num_words는 이 데이터에서 빈도수 기준으로 상위 몇 번째 단어까지 사용할 것인지 조절한다. 모든 단어를 사용하기 위해 None으로 지정해준다. 각 단어는 고유한 번호가 정해져 있는 상태이고, 이를 통해서 사용할 단어의 수를 정한다. test_split = 0.2는 전체 데이터 중에서 80%를 훈련 데이터, 20%를 테스트 데이터로 사용한다는 의미이다. x_train과 x_test는 훈련용 뉴스 데이터와 테스트용 뉴스 데이터, y_train과 y_test는 훈련용 뉴스 데이터의 레이블와 테스트용 뉴스 데이터의 레이블이 된다."
   ]
  },
  {
   "cell_type": "code",
   "execution_count": 3,
   "id": "4c515a10",
   "metadata": {},
   "outputs": [],
   "source": [
    "(x_train, y_train), (x_test, y_test) = reuters.load_data(num_words=None, test_split=0.2)"
   ]
  },
  {
   "cell_type": "code",
   "execution_count": 4,
   "id": "3f280e7f",
   "metadata": {},
   "outputs": [
    {
     "name": "stdout",
     "output_type": "stream",
     "text": [
      "훈련 샘플의 수: 8982\n",
      "테스트 샘플의 수: 2246\n"
     ]
    }
   ],
   "source": [
    "print('훈련 샘플의 수: {}'.format(len(x_train)))\n",
    "print('테스트 샘플의 수: {}'.format(len(x_test)))"
   ]
  },
  {
   "cell_type": "markdown",
   "id": "8487a4f0",
   "metadata": {},
   "source": [
    "## 데이터 출력해보기\n",
    "훈련용 뉴스는 8,982개. 그리고 테스트용 뉴스는 2,246개가 있다. 8:2의 비율을 가지는데, 첫 번째 훈련용 뉴스와 첫 번째 테스트용 뉴스를 출력해 본다. 이미 뉴스 데이터를 다운로드할 때는 단어가 아니라 해당 번호로 변환이 되어서 출력된다. 대부분의 자연어 처리에서는 텍스트를 숫자로 수치화하는 과정이 필요한데, 텐서플로우 데이터셋에서는 이미 전처리를 한 데이터를 제공되어 있다."
   ]
  },
  {
   "cell_type": "code",
   "execution_count": 5,
   "id": "7fbbb543",
   "metadata": {},
   "outputs": [
    {
     "name": "stdout",
     "output_type": "stream",
     "text": [
      "[1, 27595, 28842, 8, 43, 10, 447, 5, 25, 207, 270, 5, 3095, 111, 16, 369, 186, 90, 67, 7, 89, 5, 19, 102, 6, 19, 124, 15, 90, 67, 84, 22, 482, 26, 7, 48, 4, 49, 8, 864, 39, 209, 154, 6, 151, 6, 83, 11, 15, 22, 155, 11, 15, 7, 48, 9, 4579, 1005, 504, 6, 258, 6, 272, 11, 15, 22, 134, 44, 11, 15, 16, 8, 197, 1245, 90, 67, 52, 29, 209, 30, 32, 132, 6, 109, 15, 17, 12]\n",
      "[1, 4, 1378, 2025, 9, 697, 4622, 111, 8, 25, 109, 29, 3650, 11, 150, 244, 364, 33, 30, 30, 1398, 333, 6, 18292, 159, 9, 1084, 363, 13, 19231, 71, 9, 16273, 71, 117, 4, 225, 78, 206, 10, 9, 1214, 8, 4, 270, 5, 16273, 7, 748, 48, 9, 19231, 7, 207, 1451, 966, 1864, 793, 97, 133, 336, 7, 4, 493, 98, 273, 104, 284, 25, 39, 338, 22, 905, 220, 3465, 644, 59, 20, 6, 119, 61, 11, 15, 58, 579, 26, 10, 67, 7, 4, 738, 98, 43, 88, 333, 722, 12, 20, 6, 19, 746, 35, 15, 10, 9, 1214, 855, 129, 783, 21, 4, 2280, 244, 364, 51, 16, 299, 452, 16, 515, 4, 99, 29, 5, 4, 364, 281, 48, 10, 9, 1214, 23, 644, 47, 20, 324, 27, 56, 23406, 28185, 5, 192, 510, 17, 12]\n"
     ]
    }
   ],
   "source": [
    "print(x_train[0])\n",
    "print(x_test[0])"
   ]
  },
  {
   "cell_type": "markdown",
   "id": "89792840",
   "metadata": {},
   "source": [
    "첫 번째 훈련용 뉴스와 테스트용 뉴스의 레이블을 출력해보자."
   ]
  },
  {
   "cell_type": "code",
   "execution_count": 6,
   "id": "fd1b6fd3",
   "metadata": {},
   "outputs": [
    {
     "name": "stdout",
     "output_type": "stream",
     "text": [
      "3\n",
      "3\n"
     ]
    }
   ],
   "source": [
    "print(y_train[0])\n",
    "print(y_test[0])"
   ]
  },
  {
   "cell_type": "markdown",
   "id": "b6cdf7b2",
   "metadata": {},
   "source": [
    "둘 다 숫자 3이 출력된다. 각 뉴스는 정수로 된 레이블을 가지고 있다. 이 레이블은 숫자 0부터 시작되므로, 모든 레이블 중 최댓값을 구하고 1을 더하면 현재 클래스의 개수를 볼 수 있다."
   ]
  },
  {
   "cell_type": "code",
   "execution_count": 7,
   "id": "bc6a1af7",
   "metadata": {},
   "outputs": [
    {
     "name": "stdout",
     "output_type": "stream",
     "text": [
      "클래스의 수 : 46\n"
     ]
    }
   ],
   "source": [
    "num_classes = max(y_train) + 1\n",
    "print('클래스의 수 : {}'.format(num_classes))"
   ]
  },
  {
   "cell_type": "markdown",
   "id": "5994648a",
   "metadata": {},
   "source": [
    "## 데이터 분포 확인해보기\n",
    "\n",
    "자연어 처리 과정에서 문장과 문서들의 길이는 보통 다르다. 우리가 평소에 보는 뉴스 기사의 길이가 항상 똑같지는 않듯이 이 데이터도 똑같다. 모든 뉴스 데이터들은 길이가 다 다를 것이다. 뉴스 데이터의 길이 분포를 확인해보자."
   ]
  },
  {
   "cell_type": "code",
   "execution_count": 8,
   "id": "4746a058",
   "metadata": {},
   "outputs": [
    {
     "name": "stdout",
     "output_type": "stream",
     "text": [
      "훈련용 뉴스의 최대 길이 :2376\n",
      "훈련용 뉴스의 평균 길이 :145.5398574927633\n"
     ]
    },
    {
     "data": {
      "image/png": "[encoded data removed]",
      "text/plain": [
       "<Figure size 432x288 with 1 Axes>"
      ]
     },
     "metadata": {
      "needs_background": "light"
     },
     "output_type": "display_data"
    }
   ],
   "source": [
    "print('훈련용 뉴스의 최대 길이 :{}'.format(max(len(l) for l in x_train)))\n",
    "print('훈련용 뉴스의 평균 길이 :{}'.format(sum(map(len, x_train))/len(x_train)))\n",
    "\n",
    "plt.hist([len(s) for s in x_train], bins=50)\n",
    "plt.xlabel('length of samples')\n",
    "plt.ylabel('number of samples')\n",
    "plt.show()"
   ]
  },
  {
   "cell_type": "markdown",
   "id": "3d640f4f",
   "metadata": {},
   "source": [
    "길이가 가장 긴 뉴스의 길이는 2,376이고 평균 길이는 145이다. 아무래도 길이가 가장 긴 뉴스의 길이가 다른 뉴스에 비해 유독 긴 편인 것 같다. 시각화된 그래프의 분포로 봤을 때 500~1,000 사이의 길이를 가지는 뉴스도 일부 있어 보인다. \n",
    "우리가 맞춰야 하는 클래스의 분포를 확인해보자. 모델의 성능에 영향을 줄 수 있는 요소이기 때문에 실제로 모든 클래스가 다 존재는 하는 것인지, 또 어떤 클래스가 유독 많은지와 같은 것들을 사전에 확인해 보아야 한다."
   ]
  },
  {
   "cell_type": "code",
   "execution_count": 9,
   "id": "2b29bdef",
   "metadata": {},
   "outputs": [
    {
     "data": {
      "image/png": "[encoded data removed]",
      "text/plain": [
       "<Figure size 792x360 with 1 Axes>"
      ]
     },
     "metadata": {
      "needs_background": "light"
     },
     "output_type": "display_data"
    }
   ],
   "source": [
    "fig, axe = plt.subplots(ncols=1)\n",
    "fig.set_size_inches(11,5)\n",
    "sns.countplot(x=y_train)\n",
    "plt.show()"
   ]
  },
  {
   "cell_type": "markdown",
   "id": "4cc9468c",
   "metadata": {},
   "source": [
    "이 뉴스 데이터는 3번, 4번 클래스가 대부분을 차지하고 있다. 그 뒤로는 19번, 16번, 1번, 11번 등이 높은 분포를 가지고 있다. 시각화를 통해 어떤 클래스가 많고, 적은 것을 쉽게 확인할 수는 있었지만 수치적으로 정확히 몇 개인지도 출력해보자."
   ]
  },
  {
   "cell_type": "code",
   "execution_count": 10,
   "id": "b7826e57",
   "metadata": {},
   "outputs": [
    {
     "name": "stdout",
     "output_type": "stream",
     "text": [
      "각 클래스 빈도수:\n",
      "[[   0    1    2    3    4    5    6    7    8    9   10   11   12   13\n",
      "    14   15   16   17   18   19   20   21   22   23   24   25   26   27\n",
      "    28   29   30   31   32   33   34   35   36   37   38   39   40   41\n",
      "    42   43   44   45]\n",
      " [  55  432   74 3159 1949   17   48   16  139  101  124  390   49  172\n",
      "    26   20  444   39   66  549  269  100   15   41   62   92   24   15\n",
      "    48   19   45   39   32   11   50   10   49   19   19   24   36   30\n",
      "    13   21   12   18]]\n"
     ]
    }
   ],
   "source": [
    "unique_elements, counts_elements = np.unique(y_train, return_counts=True)\n",
    "print(\"각 클래스 빈도수:\")\n",
    "print(np.asarray((unique_elements, counts_elements)))"
   ]
  },
  {
   "cell_type": "markdown",
   "id": "1f7f0d5a",
   "metadata": {},
   "source": [
    "3번, 4번 클래스의 경우에는 각각 3,159개와 1,949개가 존재한다. 그 뒤로는 549개로 19번 클래스가 세 번째로 많고, 16번 클래스가 444개로 네 번째로 많다. 이렇게 각 클래스가 몇 개가 존재하는지도 확인했다."
   ]
  },
  {
   "cell_type": "markdown",
   "id": "f2edd0c7",
   "metadata": {},
   "source": [
    "## 원본 뉴스 데이터로 복원해보기\n",
    "이 데이터는 이미 어느 정도 전처리가 되어서 각 단어가 정수 시퀀스로 변환된 채 제공되고 있다고 언급했었지만 일반적인 상황이라면 텍스트를 숫자로 수치화하는 과정을 처음부터 해야 한다.\n",
    "그래서 우리는 여기서 정수 시퀀스로 변환된 데이터를 '굳이' 다시 텍스트로 돌려볼 것이다.\n",
    "로이터 뉴스 데이터는 '단어'를 key값으로, 고유한 '정수'를 value로 가지는 dictionary를 제공한다. 이를 word_index로 저장해보자."
   ]
  },
  {
   "cell_type": "code",
   "execution_count": 11,
   "id": "cf0f6db1",
   "metadata": {},
   "outputs": [],
   "source": [
    "word_index = reuters.get_word_index(path=\"reuters_word_index.json\")"
   ]
  },
  {
   "cell_type": "markdown",
   "id": "d9ee88da",
   "metadata": {},
   "source": [
    "이게 이 데이터의 단어장(Vocabulary) 이다. 이제 word_index 안에 단어를 입력하면 이 단어가 어떤 정수와 맵핑이 되는지를 알 수 있다. 단어 'the'는 어떤 정수와 맵핑이 될 지 확인해보자"
   ]
  },
  {
   "cell_type": "code",
   "execution_count": 12,
   "id": "8202d7e5",
   "metadata": {},
   "outputs": [
    {
     "data": {
      "text/plain": [
       "1"
      ]
     },
     "execution_count": 12,
     "metadata": {},
     "output_type": "execute_result"
    }
   ],
   "source": [
    "word_index['the']"
   ]
  },
  {
   "cell_type": "markdown",
   "id": "54acda96",
   "metadata": {},
   "source": [
    "뉴스 데이터 안에서 단어 'the'는 사실 1번이 아니라 4번 단어이다. 왜냐하면 0번, 1번, 2번은 사실 자연어 처리에 쓰이는 특별한 토큰들을 위해 맵핑된 번호이기 때문이다. (각각 , , 라는 토큰을 나타낸다.)\n",
    "그렇기 때문에, 다른 단어들도 word_index의 결과로 나오는 숫자에 3을 더해주어야 단어가 실제로 맵핑된 인덱스 값이 나온다. 이건 로이터 뉴스 데이터가 정의한 일종의 약속이다.\n"
   ]
  },
  {
   "cell_type": "code",
   "execution_count": 13,
   "id": "b6f9db3e",
   "metadata": {},
   "outputs": [
    {
     "name": "stdout",
     "output_type": "stream",
     "text": [
      "the\n"
     ]
    }
   ],
   "source": [
    "index_to_word = { index+3 : word for word, index in word_index.items() }\n",
    "print(index_to_word[4])"
   ]
  },
  {
   "cell_type": "markdown",
   "id": "d9600a4f",
   "metadata": {},
   "source": [
    "위에서 0번, 1번, 2번 인덱스에는 각각 <pad>, <sos>, <unk>라는 특별한 토큰이 맵핑되어 있다고 했었다. 그래서 만들어진 index_to_word에 이 토큰들도 추가해주어야 진짜 index_to_word가 완성된다."
   ]
  },
  {
   "cell_type": "code",
   "execution_count": 14,
   "id": "451a880a",
   "metadata": {},
   "outputs": [],
   "source": [
    "# index_to_word에 숫자 0은 <pad>, 숫자 1은 <sos>, 숫자 2는 <unk>를 넣어줍니다.\n",
    "for index, token in enumerate((\"<pad>\", \"<sos>\", \"<unk>\")):\n",
    "  index_to_word[index]=token"
   ]
  },
  {
   "cell_type": "markdown",
   "id": "ddce8c72",
   "metadata": {},
   "source": [
    "index_to_word를 통해서 첫 번째 훈련용 뉴스 기사를 원래 텍스트로 복원해보자."
   ]
  },
  {
   "cell_type": "code",
   "execution_count": 15,
   "id": "5ccfa121",
   "metadata": {},
   "outputs": [
    {
     "name": "stdout",
     "output_type": "stream",
     "text": [
      "<sos> mcgrath rentcorp said as a result of its december acquisition of space co it expects earnings per share in 1987 of 1 15 to 1 30 dlrs per share up from 70 cts in 1986 the company said pretax net should rise to nine to 10 mln dlrs from six mln dlrs in 1986 and rental operation revenues to 19 to 22 mln dlrs from 12 5 mln dlrs it said cash flow per share this year should be 2 50 to three dlrs reuter 3\n"
     ]
    }
   ],
   "source": [
    "print(' '.join([index_to_word[index] for index in x_train[0]]))"
   ]
  },
  {
   "cell_type": "markdown",
   "id": "9d899157",
   "metadata": {},
   "source": [
    "## OOV 문제와 UNK 토큰\n",
    "기계가 알고 있는 단어들의 집합을 단어장(Vocabulary)이라고 한다. 기계가 미처 배우지 못한 모르는 단어를 OOV(Out-Of-Vocabulary) 또는 UNK(Unknown) 이라고 표현한다. 어떤 단어를 기계가 모르는 단어로 판단하면, 기계는 해당 단어를 전부 <unk>라는 일관된 특별 토큰으로 변환한다. 만약 num_words=10000는 정수 번호가 10,000이 넘는 단어들을 자동으로 <unk> 토큰으로 처리한다.로이터 뉴스 데이터에서 <unk>은 정수 2번을 가지도록 약속돼 있으므로 데이터를 로드하는 과정에서 정수 번호가 10,000이 넘는 단어들은 전부 정수 2로 변환되어서 로드가 되었던 것이다. 하지만 지금은 num_words=None으로 모든 단어를 사용하기로 했기 때문에 넘어간다."
   ]
  },
  {
   "cell_type": "markdown",
   "id": "88d71ed0",
   "metadata": {},
   "source": [
    "이제 전체 훈련용 뉴스 데이터와 전체 테스트용 뉴스 데이터를 텍스트 데이터로 변환해 보자."
   ]
  },
  {
   "cell_type": "code",
   "execution_count": 16,
   "id": "b614f209",
   "metadata": {},
   "outputs": [
    {
     "name": "stdout",
     "output_type": "stream",
     "text": [
      "8982\n"
     ]
    }
   ],
   "source": [
    "decoded = []\n",
    "for i in range(len(x_train)):\n",
    "    t = ' '.join([index_to_word[index] for index in x_train[i]])\n",
    "    decoded.append(t)\n",
    "\n",
    "x_train = decoded\n",
    "print(len(x_train))"
   ]
  },
  {
   "cell_type": "code",
   "execution_count": 17,
   "id": "61e663cc",
   "metadata": {},
   "outputs": [
    {
     "name": "stdout",
     "output_type": "stream",
     "text": [
      "2246\n"
     ]
    }
   ],
   "source": [
    "decoded = []\n",
    "for i in range(len(x_test)):\n",
    "    t = ' '.join([index_to_word[index] for index in x_test[i]])\n",
    "    decoded.append(t)\n",
    "\n",
    "x_test = decoded\n",
    "print(len(x_test))"
   ]
  },
  {
   "cell_type": "markdown",
   "id": "f805b401",
   "metadata": {},
   "source": [
    "각각 5개씩 출력해보고, 제대로 변환이 되었는지 확인해 보자."
   ]
  },
  {
   "cell_type": "code",
   "execution_count": 18,
   "id": "f9c3e94f",
   "metadata": {},
   "outputs": [
    {
     "data": {
      "text/plain": [
       "['<sos> mcgrath rentcorp said as a result of its december acquisition of space co it expects earnings per share in 1987 of 1 15 to 1 30 dlrs per share up from 70 cts in 1986 the company said pretax net should rise to nine to 10 mln dlrs from six mln dlrs in 1986 and rental operation revenues to 19 to 22 mln dlrs from 12 5 mln dlrs it said cash flow per share this year should be 2 50 to three dlrs reuter 3',\n",
       " \"<sos> generale de banque sa lt genb br and lt heller overseas corp of chicago have each taken 50 pct stakes in factoring company sa belgo factors generale de banque said in a statement it gave no financial details of the transaction sa belgo factors' turnover in 1986 was 17 5 billion belgian francs reuter 3\",\n",
       " '<sos> shr 3 28 dlrs vs 22 cts shr diluted 2 99 dlrs vs 22 cts net 46 0 mln vs 3 328 000 avg shrs 14 0 mln vs 15 2 mln year shr 5 41 dlrs vs 1 56 dlrs shr diluted 4 94 dlrs vs 1 50 dlrs net 78 2 mln vs 25 9 mln avg shrs 14 5 mln vs 15 1 mln note earnings per share reflect the two for one split effective january 6 1987 per share amounts are calculated after preferred stock dividends loss continuing operations for the qtr 1986 includes gains of sale of investments in enron corp of 14 mln dlrs and associated companies of 4 189 000 less writedowns of investments in national intergroup inc of 11 8 mln and brae corp of 15 6 mln reuter 3',\n",
       " \"<sos> the farmers home administration the u s agriculture department's farm lending arm could lose about seven billion dlrs in outstanding principal on its severely delinquent borrowers or about one fourth of its farm loan portfolio the general accounting office gao said in remarks prepared for delivery to the senate agriculture committee brian crowley senior associate director of gao also said that a preliminary analysis of proposed changes in fmha's financial eligibility standards indicated as many as one half of fmha borrowers who received new loans from the agency in 1986 would be ineligible under the proposed system the agency has proposed evaluating applicants' credit using a variety of financial ratios instead of relying solely on cashflow ability senate agriculture committee chairman patrick leahy d vt slammed the proposed eligibility changes telling fmha administrator vance clark at a hearing that they would mark a dramatic shift in the agency's purpose away from being farmers' lender of last resort toward becoming a big city bank but clark defended the new regulations saying the agency had a responsibility to administer its 70 billion dlr loan portfolio in a compassionate yet judicious manner crowley of gao congress' investigative arm said the proposed credit scoring system attempted to ensure that fmha would make loans only to borrowers who had a reasonable change of repaying their debt reuter 3\",\n",
       " '<sos> seton co said its board has received a proposal from chairman and chief executive officer philip d kaltenbacher to acquire seton for 15 75 dlrs per share in cash seton said the acquisition bid is subject to kaltenbacher arranging the necessary financing it said he intends to ask other members of senior management to participate the company said kaltenbacher owns 30 pct of seton stock and other management members another 7 5 pct seton said it has formed an independent board committee to consider the offer and has deferred the annual meeting it had scheduled for march 31 reuter 3']"
      ]
     },
     "execution_count": 18,
     "metadata": {},
     "output_type": "execute_result"
    }
   ],
   "source": [
    "x_train[:5]"
   ]
  },
  {
   "cell_type": "code",
   "execution_count": 19,
   "id": "4e462f9a",
   "metadata": {},
   "outputs": [
    {
     "data": {
      "text/plain": [
       "['<sos> the great atlantic and pacific tea co said its three year 345 mln dlr capital program will be be substantially increased to accommodate growth and expansion plans for waldbaum inc and shopwell inc over the next two years a and p said the acquisition of shopwell in august 1986 and waldbaum in december helped us achieve better than expected results in the fourth quarter ended february 28 its net income from continuing operations jumped 52 6 pct to 20 7 mln dlrs or 55 cts a share in the latest quarter as sales increased 48 3 pct to 1 58 billion dlrs a and p gave no details on the expanded capital program but it did say it completed the first year of the program during 1986 a and p is 52 4 pct owned by lt tengelmann warenhandelsgesellschaft of west germany reuter 3',\n",
       " \"<sos> philippine sugar production in the 1987 88 crop year ending august has been set at 1 6 mln tonnes up from a provisional 1 3 mln tonnes this year sugar regulatory administration sra chairman arsenio yulo said yulo told reuters a survey during the current milling season which ends next month showed the 1986 87 estimate would almost certainly be met he said at least 1 2 mln tonnes of the 1987 88 crop would be earmarked for domestic consumption yulo said about 130 000 tonnes would be set aside for the u s sugar quota 150 000 tonnes for strategic reserves and 50 000 tonnes would be sold on the world market he said if the government approved a long standing sra recommendation to manufacture ethanol the project would take up another 150 000 tonnes slightly raising the target the government for its own reasons has been delaying approval of the project but we expect it to come through by july yulo said ethanol could make up five pct of gasoline cutting the oil import bill by about 300 mln pesos yulo said three major philippine distilleries were ready to start manufacturing ethanol if the project was approved the ethanol project would result in employment for about 100 000 people sharply reducing those thrown out of work by depressed world sugar prices and a moribund domestic industry production quotas set for the first time in 1987 88 had been submitted to president corazon aquino i think the president would rather wait till the new congress convenes after the may elections he said but there is really no need for such quotas we are right now producing just slightly over our own consumption level the producers have never enjoyed such high prices yulo said adding sugar was currently selling locally for 320 pesos per picul up from 190 pesos last august yulo said prices were driven up because of speculation following the sra's bid to control production we are no longer concerned so much with the world market he said adding producers in the negros region had learned from their mistakes and diversified into corn and prawn farming and cloth production he said diversification into products other than ethanol was also possible within the sugar industry the brazilians long ago learnt their lessons yulo said they have 300 sugar mills compared with our 41 but they relocated many of them and diversified production we want to call this a 'sugarcane industry' instead of the sugar industry he said sugarcane could be fed to pigs and livestock used for thatching roofs or used in room panelling when you cut sugarcane you don't even have to produce sugar he said yulo said the philippines was lobbying for a renewal of the international sugar agreement which expired in 1984 as a major sugar producer we are urging them to write a new agreement which would revive world prices yulo said if there is no agreement world prices will always be depressed particularly because the european community is subsidising its producers and dumping sugar on the markets he said current world prices holding steady at about 7 60 cents per pound were uneconomical for the philippines where production costs ranged from 12 to 14 cents a pound if the price holds steady for a while at 7 60 cents i expect the level to rise to about 11 cents a pound by the end of this year he said yulo said economists forecast a bullish sugar market by 1990 with world consumption outstripping production he said sugar markets were holding up despite encroachments from artificial sweeteners and high fructose corn syrup but we are not happy with the reagan administration he said since 1935 we have been regular suppliers of sugar to the u s in 1982 when they restored the quota system they cut ours in half without any justification manila was keenly watching washington's moves to cut domestic support prices to 12 cents a pound from 18 cents the u s agriculture department last december slashed its 12 month 1987 sugar import quota from the philippines to 143 780 short tons from 231 660 short tons in 1986 yulo said despite next year's increased production target some philippine mills were expected to shut down at least four of the 41 mills were not working during the 1986 87 season he said we expect two or three more to follow suit during the next season reuter 3\",\n",
       " \"<sos> the agriculture department's widening of louisiana gulf differentials will affect county posted prices for number two yellow corn in ten states a usda official said all counties in iowa will be affected as will counties which use the gulf to price corn in illinois indiana tennessee kentucky missouri mississippi arkansas alabama and louisiana said ron burgess deputy director of commodity operations division for the usda usda last night notified the grain industry that effective immediately all gulf differentials used to price interior corn would be widened on a sliding scale basis of four to eight cts depending on what the differential is usda's action was taken to lower excessively high posted county prices for corn caused by high gulf prices we've been following this louisiana gulf situation for a month and we don't think it's going to get back in line in any nearby time burgess said burgess said usda will probably narrow back the gulf differentials when and if gulf prices recede if we're off the mark now because we're too high wouldn't we be as much off the mark if we're too low he said while forecasting more adjustments if gulf prices fall burgess said no other changes in usda's price system are being planned right now we don't tinker we don't make changes lightly and we don't make changes often he said reuter 3\",\n",
       " '<sos> graham mccormick oil and gas partnership said it completed the sale of interests in two major oil and gas fields to lt energy assets international corp for 21 mln dlrs the company said it sold about one half of its 50 pct interest in the oak hill and north rucias fields its two largest producing properties it said it used about 20 mln dlrs of the proceeds to prepay principal on its senior secured notes semi annual principal payments on the remaining 40 mln dlrs of notes have been satisfied until december 1988 as a result it said the company said the note agreements were amended to reflect an easing of some financial covenants and an increase of interest to 13 5 pct from 13 0 pct until december 1990 it said the noteholders exercise price for 1 125 000 warrants was also reduced to 50 cts from 1 50 dlrs the company said energy assets agreed to share the costs of increasing production at the oak hill field reuter 3',\n",
       " '<sos> strong south easterly winds were keeping many vessels trapped in the ice off the finnish and swedish coasts in one of the worst icy periods in the baltic for many years the finnish board of navigation said in finland and sweden up to 50 vessels were reported to be stuck in the ice and even the largest of the assisting icebreakers were having difficulties in breaking through to the stranded ships coastguard officials said however icy conditions in the southern baltic at the soviet oil ports of ventspils and klaipeda had eased they said weather officials in neighbouring sweden said the icy conditions in the baltic were the worst for 30 years with ships fighting a losing battle to keep moving in the coastal stretches of the gulf of bothnia which divides finland and sweden the ice is up to one metre thick with drifts and currents packing it into almost impenetrable walls three metres high swedish coastguard officials said weather forecasts say winds may ease during the weekend but a further drop in temperature could bring shipping to a standstill the officials said reuter 3']"
      ]
     },
     "execution_count": 19,
     "metadata": {},
     "output_type": "execute_result"
    }
   ],
   "source": [
    "x_test[:5]"
   ]
  },
  {
   "cell_type": "markdown",
   "id": "178694dd",
   "metadata": {},
   "source": [
    "## 벡터화 하기"
   ]
  },
  {
   "cell_type": "code",
   "execution_count": 20,
   "id": "d1e75c00",
   "metadata": {},
   "outputs": [],
   "source": [
    "from sklearn.feature_extraction.text import CountVectorizer\n",
    "from sklearn.feature_extraction.text import TfidfTransformer\n",
    "from sklearn.naive_bayes import MultinomialNB #다항분포 나이브 베이즈 모델\n",
    "from sklearn.linear_model import LogisticRegression, SGDClassifier\n",
    "from sklearn.naive_bayes import ComplementNB\n",
    "from sklearn.tree import DecisionTreeClassifier\n",
    "from sklearn.ensemble import RandomForestClassifier\n",
    "from sklearn.ensemble import GradientBoostingClassifier\n",
    "from sklearn.ensemble import VotingClassifier\n",
    "from sklearn.svm import LinearSVC\n",
    "from sklearn.metrics import accuracy_score #정확도 계산\n",
    "from sklearn.metrics import accuracy_score, f1_score"
   ]
  },
  {
   "cell_type": "markdown",
   "id": "e952be08",
   "metadata": {},
   "source": [
    "Document Term Matrix, DTM은 사이킷런의 CountVectorizer()를 통해서 생성할 수 있다.\n",
    "DTM을 생성하고, DTM의 크기를 확인해보자."
   ]
  },
  {
   "cell_type": "code",
   "execution_count": 21,
   "id": "7ba63b10",
   "metadata": {},
   "outputs": [
    {
     "name": "stdout",
     "output_type": "stream",
     "text": [
      "(8982, 26506)\n"
     ]
    }
   ],
   "source": [
    "dtmvector = CountVectorizer()\n",
    "x_train_dtm = dtmvector.fit_transform(x_train)\n",
    "print(x_train_dtm.shape)"
   ]
  },
  {
   "cell_type": "markdown",
   "id": "756aaf70",
   "metadata": {},
   "source": [
    "훈련용 뉴스의 수가 총 8982개였기 때문에 DTM의 행의 개수는 8982개가 된다. 모든 단어를 사용하기로 했기에 26506이라는 큰 값이 나온다. 다시 말하자면 훈련 데이터셋에 있는 8982개의 문장을 사용하며 모든 단어인 26506개의 단어들이 사용된다.\n",
    "DTM 행렬을 이어서 TF-IDF 행렬을 만들어보자. "
   ]
  },
  {
   "cell_type": "code",
   "execution_count": 22,
   "id": "660933fa",
   "metadata": {},
   "outputs": [
    {
     "name": "stdout",
     "output_type": "stream",
     "text": [
      "(8982, 26506)\n"
     ]
    }
   ],
   "source": [
    "tfidf_transformer = TfidfTransformer()\n",
    "tfidfv = tfidf_transformer.fit_transform(x_train_dtm)\n",
    "print(tfidfv.shape)"
   ]
  },
  {
   "cell_type": "markdown",
   "id": "2da5bc7e",
   "metadata": {},
   "source": [
    "## 나이브 베이즈 분류기"
   ]
  },
  {
   "cell_type": "markdown",
   "id": "3d2775e8",
   "metadata": {},
   "source": [
    "나이브 베이즈 분류기는 사이킷런의 MultinomialNB()를 통해 사용할 수 있다.\n",
    "\n",
    "사이킷런이 제공하는 머신러닝 모델들은 공통적으로 fit()이라는 함수를 제공하고 있는데 훈련 데이터와 해당 훈련 데이터에 대한 레이블을 인자로 사용하면 모델이 이를 학습한다."
   ]
  },
  {
   "cell_type": "code",
   "execution_count": 26,
   "id": "9c4d8610",
   "metadata": {},
   "outputs": [],
   "source": [
    "#model = MultinomialNB()\n",
    "#model.fit(tfidfv, y_train)"
   ]
  },
  {
   "cell_type": "markdown",
   "id": "9e7b0b20",
   "metadata": {},
   "source": [
    "테스트 데이터에 대한 정확도를 측정하기 위해서는 훈련 데이터와 동일한 전처리를 거쳐야 한다. 다시 말해 테스트 데이터도 TF-IDF 행렬로 변환해 주어야 한다. 그 후 해당 행렬과 predict() 함수를 통해 예측값을 얻어 정확도를 측정한다."
   ]
  },
  {
   "cell_type": "code",
   "execution_count": 27,
   "id": "d1f79b53",
   "metadata": {},
   "outputs": [],
   "source": [
    "#x_test_dtm = dtmvector.transform(x_test) #테스트 데이터를 DTM으로 변환\n",
    "#tfidfv_test = tfidf_transformer.transform(x_test_dtm) #DTM을 TF-IDF 행렬로 변환\n",
    "\n",
    "#predicted_nb = model.predict(tfidfv_test) #테스트 데이터에 대한 예측\n",
    "#f1_nb = f1_score(y_test, predicted, average='weighted')  # average='weighted'는 각 클래스의 샘플 수로 가중 평균을 계산 지정\n",
    "#print(\"정확도:\", accuracy_score(y_test, predicted)) #예측값과 실제값 비교\n",
    "#print(\"F1 점수:\", f1)"
   ]
  },
  {
   "cell_type": "markdown",
   "id": "3152b240",
   "metadata": {},
   "source": [
    "## Complement Naive Bayes Classifier(CNB)"
   ]
  },
  {
   "cell_type": "code",
   "execution_count": 28,
   "id": "0a206cc1",
   "metadata": {},
   "outputs": [],
   "source": [
    "#cb = ComplementNB()\n",
    "#cb.fit(tfidfv, y_train)"
   ]
  },
  {
   "cell_type": "code",
   "execution_count": 29,
   "id": "0cdaa2c0",
   "metadata": {},
   "outputs": [],
   "source": [
    "#predicted_cb = cb.predict(tfidfv_test)\n",
    "#f1_cb = f1_score(y_test, predicted, average='weighted')\n",
    "#print(\"정확도:\", accuracy_score(y_test, predicted))\n",
    "#print(\"F1 점수:\", f1)\n",
    "\n",
    "#predicted = cb.predict(tfidfv_test) #테스트 데이터에 대한 예측\n",
    "#print(\"정확도:\", accuracy_score(y_test, predicted)) #예측값과 실제값 비교"
   ]
  },
  {
   "cell_type": "markdown",
   "id": "450096d8",
   "metadata": {},
   "source": [
    "## 로지스틱 회귀(Logistic Regression)"
   ]
  },
  {
   "cell_type": "code",
   "execution_count": 30,
   "id": "974de343",
   "metadata": {},
   "outputs": [],
   "source": [
    "#lr = LogisticRegression(penalty='l2', max_iter=1000, random_state=0)\n",
    "#lr.fit(tfidfv, y_train)"
   ]
  },
  {
   "cell_type": "code",
   "execution_count": 31,
   "id": "7ad4d388",
   "metadata": {},
   "outputs": [],
   "source": [
    "#predicted_lr = lr.predict(tfidfv_test)\n",
    "#f1_lr = f1_score(y_test, predicted, average='weighted')\n",
    "#print(\"정확도:\", accuracy_score(y_test, predicted))\n",
    "#print(\"F1 점수:\", f1)"
   ]
  },
  {
   "cell_type": "markdown",
   "id": "de9ef3ca",
   "metadata": {},
   "source": [
    "## 선형 서포트 벡터 머신(Linear Support Vector Machine)"
   ]
  },
  {
   "cell_type": "code",
   "execution_count": 32,
   "id": "6a00ef8d",
   "metadata": {},
   "outputs": [],
   "source": [
    "#lsvc = LogisticRegression(penalty='l2', max_iter=1000, random_state=0)\n",
    "#lsvc.fit(tfidfv, y_train)"
   ]
  },
  {
   "cell_type": "code",
   "execution_count": 33,
   "id": "01f6bdeb",
   "metadata": {},
   "outputs": [],
   "source": [
    "#predicted_lsvc = lsvc.predict(tfidfv_test)\n",
    "#f1_lsvc = f1_score(y_test, predicted, average='weighted')  \n",
    "#print(\"정확도:\", accuracy_score(y_test, predicted))\n",
    "#print(\"F1 점수:\", f1)"
   ]
  },
  {
   "cell_type": "markdown",
   "id": "eb6e3eaa",
   "metadata": {},
   "source": [
    "## 결정 트리(Decision Tree)"
   ]
  },
  {
   "cell_type": "code",
   "execution_count": 34,
   "id": "daddc802",
   "metadata": {},
   "outputs": [],
   "source": [
    "#tree = DecisionTreeClassifier(max_depth=10, random_state=0)\n",
    "#tree.fit(tfidfv, y_train)"
   ]
  },
  {
   "cell_type": "code",
   "execution_count": 35,
   "id": "90fa7616",
   "metadata": {},
   "outputs": [],
   "source": [
    "#predicted_tree = tree.predict(tfidfv_test)\n",
    "#f1_tree = f1_score(y_test, predicted, average='weighted') \n",
    "#print(\"정확도:\", accuracy_score(y_test, predicted))\n",
    "#print(\"F1 점수:\", f1)"
   ]
  },
  {
   "cell_type": "markdown",
   "id": "5c169c72",
   "metadata": {},
   "source": [
    "## 랜덤 포레스트(Random Forest)"
   ]
  },
  {
   "cell_type": "code",
   "execution_count": 36,
   "id": "de7788a0",
   "metadata": {},
   "outputs": [],
   "source": [
    "#forest = RandomForestClassifier(n_estimators=5, random_state=0)\n",
    "#forest.fit(tfidfv, y_train)"
   ]
  },
  {
   "cell_type": "code",
   "execution_count": 37,
   "id": "7571bc3a",
   "metadata": {},
   "outputs": [],
   "source": [
    "#predicted_forest = forest.predict(tfidfv_test)\n",
    "#f1_forest = f1_score(y_test, predicted, average='weighted') \n",
    "#print(\"정확도:\", accuracy_score(y_test, predicted))\n",
    "#print(\"F1 점수:\", f1)"
   ]
  },
  {
   "cell_type": "markdown",
   "id": "9d831ab3",
   "metadata": {},
   "source": [
    "## 그래디언트 부스팅 트리(GradientBoostingClassifier)"
   ]
  },
  {
   "cell_type": "code",
   "execution_count": 38,
   "id": "1c9a50cb",
   "metadata": {},
   "outputs": [],
   "source": [
    "# 15분 정도 소요될 수 있습니다.\n",
    "#grbt = GradientBoostingClassifier(random_state=0) # verbose=3\n",
    "#grbt.fit(tfidfv, y_train)"
   ]
  },
  {
   "cell_type": "code",
   "execution_count": 39,
   "id": "ab9f11fb",
   "metadata": {},
   "outputs": [],
   "source": [
    "#predicted_grbt = grbt.predict(tfidfv_test)\n",
    "#f1_grbt = f1_score(y_test, predicted, average='weighted')  \n",
    "#print(\"정확도:\", accuracy_score(y_test, predicted))\n",
    "#print(\"F1 점수:\", f1)"
   ]
  },
  {
   "cell_type": "markdown",
   "id": "9b17679f",
   "metadata": {},
   "source": [
    "## 보팅(Voting)"
   ]
  },
  {
   "cell_type": "markdown",
   "id": "31bf2ac4",
   "metadata": {},
   "source": [
    "무슨 이유에서인진 몰라도 제일 높은 점수가 나왔던 LinearSVC를 사용하고 싶었지만 지속적인 에러가 생겼다. LinearSVC를 사용하고 있기 때문에 probability=True 옵션을 직접 사용할 수 없으며 LinearSVC의 경우 predict_proba 메서드를 직접 제공하지 않고 따라서 VotingClassifier의 soft 투표 방식에서는 LinearSVC를 사용할 수 없다고 한다.. 이 부분은 좀 더 공부가 필요할 거 같다."
   ]
  },
  {
   "cell_type": "code",
   "execution_count": 37,
   "id": "fae5476c",
   "metadata": {},
   "outputs": [],
   "source": [
    "#lsvc = LinearSVC(C=10000, penalty='l1', max_iter=1000, dual=False)\n",
    "#logistic = LogisticRegression(penalty='l2', max_iter=1000, random_state=0)\n",
    "#gradient_boosting = GradientBoostingClassifier()\n",
    "\n",
    "# VotingClassifier 객체 생성 (voting은 'soft'로 설정)\n",
    "#voting_classifier = VotingClassifier(estimators=[\n",
    "#    ('lr', logistic), \n",
    "#    ('gb', gradient_boosting),\n",
    "#    ('lsvc', lsvc)],\n",
    "#    voting='soft')\n",
    "\n",
    "# 모델 훈련\n",
    "#voting_classifier.fit(tfidfv, y_train)"
   ]
  },
  {
   "cell_type": "code",
   "execution_count": 40,
   "id": "94799725",
   "metadata": {},
   "outputs": [],
   "source": [
    "# 로지스틱 회귀, Complement Naive Bayes, GradientBoosting Classifier 객체 생성\n",
    "#logistic = LogisticRegression(penalty='l2', max_iter=10000, random_state=0)\n",
    "#complement_nb = ComplementNB()\n",
    "#gradient_boosting = GradientBoostingClassifier()\n",
    "\n",
    "# VotingClassifier 객체 생성 (voting은 'soft'로 설정)\n",
    "#voting_classifier = VotingClassifier(estimators=[\n",
    "#    ('lr', logistic), \n",
    "#    ('cnb', complement_nb), \n",
    "#    ('gb', gradient_boosting)], \n",
    "#    voting='soft')\n",
    "\n",
    "# 모델 훈련\n",
    "#voting_classifier.fit(tfidfv, y_train)"
   ]
  },
  {
   "cell_type": "code",
   "execution_count": 41,
   "id": "01c33b74",
   "metadata": {},
   "outputs": [],
   "source": [
    "#predicted_voting = voting_classifier.predict(tfidfv_test)\n",
    "#f1_voting = f1_score(y_test, predicted, average='weighted')  \n",
    "#print(\"정확도:\", accuracy_score(y_test, predicted))\n",
    "#print(\"F1 점수:\", f1)"
   ]
  },
  {
   "cell_type": "markdown",
   "id": "daa9999d",
   "metadata": {},
   "source": [
    "노드대로 8개의 모델들을 각각 따로 학습시켜보려 했으나 시간이 너무 오래걸리고 복잡해져서 for문으로 모델들을 학습시켰다. 전체적인 코드는 위에와 동일하다."
   ]
  },
  {
   "cell_type": "code",
   "execution_count": 23,
   "id": "e5c07b62",
   "metadata": {},
   "outputs": [
    {
     "name": "stdout",
     "output_type": "stream",
     "text": [
      "MultinomialNB:\n",
      "  Accuracy: 0.6346\n",
      "  F1 Score: 0.0816\n",
      "--------------------------------------------------\n",
      "ComplementNB:\n",
      "  Accuracy: 0.8403\n",
      "  F1 Score: 0.6831\n",
      "--------------------------------------------------\n",
      "LogisticRegression:\n",
      "  Accuracy: 0.9684\n",
      "  F1 Score: 0.9656\n",
      "--------------------------------------------------\n"
     ]
    },
    {
     "name": "stderr",
     "output_type": "stream",
     "text": [
      "/opt/conda/lib/python3.9/site-packages/sklearn/svm/_base.py:1199: ConvergenceWarning: Liblinear failed to converge, increase the number of iterations.\n",
      "  warnings.warn(\n"
     ]
    },
    {
     "name": "stdout",
     "output_type": "stream",
     "text": [
      "LinearSVC:\n",
      "  Accuracy: 0.9684\n",
      "  F1 Score: 0.9653\n",
      "--------------------------------------------------\n",
      "DecisionTree:\n",
      "  Accuracy: 0.6807\n",
      "  F1 Score: 0.2586\n",
      "--------------------------------------------------\n",
      "RandomForest:\n",
      "  Accuracy: 0.9423\n",
      "  F1 Score: 0.9197\n",
      "--------------------------------------------------\n",
      "GradientBoosting:\n",
      "  Accuracy: 0.9482\n",
      "  F1 Score: 0.9548\n",
      "--------------------------------------------------\n",
      "VotingClassifier:\n",
      "  Accuracy: 0.9397\n",
      "  F1 Score: 0.9420\n",
      "--------------------------------------------------\n"
     ]
    }
   ],
   "source": [
    "from sklearn.metrics import accuracy_score, f1_score\n",
    "\n",
    "# 모델 초기화 및 학습\n",
    "models = [\n",
    "    MultinomialNB(),\n",
    "    ComplementNB(),\n",
    "    LogisticRegression(C=10000, penalty='l2', max_iter=3000),\n",
    "    LinearSVC(C=1000, penalty='l1', max_iter=3000, dual=False),\n",
    "    DecisionTreeClassifier(max_depth=10, random_state=0),\n",
    "    RandomForestClassifier(n_estimators=5, random_state=0),\n",
    "    GradientBoostingClassifier(random_state=0)\n",
    "]\n",
    "\n",
    "model_names = [\n",
    "    'MultinomialNB',\n",
    "    'ComplementNB',\n",
    "    'LogisticRegression',\n",
    "    'LinearSVC',\n",
    "    'DecisionTree',\n",
    "    'RandomForest',\n",
    "    'GradientBoosting'\n",
    "]\n",
    "\n",
    "# Voting Classifier\n",
    "voting_classifier = VotingClassifier(estimators=[\n",
    "    ('lr', LogisticRegression(penalty='l2', max_iter=10000, random_state=0)),\n",
    "    ('cnb', ComplementNB()),\n",
    "    ('gb', GradientBoostingClassifier())\n",
    "], voting='soft')\n",
    "models.append(voting_classifier)\n",
    "model_names.append('VotingClassifier')\n",
    "\n",
    "# 각 모델을 학습하고 평가\n",
    "accuracies = []\n",
    "f1_scores = []\n",
    "\n",
    "for model, name in zip(models, model_names):\n",
    "    model.fit(tfidfv, y_train)\n",
    "    y_pred = model.predict(tfidfv)\n",
    "    \n",
    "    accuracy = accuracy_score(y_train, y_pred)\n",
    "    f1 = f1_score(y_train, y_pred, average='macro') # average='macro'각 클래스에 대한 F1 점수의 단순 평균\n",
    "    \n",
    "    accuracies.append(accuracy)\n",
    "    f1_scores.append(f1)\n",
    "    \n",
    "    print(f\"{name}:\")\n",
    "    print(f\"  Accuracy: {accuracy:.4f}\")\n",
    "    print(f\"  F1 Score: {f1:.4f}\")\n",
    "    print(\"-\" * 50)"
   ]
  },
  {
   "cell_type": "markdown",
   "id": "1dfd28b6",
   "metadata": {},
   "source": [
    "Accuracy는 LogisticRegression과 LinearSVC 두 모델이 똑같이 96.84%로 제일 높게 나왔으며 F1 score는 LogisticRegression이 96.56%로 제일 높게 나왔다. MNB모델의 F1 score가 8.16%으로 너무나 처참한 결과가 나왔는데 이게 맞는 건가 싶다.."
   ]
  },
  {
   "cell_type": "markdown",
   "id": "f6e43df1",
   "metadata": {},
   "source": [
    "8개의 모델들의 시각화한 결과이다. "
   ]
  },
  {
   "cell_type": "code",
   "execution_count": 25,
   "id": "8187dbee",
   "metadata": {},
   "outputs": [
    {
     "data": {
      "image/png": "[encoded data removed]",
      "text/plain": [
       "<Figure size 720x576 with 2 Axes>"
      ]
     },
     "metadata": {
      "needs_background": "light"
     },
     "output_type": "display_data"
    }
   ],
   "source": [
    "# 그래프 그리기\n",
    "plt.figure(figsize=(10, 8))\n",
    "\n",
    "# Accuracy 그래프\n",
    "plt.subplot(2, 1, 1)\n",
    "colors = ['b', 'g', 'r', 'c', 'm', 'y', 'orange', 'purple']\n",
    "plt.bar(model_names, accuracies, color=colors)\n",
    "plt.ylabel('Accuracy')\n",
    "plt.title('Comparison of Models by Accuracy')\n",
    "\n",
    "# F1 점수 그래프\n",
    "plt.subplot(2, 1, 2)\n",
    "plt.bar(model_names, f1_scores, color=colors)\n",
    "plt.ylabel('F1 Score')\n",
    "plt.title('Comparison of Models by F1 Score')\n",
    "\n",
    "plt.tight_layout()\n",
    "plt.show()"
   ]
  },
  {
   "cell_type": "markdown",
   "id": "d945ce25",
   "metadata": {},
   "source": [
    "# 2. 빈도수 상위 5,000개의 단어만 사용"
   ]
  },
  {
   "cell_type": "markdown",
   "id": "b298051f",
   "metadata": {},
   "source": [
    "위에서 했던 과정을 빠르게 진행하고 비교해본다."
   ]
  },
  {
   "cell_type": "code",
   "execution_count": 42,
   "id": "090438f9",
   "metadata": {},
   "outputs": [],
   "source": [
    "(x_train, y_train), (x_test, y_test) = reuters.load_data(num_words=5000, test_split=0.2)"
   ]
  },
  {
   "cell_type": "code",
   "execution_count": 43,
   "id": "9ee4fad9",
   "metadata": {},
   "outputs": [
    {
     "name": "stdout",
     "output_type": "stream",
     "text": [
      "Downloading data from https://storage.googleapis.com/tensorflow/tf-keras-datasets/reuters_word_index.json\n",
      "557056/550378 [==============================] - 0s 0us/step\n",
      "565248/550378 [==============================] - 0s 0us/step\n"
     ]
    }
   ],
   "source": [
    "word_index = reuters.get_word_index(path=\"reuters_word_index1.json\")"
   ]
  },
  {
   "cell_type": "code",
   "execution_count": 44,
   "id": "0394ef87",
   "metadata": {},
   "outputs": [],
   "source": [
    "index_to_word = { index+3 : word for word, index in word_index.items() }"
   ]
  },
  {
   "cell_type": "code",
   "execution_count": 45,
   "id": "74933f52",
   "metadata": {},
   "outputs": [],
   "source": [
    "for index, token in enumerate((\"<pad>\", \"<sos>\", \"<unk>\")):\n",
    "  index_to_word[index]=token"
   ]
  },
  {
   "cell_type": "code",
   "execution_count": 46,
   "id": "3805d124",
   "metadata": {},
   "outputs": [
    {
     "name": "stdout",
     "output_type": "stream",
     "text": [
      "8982\n"
     ]
    }
   ],
   "source": [
    "decoded = []\n",
    "for i in range(len(x_train)):\n",
    "    t = ' '.join([index_to_word[index] for index in x_train[i]])\n",
    "    decoded.append(t)\n",
    "\n",
    "x_train = decoded\n",
    "print(len(x_train))"
   ]
  },
  {
   "cell_type": "code",
   "execution_count": 47,
   "id": "c6aee863",
   "metadata": {},
   "outputs": [
    {
     "name": "stdout",
     "output_type": "stream",
     "text": [
      "2246\n"
     ]
    }
   ],
   "source": [
    "decoded = []\n",
    "for i in range(len(x_test)):\n",
    "    t = ' '.join([index_to_word[index] for index in x_test[i]])\n",
    "    decoded.append(t)\n",
    "\n",
    "x_test = decoded\n",
    "print(len(x_test))"
   ]
  },
  {
   "cell_type": "markdown",
   "id": "7f62c3c0",
   "metadata": {},
   "source": [
    "제대로 변환이 되었는지 확인해봤다. 아까는 없던 'unk'가 들어가 있고 잘 변환된거 같다!"
   ]
  },
  {
   "cell_type": "code",
   "execution_count": 48,
   "id": "f73cb3e7",
   "metadata": {},
   "outputs": [
    {
     "data": {
      "text/plain": [
       "['<sos> the great atlantic and pacific tea co said its three year 345 mln dlr capital program will be be substantially increased to <unk> growth and expansion plans for <unk> inc and <unk> inc over the next two years a and p said the acquisition of <unk> in august 1986 and <unk> in december helped us achieve better than expected results in the fourth quarter ended february 28 its net income from continuing operations jumped 52 6 pct to 20 7 mln dlrs or 55 cts a share in the latest quarter as sales increased 48 3 pct to 1 58 billion dlrs a and p gave no details on the expanded capital program but it did say it completed the first year of the program during 1986 a and p is 52 4 pct owned by lt <unk> <unk> of west germany reuter 3',\n",
       " \"<sos> philippine sugar production in the 1987 88 crop year ending august has been set at 1 6 mln tonnes up from a provisional 1 3 mln tonnes this year sugar regulatory administration <unk> chairman <unk> <unk> said <unk> told reuters a survey during the current milling season which ends next month showed the 1986 87 estimate would almost certainly be met he said at least 1 2 mln tonnes of the 1987 88 crop would be <unk> for domestic consumption <unk> said about 130 000 tonnes would be set aside for the u s sugar quota 150 000 tonnes for strategic reserves and 50 000 tonnes would be sold on the world market he said if the government approved a long standing <unk> recommendation to manufacture <unk> the project would take up another 150 000 tonnes slightly raising the target the government for its own reasons has been <unk> approval of the project but we expect it to come through by july <unk> said <unk> could make up five pct of gasoline cutting the oil import bill by about 300 mln pesos <unk> said three major philippine <unk> were ready to start manufacturing <unk> if the project was approved the <unk> project would result in employment for about 100 000 people sharply reducing those <unk> out of work by depressed world sugar prices and a <unk> domestic industry production quotas set for the first time in 1987 88 had been submitted to president <unk> <unk> i think the president would rather wait <unk> the new congress <unk> after the may elections he said but there is really no need for such quotas we are right now producing just slightly over our own consumption level the producers have never <unk> such high prices <unk> said adding sugar was currently selling <unk> for 320 pesos per <unk> up from 190 pesos last august <unk> said prices were <unk> up because of speculation following the <unk> bid to control production we are no longer concerned so much with the world market he said adding producers in the <unk> region had <unk> from their <unk> and diversified into corn and <unk> <unk> and <unk> production he said <unk> into products other than <unk> was also possible within the sugar industry the <unk> long ago <unk> their <unk> <unk> said they have 300 sugar mills compared with our 41 but they <unk> many of them and diversified production we want to call this a <unk> <unk> instead of the sugar industry he said <unk> could be fed to <unk> and livestock used for <unk> <unk> or used in room <unk> when you cut <unk> you don't even have to produce sugar he said <unk> said the philippines was <unk> for a renewal of the international sugar agreement which expired in 1984 as a major sugar producer we are urging them to write a new agreement which would <unk> world prices <unk> said if there is no agreement world prices will always be depressed particularly because the european community is <unk> its producers and dumping sugar on the markets he said current world prices holding steady at about 7 60 cents per pound were <unk> for the philippines where production costs ranged from 12 to 14 cents a pound if the price holds steady for a while at 7 60 cents i expect the level to rise to about 11 cents a pound by the end of this year he said <unk> said economists forecast a bullish sugar market by 1990 with world consumption <unk> production he said sugar markets were holding up despite <unk> from <unk> <unk> and high <unk> corn <unk> but we are not happy with the reagan administration he said since <unk> we have been regular suppliers of sugar to the u s in 1982 when they restored the quota system they cut <unk> in half without any <unk> <unk> was <unk> <unk> washington's moves to cut domestic support prices to 12 cents a pound from 18 cents the u s agriculture department last december <unk> its 12 month 1987 sugar import quota from the philippines to 143 780 short tons from 231 660 short tons in 1986 <unk> said despite next year's increased production target some philippine mills were expected to shut down at least four of the 41 mills were not working during the 1986 87 season he said we expect two or three more to follow suit during the next season reuter 3\",\n",
       " \"<sos> the agriculture department's widening of louisiana gulf differentials will affect county posted prices for number two <unk> corn in ten states a usda official said all <unk> in iowa will be affected as will <unk> which use the gulf to price corn in illinois indiana <unk> <unk> missouri mississippi <unk> <unk> and louisiana said <unk> <unk> deputy director of commodity operations division for the usda usda last night <unk> the grain industry that effective immediately all gulf differentials used to price interior corn would be widened on a <unk> scale basis of four to eight cts depending on what the differential is usda's action was taken to lower <unk> high posted county prices for corn caused by high gulf prices we've been following this louisiana gulf situation for a month and we don't think it's going to get back in line in any nearby time <unk> said <unk> said usda will probably narrow back the gulf differentials when and if gulf prices <unk> if we're off the mark now because we're too high <unk> we be as much off the mark if we're too low he said while forecasting more adjustments if gulf prices fall <unk> said no other changes in usda's price system are being planned right now we don't <unk> we don't make changes <unk> and we don't make changes often he said reuter 3\",\n",
       " '<sos> <unk> <unk> oil and gas partnership said it completed the sale of interests in two major oil and gas fields to lt energy assets international corp for 21 mln dlrs the company said it sold about one half of its 50 pct interest in the <unk> hill and north <unk> fields its two largest producing properties it said it used about 20 mln dlrs of the proceeds to <unk> principal on its senior secured notes semi annual principal payments on the remaining 40 mln dlrs of notes have been satisfied until december 1988 as a result it said the company said the note agreements were amended to reflect an easing of some financial <unk> and an increase of interest to 13 5 pct from 13 0 pct until december 1990 it said the <unk> exercise price for 1 125 000 warrants was also reduced to 50 cts from 1 50 dlrs the company said energy assets agreed to share the costs of increasing production at the <unk> hill field reuter 3',\n",
       " '<sos> strong south <unk> winds were keeping many vessels <unk> in the ice off the <unk> and swedish <unk> in one of the worst <unk> periods in the baltic for many years the <unk> board of navigation said in <unk> and sweden up to 50 vessels were reported to be <unk> in the ice and even the largest of the <unk> <unk> were having difficulties in breaking through to the <unk> ships <unk> officials said however <unk> conditions in the southern baltic at the soviet oil ports of <unk> and <unk> had eased they said weather officials in <unk> sweden said the <unk> conditions in the baltic were the worst for 30 years with ships fighting a losing battle to keep moving in the coastal <unk> of the gulf of <unk> which <unk> <unk> and sweden the ice is up to one <unk> <unk> with <unk> and <unk> <unk> it into almost <unk> <unk> three metres high swedish <unk> officials said weather forecasts say winds may ease during the weekend but a further drop in <unk> could bring shipping to a standstill the officials said reuter 3']"
      ]
     },
     "execution_count": 48,
     "metadata": {},
     "output_type": "execute_result"
    }
   ],
   "source": [
    "x_test[:5]"
   ]
  },
  {
   "cell_type": "markdown",
   "id": "1fb921f6",
   "metadata": {},
   "source": [
    "위에 과정과 동일하게 진행한다. 훈련 데이터셋에 있는 8982개의 문장을 사용하며 4867개의 고유한 단어가 사용된다."
   ]
  },
  {
   "cell_type": "code",
   "execution_count": 49,
   "id": "69be6b6a",
   "metadata": {},
   "outputs": [
    {
     "name": "stdout",
     "output_type": "stream",
     "text": [
      "(8982, 4867)\n"
     ]
    }
   ],
   "source": [
    "dtmvector = CountVectorizer()\n",
    "x_train_dtm = dtmvector.fit_transform(x_train)\n",
    "print(x_train_dtm.shape)"
   ]
  },
  {
   "cell_type": "code",
   "execution_count": 50,
   "id": "22983432",
   "metadata": {},
   "outputs": [
    {
     "name": "stdout",
     "output_type": "stream",
     "text": [
      "(8982, 4867)\n"
     ]
    }
   ],
   "source": [
    "tfidf_transformer = TfidfTransformer()\n",
    "tfidfv = tfidf_transformer.fit_transform(x_train_dtm)\n",
    "print(tfidfv.shape)"
   ]
  },
  {
   "cell_type": "code",
   "execution_count": 51,
   "id": "135af53e",
   "metadata": {},
   "outputs": [
    {
     "name": "stdout",
     "output_type": "stream",
     "text": [
      "MultinomialNB:\n",
      "  Accuracy: 0.7011\n",
      "  F1 Score: 0.1334\n",
      "--------------------------------------------------\n",
      "ComplementNB:\n",
      "  Accuracy: 0.8111\n",
      "  F1 Score: 0.5980\n",
      "--------------------------------------------------\n",
      "LogisticRegression:\n",
      "  Accuracy: 0.9684\n",
      "  F1 Score: 0.9654\n",
      "--------------------------------------------------\n"
     ]
    },
    {
     "name": "stderr",
     "output_type": "stream",
     "text": [
      "/opt/conda/lib/python3.9/site-packages/sklearn/svm/_base.py:1199: ConvergenceWarning: Liblinear failed to converge, increase the number of iterations.\n",
      "  warnings.warn(\n"
     ]
    },
    {
     "name": "stdout",
     "output_type": "stream",
     "text": [
      "LinearSVC:\n",
      "  Accuracy: 0.9684\n",
      "  F1 Score: 0.9657\n",
      "--------------------------------------------------\n",
      "DecisionTree:\n",
      "  Accuracy: 0.6774\n",
      "  F1 Score: 0.2677\n",
      "--------------------------------------------------\n",
      "RandomForest:\n",
      "  Accuracy: 0.9453\n",
      "  F1 Score: 0.9201\n",
      "--------------------------------------------------\n",
      "GradientBoosting:\n",
      "  Accuracy: 0.9410\n",
      "  F1 Score: 0.9508\n",
      "--------------------------------------------------\n",
      "VotingClassifier:\n",
      "  Accuracy: 0.9333\n",
      "  F1 Score: 0.9407\n",
      "--------------------------------------------------\n"
     ]
    }
   ],
   "source": [
    "from sklearn.metrics import accuracy_score, f1_score\n",
    "\n",
    "# 모델 초기화 및 학습\n",
    "models = [\n",
    "    MultinomialNB(),\n",
    "    ComplementNB(),\n",
    "    LogisticRegression(C=10000, penalty='l2', max_iter=3000),\n",
    "    LinearSVC(C=1000, penalty='l1', max_iter=3000, dual=False),\n",
    "    DecisionTreeClassifier(max_depth=10, random_state=0),\n",
    "    RandomForestClassifier(n_estimators=5, random_state=0),\n",
    "    GradientBoostingClassifier(random_state=0)\n",
    "]\n",
    "\n",
    "model_names = [\n",
    "    'MultinomialNB',\n",
    "    'ComplementNB',\n",
    "    'LogisticRegression',\n",
    "    'LinearSVC',\n",
    "    'DecisionTree',\n",
    "    'RandomForest',\n",
    "    'GradientBoosting'\n",
    "]\n",
    "\n",
    "# Voting Classifier\n",
    "voting_classifier = VotingClassifier(estimators=[\n",
    "    ('lr', LogisticRegression(penalty='l2', max_iter=10000, random_state=0)),\n",
    "    ('cnb', ComplementNB()),\n",
    "    ('gb', GradientBoostingClassifier())\n",
    "], voting='soft')\n",
    "models.append(voting_classifier)\n",
    "model_names.append('VotingClassifier')\n",
    "\n",
    "# 각 모델을 학습하고 평가\n",
    "accuracies = []\n",
    "f1_scores = []\n",
    "\n",
    "for model, name in zip(models, model_names):\n",
    "    model.fit(tfidfv, y_train)\n",
    "    y_pred = model.predict(tfidfv)\n",
    "    \n",
    "    accuracy = accuracy_score(y_train, y_pred)\n",
    "    f1 = f1_score(y_train, y_pred, average='macro') # average='macro'각 클래스에 대한 F1 점수의 단순 평균\n",
    "    \n",
    "    accuracies.append(accuracy)\n",
    "    f1_scores.append(f1)\n",
    "    \n",
    "    print(f\"{name}:\")\n",
    "    print(f\"  Accuracy: {accuracy:.4f}\")\n",
    "    print(f\"  F1 Score: {f1:.4f}\")\n",
    "    print(\"-\" * 50)"
   ]
  },
  {
   "cell_type": "markdown",
   "id": "1320ff3b",
   "metadata": {},
   "source": [
    "Accuracy는 위에서 모든 단어로 학습을 시켰던것과 마찬가지로 LogisticRegression과 LinearSVC 두 모델이 똑같이 96.84%로 제일 높게 나왔으며 F1 score는 LinearSVC가 96.57%로 제일 높게 나왔다. "
   ]
  },
  {
   "cell_type": "code",
   "execution_count": 52,
   "id": "ec6a019f",
   "metadata": {},
   "outputs": [
    {
     "data": {
      "image/png": "[encoded data removed]",
      "text/plain": [
       "<Figure size 720x576 with 2 Axes>"
      ]
     },
     "metadata": {
      "needs_background": "light"
     },
     "output_type": "display_data"
    }
   ],
   "source": [
    "# 그래프 그리기\n",
    "plt.figure(figsize=(10, 8))\n",
    "\n",
    "# Accuracy 그래프\n",
    "plt.subplot(2, 1, 1)\n",
    "colors = ['b', 'g', 'r', 'c', 'm', 'y', 'orange', 'purple']\n",
    "plt.bar(model_names, accuracies, color=colors)\n",
    "plt.ylabel('Accuracy')\n",
    "plt.title('Comparison of Models by Accuracy')\n",
    "\n",
    "# F1 점수 그래프\n",
    "plt.subplot(2, 1, 2)\n",
    "plt.bar(model_names, f1_scores, color=colors)\n",
    "plt.ylabel('F1 Score')\n",
    "plt.title('Comparison of Models by F1 Score')\n",
    "\n",
    "plt.tight_layout()\n",
    "plt.show()"
   ]
  },
  {
   "cell_type": "markdown",
   "id": "49fbaa64",
   "metadata": {},
   "source": [
    "# 3. 빈도수 상위 1,000개의 단어만 사용"
   ]
  },
  {
   "cell_type": "markdown",
   "id": "495206dd",
   "metadata": {},
   "source": [
    "위에서 했던 과정을 빠르게 진행하고 비교해본다."
   ]
  },
  {
   "cell_type": "code",
   "execution_count": 53,
   "id": "f2880a15",
   "metadata": {},
   "outputs": [],
   "source": [
    "(x_train, y_train), (x_test, y_test) = reuters.load_data(num_words=1000, test_split=0.2)"
   ]
  },
  {
   "cell_type": "code",
   "execution_count": 54,
   "id": "4cad9240",
   "metadata": {},
   "outputs": [
    {
     "name": "stdout",
     "output_type": "stream",
     "text": [
      "Downloading data from https://storage.googleapis.com/tensorflow/tf-keras-datasets/reuters_word_index.json\n",
      "557056/550378 [==============================] - 0s 0us/step\n",
      "565248/550378 [==============================] - 0s 0us/step\n"
     ]
    }
   ],
   "source": [
    "word_index = reuters.get_word_index(path=\"reuters_word_index2.json\")"
   ]
  },
  {
   "cell_type": "code",
   "execution_count": 55,
   "id": "771defc1",
   "metadata": {},
   "outputs": [],
   "source": [
    "index_to_word = { index+3 : word for word, index in word_index.items() }"
   ]
  },
  {
   "cell_type": "code",
   "execution_count": 56,
   "id": "5d22b5a6",
   "metadata": {},
   "outputs": [],
   "source": [
    "for index, token in enumerate((\"<pad>\", \"<sos>\", \"<unk>\")):\n",
    "  index_to_word[index]=token"
   ]
  },
  {
   "cell_type": "code",
   "execution_count": 57,
   "id": "e7a0f6e4",
   "metadata": {},
   "outputs": [
    {
     "name": "stdout",
     "output_type": "stream",
     "text": [
      "8982\n"
     ]
    }
   ],
   "source": [
    "decoded = []\n",
    "for i in range(len(x_train)):\n",
    "    t = ' '.join([index_to_word[index] for index in x_train[i]])\n",
    "    decoded.append(t)\n",
    "\n",
    "x_train = decoded\n",
    "print(len(x_train))"
   ]
  },
  {
   "cell_type": "code",
   "execution_count": 58,
   "id": "4387557d",
   "metadata": {},
   "outputs": [
    {
     "name": "stdout",
     "output_type": "stream",
     "text": [
      "2246\n"
     ]
    }
   ],
   "source": [
    "decoded = []\n",
    "for i in range(len(x_test)):\n",
    "    t = ' '.join([index_to_word[index] for index in x_test[i]])\n",
    "    decoded.append(t)\n",
    "\n",
    "x_test = decoded\n",
    "print(len(x_test))"
   ]
  },
  {
   "cell_type": "markdown",
   "id": "4f643a8e",
   "metadata": {},
   "source": [
    "위에 과정과 동일하게 진행되며 훈련 데이터셋에 있는 8982개의 문장을 사용하며 969개의 고유한 단어가 사용된다."
   ]
  },
  {
   "cell_type": "code",
   "execution_count": 59,
   "id": "608fb11f",
   "metadata": {},
   "outputs": [
    {
     "name": "stdout",
     "output_type": "stream",
     "text": [
      "(8982, 969)\n"
     ]
    }
   ],
   "source": [
    "dtmvector = CountVectorizer()\n",
    "x_train_dtm = dtmvector.fit_transform(x_train)\n",
    "print(x_train_dtm.shape)"
   ]
  },
  {
   "cell_type": "code",
   "execution_count": 60,
   "id": "10a513fb",
   "metadata": {},
   "outputs": [
    {
     "name": "stdout",
     "output_type": "stream",
     "text": [
      "(8982, 969)\n"
     ]
    }
   ],
   "source": [
    "tfidf_transformer = TfidfTransformer()\n",
    "tfidfv = tfidf_transformer.fit_transform(x_train_dtm)\n",
    "print(tfidfv.shape)"
   ]
  },
  {
   "cell_type": "code",
   "execution_count": 61,
   "id": "403ad210",
   "metadata": {},
   "outputs": [
    {
     "name": "stdout",
     "output_type": "stream",
     "text": [
      "MultinomialNB:\n",
      "  Accuracy: 0.7111\n",
      "  F1 Score: 0.1911\n",
      "--------------------------------------------------\n",
      "ComplementNB:\n",
      "  Accuracy: 0.7607\n",
      "  F1 Score: 0.3284\n",
      "--------------------------------------------------\n",
      "LogisticRegression:\n",
      "  Accuracy: 0.9684\n",
      "  F1 Score: 0.9658\n",
      "--------------------------------------------------\n"
     ]
    },
    {
     "name": "stderr",
     "output_type": "stream",
     "text": [
      "/opt/conda/lib/python3.9/site-packages/sklearn/svm/_base.py:1199: ConvergenceWarning: Liblinear failed to converge, increase the number of iterations.\n",
      "  warnings.warn(\n"
     ]
    },
    {
     "name": "stdout",
     "output_type": "stream",
     "text": [
      "LinearSVC:\n",
      "  Accuracy: 0.9637\n",
      "  F1 Score: 0.9645\n",
      "--------------------------------------------------\n",
      "DecisionTree:\n",
      "  Accuracy: 0.6794\n",
      "  F1 Score: 0.2267\n",
      "--------------------------------------------------\n",
      "RandomForest:\n",
      "  Accuracy: 0.9459\n",
      "  F1 Score: 0.9275\n",
      "--------------------------------------------------\n",
      "GradientBoosting:\n",
      "  Accuracy: 0.9292\n",
      "  F1 Score: 0.9219\n",
      "--------------------------------------------------\n",
      "VotingClassifier:\n",
      "  Accuracy: 0.9222\n",
      "  F1 Score: 0.9170\n",
      "--------------------------------------------------\n"
     ]
    }
   ],
   "source": [
    "# 모델 초기화 및 학습\n",
    "models = [\n",
    "    MultinomialNB(),\n",
    "    ComplementNB(),\n",
    "    LogisticRegression(C=10000, penalty='l2', max_iter=3000),\n",
    "    LinearSVC(C=1000, penalty='l1', max_iter=3000, dual=False),\n",
    "    DecisionTreeClassifier(max_depth=10, random_state=0),\n",
    "    RandomForestClassifier(n_estimators=5, random_state=0),\n",
    "    GradientBoostingClassifier(random_state=0)\n",
    "]\n",
    "\n",
    "model_names = [\n",
    "    'MultinomialNB',\n",
    "    'ComplementNB',\n",
    "    'LogisticRegression',\n",
    "    'LinearSVC',\n",
    "    'DecisionTree',\n",
    "    'RandomForest',\n",
    "    'GradientBoosting'\n",
    "]\n",
    "\n",
    "# Voting Classifier\n",
    "voting_classifier = VotingClassifier(estimators=[\n",
    "    ('lr', LogisticRegression(penalty='l2', max_iter=10000, random_state=0)),\n",
    "    ('cnb', ComplementNB()),\n",
    "    ('gb', GradientBoostingClassifier())\n",
    "], voting='soft')\n",
    "models.append(voting_classifier)\n",
    "model_names.append('VotingClassifier')\n",
    "\n",
    "# 각 모델을 학습하고 평가\n",
    "accuracies = []\n",
    "f1_scores = []\n",
    "\n",
    "for model, name in zip(models, model_names):\n",
    "    model.fit(tfidfv, y_train)\n",
    "    y_pred = model.predict(tfidfv)\n",
    "    \n",
    "    accuracy = accuracy_score(y_train, y_pred)\n",
    "    f1 = f1_score(y_train, y_pred, average='macro') # average='macro'각 클래스에 대한 F1 점수의 단순 평균\n",
    "    \n",
    "    accuracies.append(accuracy)\n",
    "    f1_scores.append(f1)\n",
    "    \n",
    "    print(f\"{name}:\")\n",
    "    print(f\"  Accuracy: {accuracy:.4f}\")\n",
    "    print(f\"  F1 Score: {f1:.4f}\")\n",
    "    print(\"-\" * 50)"
   ]
  },
  {
   "cell_type": "markdown",
   "id": "cd560f08",
   "metadata": {},
   "source": [
    "Accuracy는 LogisticRegression이 96.84%로 제일 높게 나왔으며 F1 score 역시 LogisticRegression이 96.58%로 제일 높게 나왔다."
   ]
  },
  {
   "cell_type": "code",
   "execution_count": 62,
   "id": "3c503aa1",
   "metadata": {},
   "outputs": [
    {
     "data": {
      "image/png": "[encoded data removed]",
      "text/plain": [
       "<Figure size 720x576 with 2 Axes>"
      ]
     },
     "metadata": {
      "needs_background": "light"
     },
     "output_type": "display_data"
    }
   ],
   "source": [
    "# 그래프 그리기\n",
    "plt.figure(figsize=(10, 8))\n",
    "\n",
    "# Accuracy 그래프\n",
    "plt.subplot(2, 1, 1)\n",
    "colors = ['b', 'g', 'r', 'c', 'm', 'y', 'orange', 'purple']\n",
    "plt.bar(model_names, accuracies, color=colors)\n",
    "plt.ylabel('Accuracy')\n",
    "plt.title('Comparison of Models by Accuracy')\n",
    "\n",
    "# F1 점수 그래프\n",
    "plt.subplot(2, 1, 2)\n",
    "plt.bar(model_names, f1_scores, color=colors)\n",
    "plt.ylabel('F1 Score')\n",
    "plt.title('Comparison of Models by F1 Score')\n",
    "\n",
    "plt.tight_layout()\n",
    "plt.show()"
   ]
  },
  {
   "cell_type": "markdown",
   "id": "ced1c839",
   "metadata": {},
   "source": [
    "# 4. 딥러닝 모델과 비교해 보기"
   ]
  },
  {
   "cell_type": "markdown",
   "id": "2b586b78",
   "metadata": {},
   "source": [
    "데이터를 로드해주고 위와 똑같이 토큰화를 시켜주고 텍스트 변환하여 DTM생성하고 TF-IDF 변환 후 패딩을 해주고 RNN 모델을 만들었다."
   ]
  },
  {
   "cell_type": "code",
   "execution_count": 241,
   "id": "1f7aeb30",
   "metadata": {},
   "outputs": [],
   "source": [
    "# 데이터 로드\n",
    "(x_train, y_train), (x_val, y_val) = reuters.load_data(num_words=1000, test_split=0.2)\n",
    "num_classes = max(y_train) + 1"
   ]
  },
  {
   "cell_type": "code",
   "execution_count": 242,
   "id": "4437c9cb",
   "metadata": {},
   "outputs": [],
   "source": [
    "# word_index 및 index_to_word 설정\n",
    "word_index = reuters.get_word_index()\n",
    "index_to_word = {index + 3: word for word, index in word_index.items()}\n",
    "\n",
    "for index, token in enumerate((\"<pad>\", \"<sos>\", \"<unk>\")):\n",
    "    index_to_word[index] = token"
   ]
  },
  {
   "cell_type": "code",
   "execution_count": 243,
   "id": "67b51bf7",
   "metadata": {},
   "outputs": [],
   "source": [
    "# 텍스트로 변환\n",
    "decoded_train = [' '.join(index_to_word[index] for index in x_train[i]) for i in range(len(x_train))]\n",
    "decoded_val = [' '.join(index_to_word[index] for index in x_val[i]) for i in range(len(x_val))]"
   ]
  },
  {
   "cell_type": "code",
   "execution_count": 244,
   "id": "4d59cdbd",
   "metadata": {},
   "outputs": [],
   "source": [
    "# DTM 생성\n",
    "dtmvector = CountVectorizer()\n",
    "x_train_dtm = dtmvector.fit_transform(decoded_train)\n",
    "x_val_dtm = dtmvector.transform(decoded_val)"
   ]
  },
  {
   "cell_type": "code",
   "execution_count": 245,
   "id": "50972a25",
   "metadata": {},
   "outputs": [],
   "source": [
    "# TF-IDF 변환\n",
    "tfidf_transformer = TfidfTransformer()\n",
    "tfidfv_train = tfidf_transformer.fit_transform(x_train_dtm)\n",
    "tfidfv_val = tfidf_transformer.transform(x_val_dtm)"
   ]
  },
  {
   "cell_type": "code",
   "execution_count": 246,
   "id": "f7e3b175",
   "metadata": {},
   "outputs": [
    {
     "name": "stdout",
     "output_type": "stream",
     "text": [
      "[[  0   0   0 ...  15  17  12]\n",
      " [  0   0   0 ... 505  17  12]\n",
      " [132  15  39 ...  11  17  12]\n",
      " ...\n",
      " [  0   0   0 ... 407  17  12]\n",
      " [ 89  39  46 ... 364  17  12]\n",
      " [  2 790   2 ... 113  17  12]]\n"
     ]
    }
   ],
   "source": [
    "# RNN 입력을 위한 패딩\n",
    "X_train_pad = pad_sequences(x_train, max_len)\n",
    "X_val_pad = pad_sequences(x_val, max_len)\n",
    "print(X_train_pad)"
   ]
  },
  {
   "cell_type": "code",
   "execution_count": 247,
   "id": "84a822ed",
   "metadata": {},
   "outputs": [
    {
     "name": "stdout",
     "output_type": "stream",
     "text": [
      "Model: \"sequential_22\"\n",
      "_________________________________________________________________\n",
      "Layer (type)                 Output Shape              Param #   \n",
      "=================================================================\n",
      "embedding_22 (Embedding)     (None, None, 64)          1982848   \n",
      "_________________________________________________________________\n",
      "lstm_20 (LSTM)               (None, 128)               98816     \n",
      "_________________________________________________________________\n",
      "dense_35 (Dense)             (None, 64)                8256      \n",
      "_________________________________________________________________\n",
      "dense_36 (Dense)             (None, 46)                2990      \n",
      "=================================================================\n",
      "Total params: 2,092,910\n",
      "Trainable params: 2,092,910\n",
      "Non-trainable params: 0\n",
      "_________________________________________________________________\n"
     ]
    }
   ],
   "source": [
    "# RNN 모델 구성\n",
    "model = Sequential()\n",
    "model.add(Embedding(input_dim=len(word_index) + 3, output_dim=64, input_shape=(None,)))  # input_dim 설정 변경\n",
    "model.add(LSTM(128))\n",
    "model.add(Dense(64))\n",
    "model.add(Dense(num_classes, activation='softmax'))  # 2진 분류\n",
    "model.summary()"
   ]
  },
  {
   "cell_type": "code",
   "execution_count": 248,
   "id": "e50664c3",
   "metadata": {},
   "outputs": [
    {
     "name": "stdout",
     "output_type": "stream",
     "text": [
      "Epoch 1/20\n",
      "141/141 [==============================] - 3s 11ms/step - loss: 2.3947 - accuracy: 0.3923 - val_loss: 1.9500 - val_accuracy: 0.4942\n",
      "Epoch 2/20\n",
      "141/141 [==============================] - 1s 8ms/step - loss: 1.8075 - accuracy: 0.5195 - val_loss: 1.8039 - val_accuracy: 0.5361\n",
      "Epoch 3/20\n",
      "141/141 [==============================] - 1s 8ms/step - loss: 1.7134 - accuracy: 0.5524 - val_loss: 1.7433 - val_accuracy: 0.5472\n",
      "Epoch 4/20\n",
      "141/141 [==============================] - 1s 8ms/step - loss: 1.6840 - accuracy: 0.5579 - val_loss: 1.6859 - val_accuracy: 0.5614\n",
      "Epoch 5/20\n",
      "141/141 [==============================] - 1s 8ms/step - loss: 1.5341 - accuracy: 0.6002 - val_loss: 1.5728 - val_accuracy: 0.5971\n",
      "Epoch 6/20\n",
      "141/141 [==============================] - 1s 8ms/step - loss: 1.4111 - accuracy: 0.6323 - val_loss: 1.4927 - val_accuracy: 0.6269\n",
      "Epoch 7/20\n",
      "141/141 [==============================] - 1s 8ms/step - loss: 1.3038 - accuracy: 0.6622 - val_loss: 1.3957 - val_accuracy: 0.6478\n",
      "Epoch 8/20\n",
      "141/141 [==============================] - 1s 8ms/step - loss: 1.2367 - accuracy: 0.6760 - val_loss: 1.3411 - val_accuracy: 0.6518\n",
      "Epoch 9/20\n",
      "141/141 [==============================] - 1s 8ms/step - loss: 1.1653 - accuracy: 0.6971 - val_loss: 1.3119 - val_accuracy: 0.6643\n",
      "Epoch 10/20\n",
      "141/141 [==============================] - 1s 8ms/step - loss: 1.1234 - accuracy: 0.7050 - val_loss: 1.3315 - val_accuracy: 0.6643\n",
      "Epoch 11/20\n",
      "141/141 [==============================] - 1s 8ms/step - loss: 1.0800 - accuracy: 0.7174 - val_loss: 1.3239 - val_accuracy: 0.6710\n",
      "Epoch 12/20\n",
      "141/141 [==============================] - 1s 8ms/step - loss: 1.0435 - accuracy: 0.7283 - val_loss: 1.3286 - val_accuracy: 0.6696\n",
      "Epoch 13/20\n",
      "141/141 [==============================] - 1s 8ms/step - loss: 1.0081 - accuracy: 0.7351 - val_loss: 1.3385 - val_accuracy: 0.6687\n",
      "Epoch 14/20\n",
      "141/141 [==============================] - 1s 8ms/step - loss: 0.9880 - accuracy: 0.7401 - val_loss: 1.2914 - val_accuracy: 0.6728\n",
      "Epoch 15/20\n",
      "141/141 [==============================] - 1s 8ms/step - loss: 0.9383 - accuracy: 0.7553 - val_loss: 1.2761 - val_accuracy: 0.6870\n",
      "Epoch 16/20\n",
      "141/141 [==============================] - 1s 8ms/step - loss: 0.9063 - accuracy: 0.7627 - val_loss: 1.2770 - val_accuracy: 0.6874\n",
      "Epoch 17/20\n",
      "141/141 [==============================] - 1s 8ms/step - loss: 0.8715 - accuracy: 0.7737 - val_loss: 1.2798 - val_accuracy: 0.7012\n",
      "Epoch 18/20\n",
      "141/141 [==============================] - 1s 8ms/step - loss: 0.8829 - accuracy: 0.7707 - val_loss: 1.2592 - val_accuracy: 0.6972\n",
      "Epoch 19/20\n",
      "141/141 [==============================] - 1s 8ms/step - loss: 0.8444 - accuracy: 0.7807 - val_loss: 1.2853 - val_accuracy: 0.6977\n",
      "Epoch 20/20\n",
      "141/141 [==============================] - 1s 8ms/step - loss: 0.7948 - accuracy: 0.7894 - val_loss: 1.3551 - val_accuracy: 0.6866\n",
      "71/71 [==============================] - 0s 3ms/step - loss: 1.3551 - accuracy: 0.6866\n",
      "Validation Accuracy: 68.66%\n"
     ]
    }
   ],
   "source": [
    "# 모델 컴파일 및 학습\n",
    "model.compile(loss='sparse_categorical_crossentropy', optimizer='adam', metrics=['accuracy'])\n",
    "history = model.fit(X_train_pad, y_train, validation_data=(X_val_pad, y_val), epochs=20, batch_size=64)\n",
    "\n",
    "# 검증 세트에서 모델 평가\n",
    "val_loss, val_acc = model.evaluate(X_val_pad, y_val)\n",
    "print(f\"Validation Accuracy: {val_acc * 100:.2f}%\")\n"
   ]
  },
  {
   "cell_type": "markdown",
   "id": "1b97924a",
   "metadata": {},
   "source": [
    "Validation Accuracy가 68.66%로 그렇게 좋지 못한 결과인 것 같다. 혹시나 데이터 양이 많아서 그럴 수도 있으니 최대 길이를 잘라주고 훈련 시켜보았다."
   ]
  },
  {
   "cell_type": "code",
   "execution_count": null,
   "id": "6c040d1e",
   "metadata": {},
   "outputs": [],
   "source": [
    "# 데이터 로드\n",
    "(x_train, y_train), (x_val, y_val) = reuters.load_data(num_words=1000, test_split=0.2)\n",
    "num_classes = max(y_train) + 1"
   ]
  },
  {
   "cell_type": "code",
   "execution_count": null,
   "id": "f6d5a613",
   "metadata": {},
   "outputs": [],
   "source": [
    "# word_index 및 index_to_word 설정\n",
    "word_index = reuters.get_word_index()\n",
    "index_to_word = {index + 3: word for word, index in word_index.items()}\n",
    "\n",
    "for index, token in enumerate((\"<pad>\", \"<sos>\", \"<unk>\")):\n",
    "    index_to_word[index] = token"
   ]
  },
  {
   "cell_type": "code",
   "execution_count": 250,
   "id": "73f21251",
   "metadata": {},
   "outputs": [
    {
     "name": "stdout",
     "output_type": "stream",
     "text": [
      "훈련용 뉴스의 최대 길이 :2376\n",
      "훈련용 뉴스의 평균 길이 :145.5398574927633\n"
     ]
    },
    {
     "data": {
      "image/png": "[encoded data removed]",
      "text/plain": [
       "<Figure size 432x288 with 1 Axes>"
      ]
     },
     "metadata": {
      "needs_background": "light"
     },
     "output_type": "display_data"
    }
   ],
   "source": [
    "print('훈련용 뉴스의 최대 길이 :{}'.format(max(len(l) for l in x_train)))\n",
    "print('훈련용 뉴스의 평균 길이 :{}'.format(sum(map(len, x_train))/len(x_train)))\n",
    "\n",
    "plt.hist([len(s) for s in x_train], bins=50)\n",
    "plt.xlabel('length of samples')\n",
    "plt.ylabel('number of samples')\n",
    "plt.show()"
   ]
  },
  {
   "cell_type": "markdown",
   "id": "9a514d2f",
   "metadata": {},
   "source": [
    "최대길이 max_len을 90으로 설정하여 샘플 길이를 잘라주었다."
   ]
  },
  {
   "cell_type": "code",
   "execution_count": 254,
   "id": "0649dee7",
   "metadata": {},
   "outputs": [],
   "source": [
    "max_len = 90\n",
    "x_train = [s[:max_len] for s in x_train]"
   ]
  },
  {
   "cell_type": "code",
   "execution_count": 255,
   "id": "d1c732b9",
   "metadata": {},
   "outputs": [
    {
     "name": "stdout",
     "output_type": "stream",
     "text": [
      "최대 길이 :90\n",
      "평균 길이 :74.0359608105099\n"
     ]
    },
    {
     "data": {
      "image/png": "[encoded data removed]",
      "text/plain": [
       "<Figure size 432x288 with 1 Axes>"
      ]
     },
     "metadata": {
      "needs_background": "light"
     },
     "output_type": "display_data"
    }
   ],
   "source": [
    "print('최대 길이 :{}'.format(max(len(l) for l in x_train)))\n",
    "print('평균 길이 :{}'.format(sum(map(len, x_train))/len(x_train)))\n",
    "\n",
    "plt.hist([len(s) for s in x_train], bins=50)\n",
    "plt.xlabel('length of samples')\n",
    "plt.ylabel('number of samples')\n",
    "plt.show()"
   ]
  },
  {
   "cell_type": "code",
   "execution_count": 234,
   "id": "7f76a39c",
   "metadata": {},
   "outputs": [],
   "source": [
    "# 텍스트로 변환\n",
    "decoded_train = [' '.join(index_to_word[index] for index in x_train[i]) for i in range(len(x_train))]\n",
    "decoded_val = [' '.join(index_to_word[index] for index in x_val[i]) for i in range(len(x_val))]"
   ]
  },
  {
   "cell_type": "code",
   "execution_count": 235,
   "id": "180dd981",
   "metadata": {},
   "outputs": [],
   "source": [
    "# DTM 생성\n",
    "dtmvector = CountVectorizer()\n",
    "x_train_dtm = dtmvector.fit_transform(decoded_train)\n",
    "x_val_dtm = dtmvector.transform(decoded_val)"
   ]
  },
  {
   "cell_type": "code",
   "execution_count": 236,
   "id": "b639c691",
   "metadata": {},
   "outputs": [],
   "source": [
    "# TF-IDF 변환\n",
    "tfidf_transformer = TfidfTransformer()\n",
    "tfidfv_train = tfidf_transformer.fit_transform(x_train_dtm)\n",
    "tfidfv_val = tfidf_transformer.transform(x_val_dtm)"
   ]
  },
  {
   "cell_type": "code",
   "execution_count": 237,
   "id": "e3cebfef",
   "metadata": {},
   "outputs": [
    {
     "name": "stdout",
     "output_type": "stream",
     "text": [
      "[[  0   0   0 ...  15  17  12]\n",
      " [  0   0   0 ... 505  17  12]\n",
      " [  1  53  12 ...  92 617  80]\n",
      " ...\n",
      " [  0   0   0 ... 407  17  12]\n",
      " [  1  53  46 ...   9  42  92]\n",
      " [  1 227   2 ...  24 286   2]]\n"
     ]
    }
   ],
   "source": [
    "# RNN 입력을 위한 패딩\n",
    "X_train_pad = pad_sequences(x_train, max_len)\n",
    "X_val_pad = pad_sequences(x_val, max_len)\n",
    "print(X_train_pad)"
   ]
  },
  {
   "cell_type": "code",
   "execution_count": 238,
   "id": "7b5c6aed",
   "metadata": {},
   "outputs": [
    {
     "name": "stdout",
     "output_type": "stream",
     "text": [
      "Model: \"sequential_20\"\n",
      "_________________________________________________________________\n",
      "Layer (type)                 Output Shape              Param #   \n",
      "=================================================================\n",
      "embedding_20 (Embedding)     (None, None, 64)          1982848   \n",
      "_________________________________________________________________\n",
      "lstm_18 (LSTM)               (None, 128)               98816     \n",
      "_________________________________________________________________\n",
      "dense_31 (Dense)             (None, 64)                8256      \n",
      "_________________________________________________________________\n",
      "dense_32 (Dense)             (None, 46)                2990      \n",
      "=================================================================\n",
      "Total params: 2,092,910\n",
      "Trainable params: 2,092,910\n",
      "Non-trainable params: 0\n",
      "_________________________________________________________________\n"
     ]
    }
   ],
   "source": [
    "# RNN 모델 구성\n",
    "model = Sequential()\n",
    "model.add(Embedding(input_dim=len(word_index) + 3, output_dim=64, input_shape=(None,)))  # input_dim 설정 변경\n",
    "model.add(LSTM(128))\n",
    "model.add(Dense(64))\n",
    "model.add(Dense(num_classes, activation='softmax'))  # 2진 분류\n",
    "model.summary()"
   ]
  },
  {
   "cell_type": "code",
   "execution_count": 239,
   "id": "62910d74",
   "metadata": {},
   "outputs": [
    {
     "name": "stdout",
     "output_type": "stream",
     "text": [
      "Epoch 1/20\n",
      "141/141 [==============================] - 3s 11ms/step - loss: 2.3687 - accuracy: 0.3946 - val_loss: 2.4217 - val_accuracy: 0.4622\n",
      "Epoch 2/20\n",
      "141/141 [==============================] - 1s 8ms/step - loss: 1.9238 - accuracy: 0.5024 - val_loss: 1.8495 - val_accuracy: 0.5370\n",
      "Epoch 3/20\n",
      "141/141 [==============================] - 1s 8ms/step - loss: 1.7809 - accuracy: 0.5331 - val_loss: 1.7800 - val_accuracy: 0.5472\n",
      "Epoch 4/20\n",
      "141/141 [==============================] - 1s 8ms/step - loss: 1.6232 - accuracy: 0.5861 - val_loss: 1.7314 - val_accuracy: 0.5663\n",
      "Epoch 5/20\n",
      "141/141 [==============================] - 1s 8ms/step - loss: 1.6142 - accuracy: 0.5689 - val_loss: 1.9579 - val_accuracy: 0.4479\n",
      "Epoch 6/20\n",
      "141/141 [==============================] - 1s 8ms/step - loss: 1.5373 - accuracy: 0.5989 - val_loss: 1.6601 - val_accuracy: 0.5686\n",
      "Epoch 7/20\n",
      "141/141 [==============================] - 1s 8ms/step - loss: 1.3581 - accuracy: 0.6432 - val_loss: 1.5698 - val_accuracy: 0.6069\n",
      "Epoch 8/20\n",
      "141/141 [==============================] - 1s 8ms/step - loss: 1.2286 - accuracy: 0.6811 - val_loss: 1.4889 - val_accuracy: 0.6215\n",
      "Epoch 9/20\n",
      "141/141 [==============================] - 1s 8ms/step - loss: 1.2160 - accuracy: 0.6775 - val_loss: 1.4859 - val_accuracy: 0.6260\n",
      "Epoch 10/20\n",
      "141/141 [==============================] - 1s 8ms/step - loss: 1.1138 - accuracy: 0.7161 - val_loss: 1.3955 - val_accuracy: 0.6487\n",
      "Epoch 11/20\n",
      "141/141 [==============================] - 1s 8ms/step - loss: 1.0857 - accuracy: 0.7213 - val_loss: 1.4255 - val_accuracy: 0.6549\n",
      "Epoch 12/20\n",
      "141/141 [==============================] - 1s 8ms/step - loss: 1.0210 - accuracy: 0.7394 - val_loss: 1.3347 - val_accuracy: 0.6665\n",
      "Epoch 13/20\n",
      "141/141 [==============================] - 1s 8ms/step - loss: 0.9653 - accuracy: 0.7561 - val_loss: 1.3490 - val_accuracy: 0.6781\n",
      "Epoch 14/20\n",
      "141/141 [==============================] - 1s 8ms/step - loss: 0.9113 - accuracy: 0.7729 - val_loss: 1.3630 - val_accuracy: 0.6852\n",
      "Epoch 15/20\n",
      "141/141 [==============================] - 1s 8ms/step - loss: 0.8851 - accuracy: 0.7762 - val_loss: 1.3216 - val_accuracy: 0.6941\n",
      "Epoch 16/20\n",
      "141/141 [==============================] - 1s 8ms/step - loss: 0.8555 - accuracy: 0.7838 - val_loss: 1.3474 - val_accuracy: 0.6745\n",
      "Epoch 17/20\n",
      "141/141 [==============================] - 1s 8ms/step - loss: 0.8131 - accuracy: 0.8009 - val_loss: 1.3692 - val_accuracy: 0.6959\n",
      "Epoch 18/20\n",
      "141/141 [==============================] - 1s 8ms/step - loss: 0.7750 - accuracy: 0.8072 - val_loss: 1.3204 - val_accuracy: 0.7048\n",
      "Epoch 19/20\n",
      "141/141 [==============================] - 1s 8ms/step - loss: 0.7598 - accuracy: 0.8113 - val_loss: 1.3977 - val_accuracy: 0.6999\n",
      "Epoch 20/20\n",
      "141/141 [==============================] - 1s 8ms/step - loss: 0.7318 - accuracy: 0.8176 - val_loss: 1.3782 - val_accuracy: 0.6883\n",
      "71/71 [==============================] - 0s 4ms/step - loss: 1.3782 - accuracy: 0.6883\n",
      "Validation Accuracy: 68.83%\n"
     ]
    }
   ],
   "source": [
    "# 모델 컴파일 및 학습\n",
    "model.compile(loss='sparse_categorical_crossentropy', optimizer='adam', metrics=['accuracy'])\n",
    "history = model.fit(X_train_pad, y_train, validation_data=(X_val_pad, y_val), epochs=20, batch_size=64)\n",
    "\n",
    "# 검증 세트에서 모델 평가\n",
    "val_loss, val_acc = model.evaluate(X_val_pad, y_val)\n",
    "print(f\"Validation Accuracy: {val_acc * 100:.2f}%\")\n"
   ]
  },
  {
   "cell_type": "markdown",
   "id": "638264bd",
   "metadata": {},
   "source": [
    "이것도.. 그렇게 결과가 좋지 못한 것 같다.. 단어 수를 None으로 모든 단어를 학습시켜보자. 과정은 똑같다!"
   ]
  },
  {
   "cell_type": "code",
   "execution_count": 260,
   "id": "4a495d2c",
   "metadata": {},
   "outputs": [],
   "source": [
    "# 데이터 로드\n",
    "(x_train, y_train), (x_val, y_val) = reuters.load_data(num_words=None, test_split=0.2)\n",
    "num_classes = max(y_train) + 1"
   ]
  },
  {
   "cell_type": "code",
   "execution_count": 261,
   "id": "af6c1051",
   "metadata": {},
   "outputs": [],
   "source": [
    "# word_index 및 index_to_word 설정\n",
    "word_index = reuters.get_word_index()\n",
    "index_to_word = {index + 3: word for word, index in word_index.items()}\n",
    "\n",
    "for index, token in enumerate((\"<pad>\", \"<sos>\", \"<unk>\")):\n",
    "    index_to_word[index] = token"
   ]
  },
  {
   "cell_type": "code",
   "execution_count": 262,
   "id": "13a820f6",
   "metadata": {},
   "outputs": [],
   "source": [
    "max_len = 90\n",
    "x_train = [s[:max_len] for s in x_train]"
   ]
  },
  {
   "cell_type": "code",
   "execution_count": 263,
   "id": "bd82ebd2",
   "metadata": {},
   "outputs": [],
   "source": [
    "# 텍스트로 변환\n",
    "decoded_train = [' '.join(index_to_word[index] for index in x_train[i]) for i in range(len(x_train))]\n",
    "decoded_val = [' '.join(index_to_word[index] for index in x_val[i]) for i in range(len(x_val))]"
   ]
  },
  {
   "cell_type": "code",
   "execution_count": 264,
   "id": "1c48746e",
   "metadata": {},
   "outputs": [],
   "source": [
    "# DTM 생성\n",
    "dtmvector = CountVectorizer()\n",
    "x_train_dtm = dtmvector.fit_transform(decoded_train)\n",
    "x_val_dtm = dtmvector.transform(decoded_val)"
   ]
  },
  {
   "cell_type": "code",
   "execution_count": 265,
   "id": "bb79ca68",
   "metadata": {},
   "outputs": [],
   "source": [
    "# TF-IDF 변환\n",
    "tfidf_transformer = TfidfTransformer()\n",
    "tfidfv_train = tfidf_transformer.fit_transform(x_train_dtm)\n",
    "tfidfv_val = tfidf_transformer.transform(x_val_dtm)"
   ]
  },
  {
   "cell_type": "code",
   "execution_count": 267,
   "id": "02d79d2c",
   "metadata": {},
   "outputs": [],
   "source": [
    "# RNN 입력을 위한 패딩\n",
    "X_train_pad = pad_sequences(x_train, max_len)\n",
    "X_val_pad = pad_sequences(x_val, max_len)"
   ]
  },
  {
   "cell_type": "code",
   "execution_count": 268,
   "id": "2ed65bf0",
   "metadata": {},
   "outputs": [
    {
     "name": "stdout",
     "output_type": "stream",
     "text": [
      "Model: \"sequential_23\"\n",
      "_________________________________________________________________\n",
      "Layer (type)                 Output Shape              Param #   \n",
      "=================================================================\n",
      "embedding_23 (Embedding)     (None, None, 64)          1982848   \n",
      "_________________________________________________________________\n",
      "lstm_21 (LSTM)               (None, 128)               98816     \n",
      "_________________________________________________________________\n",
      "dense_37 (Dense)             (None, 64)                8256      \n",
      "_________________________________________________________________\n",
      "dense_38 (Dense)             (None, 46)                2990      \n",
      "=================================================================\n",
      "Total params: 2,092,910\n",
      "Trainable params: 2,092,910\n",
      "Non-trainable params: 0\n",
      "_________________________________________________________________\n"
     ]
    }
   ],
   "source": [
    "# RNN 모델 구성\n",
    "model = Sequential()\n",
    "model.add(Embedding(input_dim=len(word_index) + 3, output_dim=64, input_shape=(None,)))  # input_dim 설정 변경\n",
    "model.add(LSTM(128))\n",
    "model.add(Dense(64))\n",
    "model.add(Dense(num_classes, activation='softmax'))  # 2진 분류\n",
    "model.summary()"
   ]
  },
  {
   "cell_type": "code",
   "execution_count": 269,
   "id": "68801004",
   "metadata": {},
   "outputs": [
    {
     "name": "stdout",
     "output_type": "stream",
     "text": [
      "Epoch 1/20\n",
      "141/141 [==============================] - 3s 10ms/step - loss: 2.2412 - accuracy: 0.4330 - val_loss: 1.9149 - val_accuracy: 0.5080\n",
      "Epoch 2/20\n",
      "141/141 [==============================] - 1s 8ms/step - loss: 1.6600 - accuracy: 0.5610 - val_loss: 1.7393 - val_accuracy: 0.5378\n",
      "Epoch 3/20\n",
      "141/141 [==============================] - 1s 8ms/step - loss: 1.4754 - accuracy: 0.6032 - val_loss: 1.9205 - val_accuracy: 0.5027\n",
      "Epoch 4/20\n",
      "141/141 [==============================] - 1s 8ms/step - loss: 1.3582 - accuracy: 0.6049 - val_loss: 1.6078 - val_accuracy: 0.5833\n",
      "Epoch 5/20\n",
      "141/141 [==============================] - 1s 8ms/step - loss: 1.1976 - accuracy: 0.6814 - val_loss: 1.6436 - val_accuracy: 0.6077\n",
      "Epoch 6/20\n",
      "141/141 [==============================] - 1s 8ms/step - loss: 0.9701 - accuracy: 0.7367 - val_loss: 1.5660 - val_accuracy: 0.6251\n",
      "Epoch 7/20\n",
      "141/141 [==============================] - 1s 8ms/step - loss: 0.8412 - accuracy: 0.7680 - val_loss: 1.5466 - val_accuracy: 0.6229\n",
      "Epoch 8/20\n",
      "141/141 [==============================] - 1s 8ms/step - loss: 0.7431 - accuracy: 0.7979 - val_loss: 1.5945 - val_accuracy: 0.6443\n",
      "Epoch 9/20\n",
      "141/141 [==============================] - 1s 8ms/step - loss: 0.6472 - accuracy: 0.8236 - val_loss: 1.6376 - val_accuracy: 0.6385\n",
      "Epoch 10/20\n",
      "141/141 [==============================] - 1s 7ms/step - loss: 0.5825 - accuracy: 0.8418 - val_loss: 1.7401 - val_accuracy: 0.6278\n",
      "Epoch 11/20\n",
      "141/141 [==============================] - 1s 8ms/step - loss: 0.5252 - accuracy: 0.8606 - val_loss: 1.8141 - val_accuracy: 0.6465\n",
      "Epoch 12/20\n",
      "141/141 [==============================] - 1s 8ms/step - loss: 0.4497 - accuracy: 0.8812 - val_loss: 1.8399 - val_accuracy: 0.6465\n",
      "Epoch 13/20\n",
      "141/141 [==============================] - 1s 8ms/step - loss: 0.3960 - accuracy: 0.8955 - val_loss: 1.9388 - val_accuracy: 0.6554\n",
      "Epoch 14/20\n",
      "141/141 [==============================] - 1s 8ms/step - loss: 0.3744 - accuracy: 0.9033 - val_loss: 1.9925 - val_accuracy: 0.6447\n",
      "Epoch 15/20\n",
      "141/141 [==============================] - 1s 8ms/step - loss: 0.3234 - accuracy: 0.9147 - val_loss: 2.0217 - val_accuracy: 0.6616\n",
      "Epoch 16/20\n",
      "141/141 [==============================] - 1s 8ms/step - loss: 0.2870 - accuracy: 0.9297 - val_loss: 1.9989 - val_accuracy: 0.6460\n",
      "Epoch 17/20\n",
      "141/141 [==============================] - 1s 8ms/step - loss: 0.2617 - accuracy: 0.9331 - val_loss: 2.1136 - val_accuracy: 0.6621\n",
      "Epoch 18/20\n",
      "141/141 [==============================] - 1s 8ms/step - loss: 0.2308 - accuracy: 0.9369 - val_loss: 2.1727 - val_accuracy: 0.6563\n",
      "Epoch 19/20\n",
      "141/141 [==============================] - 1s 8ms/step - loss: 0.2184 - accuracy: 0.9430 - val_loss: 2.1335 - val_accuracy: 0.6585\n",
      "Epoch 20/20\n",
      "141/141 [==============================] - 1s 8ms/step - loss: 0.2024 - accuracy: 0.9444 - val_loss: 2.2465 - val_accuracy: 0.6554\n",
      "71/71 [==============================] - 0s 4ms/step - loss: 2.2465 - accuracy: 0.6554\n",
      "Validation Accuracy: 65.54%\n"
     ]
    }
   ],
   "source": [
    "# 모델 컴파일 및 학습\n",
    "model.compile(loss='sparse_categorical_crossentropy', optimizer='adam', metrics=['accuracy'])\n",
    "history = model.fit(X_train_pad, y_train, validation_data=(X_val_pad, y_val), epochs=20, batch_size=64)\n",
    "\n",
    "# 검증 세트에서 모델 평가\n",
    "val_loss, val_acc = model.evaluate(X_val_pad, y_val)\n",
    "print(f\"Validation Accuracy: {val_acc * 100:.2f}%\")\n"
   ]
  },
  {
   "cell_type": "markdown",
   "id": "20bf3acb",
   "metadata": {},
   "source": [
    "음.. 오히려 모든 단어를 사용해서 그런지 1000개를 적용했을 때보다 Validation Accuracy가 떨어졌다. 결과적으로는 머신러닝이 좋았다!"
   ]
  },
  {
   "cell_type": "markdown",
   "id": "30576f46",
   "metadata": {},
   "source": [
    "# 회고\n",
    "\n",
    "뉴스 기사를 토큰화를 시켜주고 텍스트 변환하여 DTM 생성하고 TF-IDF 변환하여 MultinomialNB, ComplementNB, LogisticRegression, LinearSVC, DecisionTree, RandomForest, 그리고 GradientBoosting 8가지의 모델들로 다양하게 학습해보며 좀 더 전처리를 사용하는 방법에 대해 익숙해질 수 있었던 것 같다. RNN모델을 만들면서 문제가 지속적으로 생겨서 해결하는데에 시간이 많이 소요됐으며 머신러닝 전처리 과정과 마찬가지로 딥러닝도 그대로 사용해도 되는건지 의문이 생겼었다. 또한 사용하는 단어의 수를 어떻게 결정하느냐에 따라서 성능에 영향을 줄 수 있으며 중요도가 낮은 단어들까지 포함해 너무 많은 단어를 사용하는 경우에도 오히려 성능이 저하될 수 있고, 반대로 너무 적은 단어들을 사용해도 성능이 저하될 수 있다는 것을 이번 기회에 알게 되었다. 사실은 크게 다른 결과는 아닌거 같지만.. 아마 RNN모델을 잘못 만들었거나 전처리 과정에서 더 추가적인 게 필요했을 수도 있었을 거 같다. 조금 더 자세하게 공부할 필요성을 느꼈다. \n"
   ]
  }
 ],
 "metadata": {
  "kernelspec": {
   "display_name": "Python 3 (ipykernel)",
   "language": "python",
   "name": "python3"
  },
  "language_info": {
   "codemirror_mode": {
    "name": "ipython",
    "version": 3
   },
   "file_extension": ".py",
   "mimetype": "text/x-python",
   "name": "python",
   "nbconvert_exporter": "python",
   "pygments_lexer": "ipython3",
   "version": "3.9.7"
  }
 },
 "nbformat": 4,
 "nbformat_minor": 5
}
