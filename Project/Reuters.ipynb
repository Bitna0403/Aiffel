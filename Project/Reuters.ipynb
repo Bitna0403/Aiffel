{
 "cells": [
  {
   "cell_type": "markdown",
   "id": "4040c5e8",
   "metadata": {},
   "source": [
    "# Reuters 딥러닝 모델"
   ]
  },
  {
   "cell_type": "markdown",
   "id": "6e32aff7",
   "metadata": {},
   "source": [
    "ReLU와는 다른 활성화함수를 사용해보고, BatchNormalization과 Dropout을 적용해 본다. ModelCheckpoint와 EarlyStopping 콜백 함수도 적용한다."
   ]
  },
  {
   "cell_type": "markdown",
   "id": "2a8d9099",
   "metadata": {},
   "source": [
    "## 데이터 로드 및 전처리"
   ]
  },
  {
   "cell_type": "markdown",
   "id": "5c2138a9",
   "metadata": {},
   "source": [
    "reuters 데이터셋을 로드하고, 훈련 데이터셋에서 25%를 검증 데이터셋으로 분리한다. \n",
    "데이터셋은 keras.datasets에서 불러올 수 있는 reuters 데이터 셋을 활용하고, 이때 파라메터 조정을 통해 단어의 개수는 10000개로 제한한다(num_words=10000).\n",
    "데이터셋 분리 작업에서는 sklearn 라이브러리의 train_test_split 함수를 활용하며 훈련, 검증, 테스트 데이터와 레이블 종류가 몇개인지 출력한다."
   ]
  },
  {
   "cell_type": "code",
   "execution_count": 1,
   "id": "58e4be33",
   "metadata": {},
   "outputs": [],
   "source": [
    "import numpy as np\n",
    "import matplotlib.pyplot as plt\n",
    "from sklearn.model_selection import train_test_split\n",
    "\n",
    "from tensorflow.keras import models, layers\n",
    "from tensorflow.keras import callbacks\n",
    "from tensorflow.keras import utils\n",
    "from keras.datasets import reuters"
   ]
  },
  {
   "cell_type": "code",
   "execution_count": 2,
   "id": "5f0f49c1",
   "metadata": {},
   "outputs": [
    {
     "name": "stdout",
     "output_type": "stream",
     "text": [
      "6736\n",
      "2246\n",
      "2246\n",
      "46\n"
     ]
    }
   ],
   "source": [
    "# 문제 2-1: reuters 데이터셋을 로드하고, 훈련 데이터셋에서 25%를 검증 데이터셋으로 분리합니다.\n",
    "(full_train_data, full_train_labels), (test_data, test_labels) = reuters.load_data(num_words=10000)\n",
    "train_data, val_data, train_labels, val_labels = train_test_split(full_train_data, \n",
    "                                                                  full_train_labels,\n",
    "                                                                  test_size=0.25,\n",
    "                                                                  random_state=123)\n",
    "\n",
    "# 훈련, 검증, 테스트 데이터와 레이블 종류가 몇 개인지 출력합니다.\n",
    "print(len(train_data))\n",
    "print(len(val_data))\n",
    "print(len(test_data))\n",
    "print(len(set(train_labels)))"
   ]
  },
  {
   "cell_type": "markdown",
   "id": "ca2a4db7",
   "metadata": {},
   "source": [
    "텍스트 데이터의 전처리를 위해서 각 데이터셋마다 원-핫 인코딩을 수행한다.\n",
    "레이블 데이터들은 범주형 형태로 to_categorical() 함수를 사용해 변환한다."
   ]
  },
  {
   "cell_type": "code",
   "execution_count": 3,
   "id": "6ee384ba",
   "metadata": {},
   "outputs": [],
   "source": [
    "# 문제 2-2: 텍스트 데이터의 전처리를 위해서 각 데이터셋마다 원-핫 인코딩을 수행합니다.\n",
    "def one_hot_encoding(data, dim=10000):\n",
    "  results = np.zeros((len(data), dim))\n",
    "  for i, d in enumerate(data):\n",
    "    results[i, d] = 1\n",
    "  return results\n",
    "x_train = one_hot_encoding(train_data)\n",
    "x_val = one_hot_encoding(val_data)\n",
    "x_test = one_hot_encoding(test_data)\n",
    "\n",
    "# 레이블 데이터들은 범주형 형태로 to_categorical() 함수를 사용해 변환합니다.\n",
    "y_train = utils.to_categorical(train_labels)\n",
    "y_val = utils.to_categorical(val_labels)\n",
    "y_test = utils.to_categorical(test_labels)"
   ]
  },
  {
   "cell_type": "markdown",
   "id": "cdf94c22",
   "metadata": {},
   "source": [
    "## 모델 구성 및 컴파일"
   ]
  },
  {
   "cell_type": "markdown",
   "id": "5ee0441f",
   "metadata": {},
   "source": [
    "BatchNormalization과 Dropout을 적용하여 빠르게 학습하면서 과대적합을 방지하고, 46개의 뉴스 주제를 분류하는 딥러닝 모델을 구성한다."
   ]
  },
  {
   "cell_type": "code",
   "execution_count": 4,
   "id": "d7326c52",
   "metadata": {},
   "outputs": [
    {
     "name": "stdout",
     "output_type": "stream",
     "text": [
      "Model: \"sequential\"\n",
      "_________________________________________________________________\n",
      "Layer (type)                 Output Shape              Param #   \n",
      "=================================================================\n",
      "dense (Dense)                (None, 128)               1280128   \n",
      "_________________________________________________________________\n",
      "batch_normalization (BatchNo (None, 128)               512       \n",
      "_________________________________________________________________\n",
      "activation (Activation)      (None, 128)               0         \n",
      "_________________________________________________________________\n",
      "dropout (Dropout)            (None, 128)               0         \n",
      "_________________________________________________________________\n",
      "dense_1 (Dense)              (None, 128)               16512     \n",
      "_________________________________________________________________\n",
      "batch_normalization_1 (Batch (None, 128)               512       \n",
      "_________________________________________________________________\n",
      "activation_1 (Activation)    (None, 128)               0         \n",
      "_________________________________________________________________\n",
      "dropout_1 (Dropout)          (None, 128)               0         \n",
      "_________________________________________________________________\n",
      "dense_2 (Dense)              (None, 46)                5934      \n",
      "=================================================================\n",
      "Total params: 1,303,598\n",
      "Trainable params: 1,303,086\n",
      "Non-trainable params: 512\n",
      "_________________________________________________________________\n"
     ]
    }
   ],
   "source": [
    "# 문제 2-3: 빠른 학습과 과대적합을 방지하기 위해 BatchNormalization과 Dropout을 적용한 딥러닝 모델을 구성합니다.\n",
    "model = models.Sequential()\n",
    "model.add(layers.Dense(128, input_shape=(10000, )))\n",
    "model.add(layers.BatchNormalization())\n",
    "model.add(layers.Activation('relu'))\n",
    "model.add(layers.Dropout(0.5))\n",
    "model.add(layers.Dense(128))\n",
    "model.add(layers.BatchNormalization())\n",
    "model.add(layers.Activation('relu'))\n",
    "model.add(layers.Dropout(0.5))\n",
    "model.add(layers.Dense(46, activation='softmax'))\n",
    "\n",
    "model.summary()"
   ]
  },
  {
   "cell_type": "code",
   "execution_count": 5,
   "id": "c95d9977",
   "metadata": {},
   "outputs": [],
   "source": [
    "model.compile(loss='categorical_crossentropy',\n",
    "              optimizer='adam',\n",
    "              metrics=['accuracy'])"
   ]
  },
  {
   "cell_type": "markdown",
   "id": "02a90188",
   "metadata": {},
   "source": [
    "## 모델 학습"
   ]
  },
  {
   "cell_type": "markdown",
   "id": "8fa33324",
   "metadata": {},
   "source": [
    "ModelCheckpoint와 EarlyStopping 콜백 함수를 적용하여 모델 학습을 진행한다."
   ]
  },
  {
   "cell_type": "code",
   "execution_count": 6,
   "id": "358fde4f",
   "metadata": {},
   "outputs": [
    {
     "name": "stdout",
     "output_type": "stream",
     "text": [
      "Epoch 1/100\n",
      "211/211 [==============================] - 3s 7ms/step - loss: 1.9558 - accuracy: 0.5588 - val_loss: 1.5676 - val_accuracy: 0.6990\n",
      "Epoch 2/100\n",
      "211/211 [==============================] - 1s 5ms/step - loss: 1.2307 - accuracy: 0.7041 - val_loss: 1.1556 - val_accuracy: 0.7542\n",
      "Epoch 3/100\n",
      "211/211 [==============================] - 1s 5ms/step - loss: 1.0064 - accuracy: 0.7611 - val_loss: 1.0702 - val_accuracy: 0.7725\n",
      "Epoch 4/100\n",
      "211/211 [==============================] - 1s 5ms/step - loss: 0.8305 - accuracy: 0.8026 - val_loss: 1.0301 - val_accuracy: 0.7805\n",
      "Epoch 5/100\n",
      "211/211 [==============================] - 1s 5ms/step - loss: 0.7090 - accuracy: 0.8257 - val_loss: 1.0123 - val_accuracy: 0.7841\n",
      "Epoch 6/100\n",
      "211/211 [==============================] - 1s 5ms/step - loss: 0.5975 - accuracy: 0.8515 - val_loss: 0.9886 - val_accuracy: 0.7907\n",
      "Epoch 7/100\n",
      "211/211 [==============================] - 1s 5ms/step - loss: 0.5377 - accuracy: 0.8624 - val_loss: 1.0068 - val_accuracy: 0.7925\n",
      "Epoch 8/100\n",
      "211/211 [==============================] - 1s 5ms/step - loss: 0.4896 - accuracy: 0.8760 - val_loss: 0.9889 - val_accuracy: 0.8045\n",
      "Epoch 9/100\n",
      "211/211 [==============================] - 1s 5ms/step - loss: 0.4444 - accuracy: 0.8842 - val_loss: 0.9992 - val_accuracy: 0.8005\n",
      "Epoch 10/100\n",
      "211/211 [==============================] - 1s 5ms/step - loss: 0.4106 - accuracy: 0.8937 - val_loss: 1.0289 - val_accuracy: 0.7961\n",
      "Epoch 11/100\n",
      "211/211 [==============================] - 1s 5ms/step - loss: 0.3779 - accuracy: 0.9060 - val_loss: 1.0415 - val_accuracy: 0.8023\n",
      "Epoch 12/100\n",
      "211/211 [==============================] - 1s 5ms/step - loss: 0.3450 - accuracy: 0.9077 - val_loss: 1.0486 - val_accuracy: 0.8063\n",
      "Epoch 13/100\n",
      "211/211 [==============================] - 1s 5ms/step - loss: 0.3327 - accuracy: 0.9142 - val_loss: 1.0658 - val_accuracy: 0.8023\n",
      "Epoch 14/100\n",
      "211/211 [==============================] - 1s 5ms/step - loss: 0.3139 - accuracy: 0.9169 - val_loss: 1.0562 - val_accuracy: 0.8032\n",
      "Epoch 15/100\n",
      "211/211 [==============================] - 1s 5ms/step - loss: 0.3018 - accuracy: 0.9201 - val_loss: 1.0906 - val_accuracy: 0.8063\n",
      "Epoch 16/100\n",
      "211/211 [==============================] - 1s 5ms/step - loss: 0.2939 - accuracy: 0.9265 - val_loss: 1.0936 - val_accuracy: 0.8028\n"
     ]
    }
   ],
   "source": [
    "# 문제 2-4: ModelCheckpoint와 EarlyStopping 콜백 함수를 적용하여 모델 학습을 진행합니다.\n",
    "check_point_cb = callbacks.ModelCheckpoint('keras_reuters_model.h5', save_best_only=True)\n",
    "early_stopping_cb = callbacks.EarlyStopping(patience=10, monitor='val_loss',\n",
    "                                            restore_best_weights=True)\n",
    "history = model.fit(x_train, y_train, epochs=100,\n",
    "                    validation_data=(x_val, y_val),\n",
    "                    callbacks=[check_point_cb, early_stopping_cb])"
   ]
  },
  {
   "cell_type": "markdown",
   "id": "d57ed418",
   "metadata": {},
   "source": [
    "학습 히스토리의 loss, val_loss, accuracy, val_accuracy를 차트로 시각화한다."
   ]
  },
  {
   "cell_type": "code",
   "execution_count": 7,
   "id": "7e8e9732",
   "metadata": {},
   "outputs": [
    {
     "data": {
      "image/png": "[encoded data removed]",
      "text/plain": [
       "<Figure size 864x360 with 2 Axes>"
      ]
     },
     "metadata": {},
     "output_type": "display_data"
    }
   ],
   "source": [
    "# 학습 히스토리의 `loss`, `val_loss`, `accuracy`, `val_accuracy`를 차트로 시각화합니다.\n",
    "plt.style.use('seaborn-white')\n",
    "\n",
    "history_dict = history.history\n",
    "\n",
    "loss = history_dict['loss']\n",
    "val_loss = history_dict['val_loss']\n",
    "\n",
    "epochs = range(1, len(loss) + 1)\n",
    "fig = plt.figure(figsize=(12, 5))\n",
    "\n",
    "ax1 = fig.add_subplot(1, 2, 1)\n",
    "ax1.plot(epochs, loss, 'b-', label='train_loss')\n",
    "ax1.plot(epochs, val_loss, 'r-', label='val_loss')\n",
    "ax1.set_title('Train and Validation Loss')\n",
    "ax1.set_xlabel('Epochs')\n",
    "ax1.set_ylabel('Loss')\n",
    "ax1.grid()\n",
    "ax1.legend()\n",
    "\n",
    "accuracy = history_dict['accuracy']\n",
    "val_accuracy = history_dict['val_accuracy']\n",
    "\n",
    "ax2 = fig.add_subplot(1, 2, 2)\n",
    "ax2.plot(epochs, accuracy, 'b-', label='train_accuracy')\n",
    "ax2.plot(epochs, val_accuracy, 'r-', label='val_accuracy')\n",
    "ax2.set_title('Train and Validation Accuracy')\n",
    "ax2.set_xlabel('Epochs')\n",
    "ax2.set_ylabel('Accuracy')\n",
    "ax2.grid()\n",
    "ax2.legend()\n",
    "\n",
    "plt.show()"
   ]
  },
  {
   "cell_type": "markdown",
   "id": "a7758d86",
   "metadata": {},
   "source": [
    "## 모델 평가 및 예측"
   ]
  },
  {
   "cell_type": "markdown",
   "id": "1fd6277b",
   "metadata": {},
   "source": [
    "테스트 데이터셋을 이용해 모델을 평가한다."
   ]
  },
  {
   "cell_type": "code",
   "execution_count": 8,
   "id": "ac641e3f",
   "metadata": {},
   "outputs": [
    {
     "name": "stdout",
     "output_type": "stream",
     "text": [
      "71/71 [==============================] - 0s 3ms/step - loss: 0.9823 - accuracy: 0.7890\n"
     ]
    },
    {
     "data": {
      "text/plain": [
       "[0.9822595715522766, 0.7889581322669983]"
      ]
     },
     "execution_count": 8,
     "metadata": {},
     "output_type": "execute_result"
    }
   ],
   "source": [
    "# 문제 2-5: 테스트 데이터셋을 이용해 모델을 평가합니다.\n",
    "model.evaluate(x_test, y_test)"
   ]
  }
 ],
 "metadata": {
  "kernelspec": {
   "display_name": "Python 3 (ipykernel)",
   "language": "python",
   "name": "python3"
  },
  "language_info": {
   "codemirror_mode": {
    "name": "ipython",
    "version": 3
   },
   "file_extension": ".py",
   "mimetype": "text/x-python",
   "name": "python",
   "nbconvert_exporter": "python",
   "pygments_lexer": "ipython3",
   "version": "3.9.7"
  }
 },
 "nbformat": 4,
 "nbformat_minor": 5
}
